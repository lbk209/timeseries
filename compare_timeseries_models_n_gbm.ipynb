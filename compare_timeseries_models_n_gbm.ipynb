{
 "cells": [
  {
   "cell_type": "markdown",
   "id": "403b7c49-b1e4-4567-b300-d0cf4343f1ef",
   "metadata": {},
   "source": [
    "# Setting"
   ]
  },
  {
   "cell_type": "markdown",
   "id": "589d964f-db11-4ee9-b31e-43a56aa2ed1c",
   "metadata": {},
   "source": [
    "## Libraries"
   ]
  },
  {
   "cell_type": "code",
   "execution_count": 1,
   "id": "4c83acee-3f1c-4594-883d-7c9aa7615e83",
   "metadata": {
    "tags": []
   },
   "outputs": [
    {
     "name": "stderr",
     "output_type": "stream",
     "text": [
      "Loading required package: xts\n",
      "\n",
      "Loading required package: zoo\n",
      "\n",
      "\n",
      "Attaching package: ‘zoo’\n",
      "\n",
      "\n",
      "The following objects are masked from ‘package:base’:\n",
      "\n",
      "    as.Date, as.Date.numeric\n",
      "\n",
      "\n",
      "Loading required package: TTR\n",
      "\n",
      "Registered S3 method overwritten by 'quantmod':\n",
      "  method            from\n",
      "  as.zoo.data.frame zoo \n",
      "\n",
      "Loading required package: parallel\n",
      "\n",
      "\n",
      "Attaching package: ‘rugarch’\n",
      "\n",
      "\n",
      "The following object is masked from ‘package:stats’:\n",
      "\n",
      "    sigma\n",
      "\n",
      "\n"
     ]
    }
   ],
   "source": [
    "library(quantmod)\n",
    "library(forecast)\n",
    "library(rugarch)"
   ]
  },
  {
   "cell_type": "code",
   "execution_count": 2,
   "id": "f76fd154-b6aa-4ba4-aac9-d547d3227669",
   "metadata": {},
   "outputs": [
    {
     "name": "stderr",
     "output_type": "stream",
     "text": [
      "Loading required package: Rcpp\n",
      "\n",
      "Loading required package: rlang\n",
      "\n",
      "\n",
      "Attaching package: ‘dplyr’\n",
      "\n",
      "\n",
      "The following objects are masked from ‘package:xts’:\n",
      "\n",
      "    first, last\n",
      "\n",
      "\n",
      "The following objects are masked from ‘package:stats’:\n",
      "\n",
      "    filter, lag\n",
      "\n",
      "\n",
      "The following objects are masked from ‘package:base’:\n",
      "\n",
      "    intersect, setdiff, setequal, union\n",
      "\n",
      "\n",
      "Loading required package: BoomSpikeSlab\n",
      "\n",
      "Loading required package: Boom\n",
      "\n",
      "Loading required package: MASS\n",
      "\n",
      "\n",
      "Attaching package: ‘MASS’\n",
      "\n",
      "\n",
      "The following object is masked from ‘package:dplyr’:\n",
      "\n",
      "    select\n",
      "\n",
      "\n",
      "\n",
      "Attaching package: ‘Boom’\n",
      "\n",
      "\n",
      "The following object is masked from ‘package:stats’:\n",
      "\n",
      "    rWishart\n",
      "\n",
      "\n",
      "\n",
      "Attaching package: ‘BoomSpikeSlab’\n",
      "\n",
      "\n",
      "The following object is masked from ‘package:stats’:\n",
      "\n",
      "    knots\n",
      "\n",
      "\n",
      "\n",
      "Attaching package: ‘bsts’\n",
      "\n",
      "\n",
      "The following object is masked from ‘package:BoomSpikeSlab’:\n",
      "\n",
      "    SuggestBurn\n",
      "\n",
      "\n",
      "\n",
      "Attaching package: ‘xgboost’\n",
      "\n",
      "\n",
      "The following object is masked from ‘package:dplyr’:\n",
      "\n",
      "    slice\n",
      "\n",
      "\n"
     ]
    }
   ],
   "source": [
    "library(prophet)\n",
    "library(dplyr)\n",
    "\n",
    "library(bsts)\n",
    "\n",
    "library(xgboost)"
   ]
  },
  {
   "cell_type": "markdown",
   "id": "8a36dd52-ad96-4245-9985-ef4ee04f7323",
   "metadata": {},
   "source": [
    "### user's defined"
   ]
  },
  {
   "cell_type": "code",
   "execution_count": 3,
   "id": "7c1cae5f-cb19-423f-9f75-23355f2b58d2",
   "metadata": {},
   "outputs": [],
   "source": [
    "path <- '~/works/utils/r'\n",
    "source(paste(path, \"myutils.r\", sep='/'))\n",
    "source(paste(path, \"myarimagarch.r\", sep='/'))"
   ]
  },
  {
   "cell_type": "code",
   "execution_count": 4,
   "id": "e1ca76d8-f191-41d9-b2f7-320cad9fd35a",
   "metadata": {},
   "outputs": [],
   "source": [
    "new.get_result <- function(x, group, group.col='Models',\n",
    "                          errors=c('rmse','mape') # unconditional forecast\n",
    "                          #errors=c('rmse.mean','mape.mean') # daily forecast\n",
    "                          ) {\n",
    "    y <- my.get_result(x, group, errors=errors, group.col=group.col)\n",
    "    colnames(y) <- c('rmse','mape',group.col)\n",
    "    return(y)\n",
    "}\n",
    "\n",
    "\n",
    "new.plot_errors <- function(x, group.col='Models', ...) {\n",
    "    my.plot_errors(x, metrics=c('rmse'), group.col=group.col, ...)\n",
    "}\n",
    "\n",
    "# forecast only at h\n",
    "new.forecast <- function(x, h, forecastfunction, ...) {\n",
    "    fc <- forecastfunction(x, h, ...)\n",
    "    fc <- list(method = paste(\"Forecasting on\", h, sep=' '), mean=fc$mean[h])\n",
    "}"
   ]
  },
  {
   "cell_type": "markdown",
   "id": "81965efe-0310-4a8f-bab8-f7d92d9d839f",
   "metadata": {},
   "source": [
    "## Data"
   ]
  },
  {
   "cell_type": "markdown",
   "id": "10b7c1c3-673b-420b-9e3c-c94ac7936b24",
   "metadata": {},
   "source": [
    "### S&P 500"
   ]
  },
  {
   "cell_type": "code",
   "execution_count": 5,
   "id": "ae10fdf1-3592-4ea5-8ae2-d5917a507e41",
   "metadata": {},
   "outputs": [],
   "source": [
    "train_start <- '1991-01-01'\n",
    "train_end <- '2019-12-31'\n",
    "\n",
    "test_start <- '2020-01-01'\n",
    "test_end <- '2020-12-31'"
   ]
  },
  {
   "cell_type": "code",
   "execution_count": 6,
   "id": "ee333ae3-056f-4986-aef5-64e8a03fcc45",
   "metadata": {},
   "outputs": [
    {
     "data": {
      "text/html": [
       "'^GSPC'"
      ],
      "text/latex": [
       "'\\textasciicircum{}GSPC'"
      ],
      "text/markdown": [
       "'^GSPC'"
      ],
      "text/plain": [
       "[1] \"^GSPC\""
      ]
     },
     "metadata": {},
     "output_type": "display_data"
    }
   ],
   "source": [
    "from <- train_start\n",
    "to <- test_end\n",
    "getSymbols(\"^GSPC\", from=from, to=to)"
   ]
  },
  {
   "cell_type": "code",
   "execution_count": 7,
   "id": "214a3960-5dd7-47be-90ef-2e258d043250",
   "metadata": {
    "tags": []
   },
   "outputs": [],
   "source": [
    "spx <- GSPC\n",
    "colnames(spx) <- c('o','h','l','c','v','a')"
   ]
  },
  {
   "cell_type": "markdown",
   "id": "019dcc7f-aabe-4e1a-bced-ba8dcc21036b",
   "metadata": {},
   "source": [
    "### Return"
   ]
  },
  {
   "cell_type": "code",
   "execution_count": 8,
   "id": "8becee7d-33dc-4db2-bab9-71e87158d6cf",
   "metadata": {},
   "outputs": [],
   "source": [
    "lookahead <- 21"
   ]
  },
  {
   "cell_type": "code",
   "execution_count": 9,
   "id": "afb9af71-95b5-4285-93a0-0e5913510963",
   "metadata": {},
   "outputs": [
    {
     "data": {
      "text/plain": [
       "               logret\n",
       "1991-01-31 0.05216129\n",
       "1991-02-01 0.06360416\n",
       "1991-02-04 0.08173788\n",
       "1991-02-05 0.10755822\n",
       "1991-02-06 0.12847341\n",
       "1991-02-07 0.13502311"
      ]
     },
     "metadata": {},
     "output_type": "display_data"
    }
   ],
   "source": [
    "spx.ret <- diff(log(spx$a), lookahead)\n",
    "spx.ret <- na.omit(spx.ret)\n",
    "colnames(spx.ret) <- 'logret'\n",
    "head(spx.ret)"
   ]
  },
  {
   "cell_type": "code",
   "execution_count": 10,
   "id": "651c6501-6ff3-4d97-a129-65e3ee317cd8",
   "metadata": {},
   "outputs": [],
   "source": [
    "train <- window(spx.ret, end=as.Date(train_end))\n",
    "test <- window(spx.ret, start=as.Date(test_start), end=as.Date(test_end))"
   ]
  },
  {
   "cell_type": "markdown",
   "id": "4bf7c574-fcaf-41e8-a22e-97b2caadd84a",
   "metadata": {},
   "source": [
    "## CV Settings"
   ]
  },
  {
   "cell_type": "code",
   "execution_count": 11,
   "id": "4ad305fe-7f89-4186-a651-1873d64ef6d7",
   "metadata": {},
   "outputs": [],
   "source": [
    "YEAR <- 252\n",
    "\n",
    "#hori <- floor(YEAR/2)\n",
    "#hori <- floor(YEAR/6)\n",
    "hori <- floor(YEAR/12)\n",
    "\n",
    "#peri <- floor(hori/2)\n",
    "#peri <- hori*2\n",
    "peri <- hori\n",
    "\n",
    "#wind <- 5*YEAR\n",
    "#wind <- 7*YEAR\n",
    "wind <- 9*YEAR"
   ]
  },
  {
   "cell_type": "markdown",
   "id": "5f16cf2d-16cb-45ad-adb3-4dfc8bcfda22",
   "metadata": {},
   "source": [
    "### testing\n",
    "- rerun Regressors"
   ]
  },
  {
   "cell_type": "code",
   "execution_count": 12,
   "id": "6af023f6-9782-43de-ad8a-60f12ef422a0",
   "metadata": {},
   "outputs": [],
   "source": [
    "train_start <- '1991-01-01'\n",
    "#train_end <- '2000-12-31'\n",
    "train_end <- '2000-07-01'\n",
    "#train_end <- '1997-12-31'\n",
    "train <- window(spx.ret, start=as.Date(train_start), end=as.Date(train_end))"
   ]
  },
  {
   "cell_type": "code",
   "execution_count": 13,
   "id": "493d63b9-0a03-4771-9aa1-53e0d58166f6",
   "metadata": {},
   "outputs": [
    {
     "name": "stdout",
     "output_type": "stream",
     "text": [
      "[1] \"number of iterations: 4\"\n"
     ]
    }
   ],
   "source": [
    "n <- (nrow(train) - wind - hori)/floor(peri)\n",
    "print(paste('number of iterations: ', round(n), sep=''))"
   ]
  },
  {
   "cell_type": "markdown",
   "id": "f0a0b3d6-8fa4-4911-9127-b372ec88ba57",
   "metadata": {},
   "source": [
    "## Regressors"
   ]
  },
  {
   "cell_type": "code",
   "execution_count": 14,
   "id": "f87d6209-3593-4659-b754-eef50734902f",
   "metadata": {
    "tags": []
   },
   "outputs": [],
   "source": [
    "x <- RSI(spx$a)\n",
    "trainx <- merge(train, x, join='left', fill=NA)"
   ]
  },
  {
   "cell_type": "code",
   "execution_count": 15,
   "id": "063c43c3-688b-49ac-a6e2-89690219b630",
   "metadata": {},
   "outputs": [],
   "source": [
    "# use close instead of adjusted to make consistent with \"un-adjusted\" high & low\n",
    "x <- BBands(spx[,c('h','l','c')])\n",
    "x <- x$pctB\n",
    "trainx <- merge(trainx, x, join='left', fill=NA)"
   ]
  },
  {
   "cell_type": "code",
   "execution_count": 16,
   "id": "ff082501-d546-4510-bf61-43cfec923f72",
   "metadata": {
    "tags": []
   },
   "outputs": [],
   "source": [
    "x <- MACD(spx$a)\n",
    "x <- x$macd - x$signal\n",
    "trainx <- merge(trainx, x, join='left', fill=NA)"
   ]
  },
  {
   "cell_type": "code",
   "execution_count": 17,
   "id": "befa6d49-0a1c-4bc7-8083-45ac91a02823",
   "metadata": {},
   "outputs": [
    {
     "data": {
      "text/plain": [
       "                    y      rsi    bbands        macd\n",
       "1991-02-19 0.10602550 72.59254 0.8419486 -0.03641515\n",
       "1991-02-20 0.09798126 66.25313 0.7706927 -0.18551057\n",
       "1991-02-21 0.10585688 66.00481 0.7330987 -0.30953562\n",
       "1991-02-22 0.10194779 66.54491 0.7402938 -0.39546732\n",
       "1991-02-25 0.09259647 67.84742 0.7305630 -0.43573971\n",
       "1991-02-26 0.07655978 60.80133 0.6379610 -0.55105032"
      ]
     },
     "metadata": {},
     "output_type": "display_data"
    },
    {
     "data": {
      "text/plain": [
       "                     y      rsi     bbands       macd\n",
       "2000-06-23 0.029876880 47.13396 0.40920416 -0.1088462\n",
       "2000-06-26 0.052034620 50.64070 0.40102251 -0.1442926\n",
       "2000-06-27 0.051295128 49.42550 0.37500690 -0.1853993\n",
       "2000-06-28 0.022501442 50.57133 0.36546065 -0.1879657\n",
       "2000-06-29 0.015222170 47.21761 0.01442227 -0.2389682\n",
       "2000-06-30 0.003988362 50.67776 0.18222374 -0.2091274"
      ]
     },
     "metadata": {},
     "output_type": "display_data"
    }
   ],
   "source": [
    "colnames(trainx) <- c('y','rsi','bbands','macd')\n",
    "trainx <- na.omit(trainx)\n",
    "head(trainx)\n",
    "tail(trainx)"
   ]
  },
  {
   "cell_type": "markdown",
   "id": "5049d74b-5700-4b0c-af48-c2d74dc6d9cd",
   "metadata": {},
   "source": [
    "# Prophet"
   ]
  },
  {
   "cell_type": "markdown",
   "id": "9653be84-20b9-4aad-b230-55cfa4fc581c",
   "metadata": {},
   "source": [
    "## Setting"
   ]
  },
  {
   "cell_type": "code",
   "execution_count": 58,
   "id": "2842860f-ca3a-4757-9d7e-a0f608b8b9e5",
   "metadata": {},
   "outputs": [],
   "source": [
    "cv.forecast <- function(x, h, xreg=NULL, xreg.msize=NULL) {\n",
    "    \n",
    "    check.ds <- function(x) {\n",
    "        d <- try(as.POSIXct(x$ds, format = \"%Y-%m-%d\"), silent=T)\n",
    "        if ((sum(is.na(d))>0) | (is.element(\"try-error\", class(d))))  {\n",
    "            #print(\"That wasn't correct!\")\n",
    "            x$ds <- seq(as.Date('1901-01-01'), length.out=length(x$ds), by=1)\n",
    "        }\n",
    "        return(x)\n",
    "    }\n",
    "    \n",
    "    model <- prophet()\n",
    "\n",
    "    if (!is.null(xreg)) {\n",
    "        ### convert data for prophet\n",
    "        #x <- ifelse(is.null(dim(x)), data.frame(x), x) # not works\n",
    "        if (is.null(dim(x))) {x <- data.frame(x)}\n",
    "        colnames(x) <- 'y'\n",
    "        x.train <- cbind(x, xreg)\n",
    "        x.train <- as.data.frame(x.train)\n",
    "        x.train <- cbind(ds=rownames(x.train), x.train)\n",
    "        rownames(x.train) <- NULL\n",
    "        x.train <- check.ds(x.train)\n",
    "\n",
    "        ### add regressors before fitting\n",
    "        for (c in colnames(xreg)) {\n",
    "            model <- add_regressor(model, c)\n",
    "        }\n",
    "\n",
    "        ### fit: must run after add_regressor and before make_future_dataframe\n",
    "        model <- fit.prophet(model, x.train)\n",
    "\n",
    "        ### prepare future ds\n",
    "        future <- make_future_dataframe(model, periods=h)\n",
    "\n",
    "        # regessor assumption for future\n",
    "        if (is.null(xreg.msize)) {\n",
    "            xreg.m <- xreg # calc mean for future with all the xreg\n",
    "        } else {\n",
    "            # calc mean for future with xreg of length xreg.mszie\n",
    "            xreg.m <- tail(xreg, n=xreg.msize)\n",
    "        }\n",
    "        \n",
    "        if (is.null(dim(xreg))) {\n",
    "            xreg.h <- mean(xreg.m)\n",
    "        } else {\n",
    "            xreg.h <- colMeans(xreg.m)  \n",
    "        }\n",
    "\n",
    "        # rbind history & future of xreg\n",
    "        xreg.all <- data.frame(xreg)\n",
    "        xreg.coln <- colnames(xreg.all) # save name for the case of single xreg\n",
    "\n",
    "        xreg.h <- data.frame(xreg.h)\n",
    "        colnames(xreg.h) <- colnames(NA)\n",
    "        xreg.h <- t(xreg.h)\n",
    "        xreg.h <- as.ts(xreg.h[rep(seq_len(nrow(xreg.h)), h), ])\n",
    "        xreg.h <- data.frame(xreg.h) # convert to frame for the case of single xreg\n",
    "        \n",
    "        # update future\n",
    "        if ((dim(xreg.h)[2]==1) & (dim(xreg.h)[1]==length(xreg.coln))) {\n",
    "            xreg.h <- t(xreg.h) # the case of h==1\n",
    "        }\n",
    "        colnames(xreg.h) <- xreg.coln # match name to rbind\n",
    "        #xreg.all <- rbind(xreg.all, xreg.h)\n",
    "        xreg.all <- rbind(as.matrix(xreg.all), xreg.h) \n",
    "        xreg.all <- data.frame(xreg.all, row.names = NULL) \n",
    "        xreg.all$ds <- future$ds\n",
    "        future <- xreg.all\n",
    "\n",
    "    } else {\n",
    "        x.train <- data.frame(ds=index(x), y=as.numeric(x))\n",
    "        x.train <- check.ds(x.train)\n",
    "        model <- fit.prophet(model, x.train)\n",
    "        future <- make_future_dataframe(model, periods=h)\n",
    "    }\n",
    "\n",
    "    fc <- predict(model, future)\n",
    "    fc <- list(method = \"Prophet Forecasting\", mean=tail(fc$yhat, h),\n",
    "               model=model, pred=fc) # save model & pred result as well\n",
    "    return(fc)\n",
    "} \n",
    "\n",
    "prophet.forecast <- cv.forecast"
   ]
  },
  {
   "cell_type": "code",
   "execution_count": 59,
   "id": "58748625-2a70-41e8-8e78-59a2a1b18b5e",
   "metadata": {},
   "outputs": [],
   "source": [
    "cv.forecast.2 <- function(x, h, ...) {\n",
    "    new.forecast(x, h, cv.forecast, ...)\n",
    "}"
   ]
  },
  {
   "cell_type": "markdown",
   "id": "b1e0fb38-d451-44d8-8834-ba4d69d19781",
   "metadata": {},
   "source": [
    "## Basic"
   ]
  },
  {
   "cell_type": "code",
   "execution_count": 61,
   "id": "0dd96713-bac0-45e7-acee-91b3db181205",
   "metadata": {
    "scrolled": true,
    "tags": []
   },
   "outputs": [
    {
     "name": "stderr",
     "output_type": "stream",
     "text": [
      "Disabling daily seasonality. Run prophet with daily.seasonality=TRUE to override this.\n",
      "\n"
     ]
    },
    {
     "name": "stdout",
     "output_type": "stream",
     "text": [
      "[1] \"17 % done.\"\n"
     ]
    },
    {
     "name": "stderr",
     "output_type": "stream",
     "text": [
      "Disabling daily seasonality. Run prophet with daily.seasonality=TRUE to override this.\n",
      "\n"
     ]
    },
    {
     "name": "stdout",
     "output_type": "stream",
     "text": [
      "[1] \"33 % done.\"\n"
     ]
    },
    {
     "name": "stderr",
     "output_type": "stream",
     "text": [
      "Disabling daily seasonality. Run prophet with daily.seasonality=TRUE to override this.\n",
      "\n"
     ]
    },
    {
     "name": "stdout",
     "output_type": "stream",
     "text": [
      "[1] \"50 % done.\"\n"
     ]
    },
    {
     "name": "stderr",
     "output_type": "stream",
     "text": [
      "Disabling daily seasonality. Run prophet with daily.seasonality=TRUE to override this.\n",
      "\n"
     ]
    },
    {
     "name": "stdout",
     "output_type": "stream",
     "text": [
      "[1] \"67 % done.\"\n"
     ]
    },
    {
     "name": "stderr",
     "output_type": "stream",
     "text": [
      "Disabling daily seasonality. Run prophet with daily.seasonality=TRUE to override this.\n",
      "\n"
     ]
    },
    {
     "name": "stdout",
     "output_type": "stream",
     "text": [
      "[1] \"83 % done.\"\n"
     ]
    },
    {
     "name": "stderr",
     "output_type": "stream",
     "text": [
      "Disabling daily seasonality. Run prophet with daily.seasonality=TRUE to override this.\n",
      "\n"
     ]
    },
    {
     "name": "stdout",
     "output_type": "stream",
     "text": [
      "[1] \"100 % done.\"\n"
     ]
    }
   ],
   "source": [
    "result.m01.1 <- my.tsCV(train, cv.forecast.2, h=hori, window=wind, step=peri,\n",
    "                        silent=F)"
   ]
  },
  {
   "cell_type": "code",
   "execution_count": 62,
   "id": "1ac8981d-15bf-408c-9638-7b4754cbf984",
   "metadata": {},
   "outputs": [
    {
     "name": "stdout",
     "output_type": "stream",
     "text": [
      "[1] \"cv starts from 2000-01-24\"\n"
     ]
    }
   ],
   "source": [
    "x <- result.m01.1\n",
    "from <- na.omit(x[,1])[1]\n",
    "from <- index(train[from])\n",
    "print(paste('cv starts from', from, sep=' '))"
   ]
  },
  {
   "cell_type": "markdown",
   "id": "77c1ddd0-be96-456c-878f-5386005d6092",
   "metadata": {},
   "source": [
    "## Additional regressors"
   ]
  },
  {
   "cell_type": "code",
   "execution_count": 71,
   "id": "5003bce6-1677-46e3-a84f-18b57b7872bc",
   "metadata": {
    "scrolled": true,
    "tags": []
   },
   "outputs": [
    {
     "name": "stderr",
     "output_type": "stream",
     "text": [
      "Disabling daily seasonality. Run prophet with daily.seasonality=TRUE to override this.\n",
      "\n"
     ]
    },
    {
     "name": "stdout",
     "output_type": "stream",
     "text": [
      "[1] \"20 % done.\"\n"
     ]
    },
    {
     "name": "stderr",
     "output_type": "stream",
     "text": [
      "Disabling daily seasonality. Run prophet with daily.seasonality=TRUE to override this.\n",
      "\n"
     ]
    },
    {
     "name": "stdout",
     "output_type": "stream",
     "text": [
      "[1] \"40 % done.\"\n"
     ]
    },
    {
     "name": "stderr",
     "output_type": "stream",
     "text": [
      "Disabling daily seasonality. Run prophet with daily.seasonality=TRUE to override this.\n",
      "\n"
     ]
    },
    {
     "name": "stdout",
     "output_type": "stream",
     "text": [
      "[1] \"60 % done.\"\n"
     ]
    },
    {
     "name": "stderr",
     "output_type": "stream",
     "text": [
      "Disabling daily seasonality. Run prophet with daily.seasonality=TRUE to override this.\n",
      "\n"
     ]
    },
    {
     "name": "stdout",
     "output_type": "stream",
     "text": [
      "[1] \"80 % done.\"\n"
     ]
    },
    {
     "name": "stderr",
     "output_type": "stream",
     "text": [
      "Disabling daily seasonality. Run prophet with daily.seasonality=TRUE to override this.\n",
      "\n"
     ]
    },
    {
     "name": "stdout",
     "output_type": "stream",
     "text": [
      "[1] \"100 % done.\"\n"
     ]
    }
   ],
   "source": [
    "result.m01.2 <- my.tsCV(trainx[,1], cv.forecast.2, h=hori, window=wind, step=peri,\n",
    "                          xreg=trainx[,2:4],\n",
    "                          silent=F)"
   ]
  },
  {
   "cell_type": "code",
   "execution_count": 73,
   "id": "e2d5fe22-e405-4131-96d3-1cf18723f552",
   "metadata": {
    "scrolled": true,
    "tags": []
   },
   "outputs": [
    {
     "name": "stderr",
     "output_type": "stream",
     "text": [
      "Disabling daily seasonality. Run prophet with daily.seasonality=TRUE to override this.\n",
      "\n"
     ]
    },
    {
     "name": "stdout",
     "output_type": "stream",
     "text": [
      "[1] \"20 % done.\"\n"
     ]
    },
    {
     "name": "stderr",
     "output_type": "stream",
     "text": [
      "Disabling daily seasonality. Run prophet with daily.seasonality=TRUE to override this.\n",
      "\n"
     ]
    },
    {
     "name": "stdout",
     "output_type": "stream",
     "text": [
      "[1] \"40 % done.\"\n"
     ]
    },
    {
     "name": "stderr",
     "output_type": "stream",
     "text": [
      "Disabling daily seasonality. Run prophet with daily.seasonality=TRUE to override this.\n",
      "\n"
     ]
    },
    {
     "name": "stdout",
     "output_type": "stream",
     "text": [
      "[1] \"60 % done.\"\n"
     ]
    },
    {
     "name": "stderr",
     "output_type": "stream",
     "text": [
      "Disabling daily seasonality. Run prophet with daily.seasonality=TRUE to override this.\n",
      "\n"
     ]
    },
    {
     "name": "stdout",
     "output_type": "stream",
     "text": [
      "[1] \"80 % done.\"\n"
     ]
    },
    {
     "name": "stderr",
     "output_type": "stream",
     "text": [
      "Disabling daily seasonality. Run prophet with daily.seasonality=TRUE to override this.\n",
      "\n"
     ]
    },
    {
     "name": "stdout",
     "output_type": "stream",
     "text": [
      "[1] \"100 % done.\"\n"
     ]
    }
   ],
   "source": [
    "result.m01.3 <- my.tsCV(trainx[,1], cv.forecast.2, h=hori, window=wind, step=peri,\n",
    "                          xreg=trainx[,3], \n",
    "                          silent=F)"
   ]
  },
  {
   "cell_type": "code",
   "execution_count": 75,
   "id": "7ba326e3-2a59-4a52-ab62-c7b71ccb9ea8",
   "metadata": {
    "scrolled": true,
    "tags": []
   },
   "outputs": [
    {
     "name": "stderr",
     "output_type": "stream",
     "text": [
      "Disabling daily seasonality. Run prophet with daily.seasonality=TRUE to override this.\n",
      "\n"
     ]
    },
    {
     "name": "stdout",
     "output_type": "stream",
     "text": [
      "[1] \"20 % done.\"\n"
     ]
    },
    {
     "name": "stderr",
     "output_type": "stream",
     "text": [
      "Disabling daily seasonality. Run prophet with daily.seasonality=TRUE to override this.\n",
      "\n"
     ]
    },
    {
     "name": "stdout",
     "output_type": "stream",
     "text": [
      "[1] \"40 % done.\"\n"
     ]
    },
    {
     "name": "stderr",
     "output_type": "stream",
     "text": [
      "Disabling daily seasonality. Run prophet with daily.seasonality=TRUE to override this.\n",
      "\n"
     ]
    },
    {
     "name": "stdout",
     "output_type": "stream",
     "text": [
      "[1] \"60 % done.\"\n"
     ]
    },
    {
     "name": "stderr",
     "output_type": "stream",
     "text": [
      "Disabling daily seasonality. Run prophet with daily.seasonality=TRUE to override this.\n",
      "\n"
     ]
    },
    {
     "name": "stdout",
     "output_type": "stream",
     "text": [
      "[1] \"80 % done.\"\n"
     ]
    },
    {
     "name": "stderr",
     "output_type": "stream",
     "text": [
      "Disabling daily seasonality. Run prophet with daily.seasonality=TRUE to override this.\n",
      "\n"
     ]
    },
    {
     "name": "stdout",
     "output_type": "stream",
     "text": [
      "[1] \"100 % done.\"\n"
     ]
    }
   ],
   "source": [
    "result.m01.4 <- my.tsCV(trainx[,1], cv.forecast.2, h=hori, window=wind, step=peri,\n",
    "                         xreg=trainx[,2:4],\n",
    "                         xreg.msize=hori)"
   ]
  },
  {
   "cell_type": "markdown",
   "id": "2bfe1cb3-5728-4fd8-a0ef-2593535940f5",
   "metadata": {},
   "source": [
    "## Compare Errors"
   ]
  },
  {
   "cell_type": "code",
   "execution_count": 76,
   "id": "729703b7-0e13-4ac8-9014-dbab6d2d5acd",
   "metadata": {},
   "outputs": [],
   "source": [
    "my.figsize(10,6)"
   ]
  },
  {
   "cell_type": "code",
   "execution_count": 77,
   "id": "88224355-62cb-4480-b79c-b2791413a8b9",
   "metadata": {},
   "outputs": [
    {
     "data": {
      "image/png": "[encoded data removed]",
      "text/plain": [
       "plot without title"
      ]
     },
     "metadata": {
      "image/png": {
       "height": 360,
       "width": 600
      }
     },
     "output_type": "display_data"
    }
   ],
   "source": [
    "errors.1 <- new.get_result(result.m01.1, '1.Prophet')\n",
    "errors.2 <- new.get_result(result.m01.2, '2.Prophet with Regressors')\n",
    "errors.3 <- new.get_result(result.m01.3, '3.Prophet with 1 Regressor')\n",
    "errors.4 <- new.get_result(result.m01.4, '4.Prophet with Regressor (2)')\n",
    "\n",
    "x <- errors.1\n",
    "x <- rbind(x, errors.2)\n",
    "x <- rbind(x, errors.3)\n",
    "x <- rbind(x, errors.4)\n",
    "new.plot_errors(x, ylog=T)"
   ]
  },
  {
   "cell_type": "markdown",
   "id": "8351dcbc-33db-44ea-a47d-550e48cc6e6c",
   "metadata": {},
   "source": [
    "### save result"
   ]
  },
  {
   "cell_type": "code",
   "execution_count": null,
   "id": "8b27ae32-b956-4e94-9aec-d07bfd72a72d",
   "metadata": {},
   "outputs": [],
   "source": [
    "x <- result.m01.1\n",
    "write.csv(x, file = \"prophet_result_m0101.csv\")\n",
    "x <- result.m01.2\n",
    "write.csv(x, file = \"prophet_result_m0102.csv\")\n",
    "x <- result.m01.3\n",
    "write.csv(x, file = \"prophet_result_m0103.csv\")\n",
    "x <- result.m01.4\n",
    "write.csv(x, file = \"prophet_result_m0104.csv\")"
   ]
  },
  {
   "cell_type": "markdown",
   "id": "825c5f45-45d6-4303-82e4-1a2f9d7fbd8c",
   "metadata": {},
   "source": [
    "### load result"
   ]
  },
  {
   "cell_type": "code",
   "execution_count": 17,
   "id": "d2e2b68b-2e54-484a-9d72-6d74422bd9c6",
   "metadata": {
    "scrolled": true,
    "tags": []
   },
   "outputs": [],
   "source": [
    "result.m01.1 <- read.csv(file = 'prophet_result_m0101.csv')\n",
    "result.m01.2 <- read.csv(file = 'prophet_result_m0102.csv')\n",
    "result.m01.3 <- read.csv(file = 'prophet_result_m0103.csv')\n",
    "result.m01.4 <- read.csv(file = 'prophet_result_m0104.csv')"
   ]
  },
  {
   "cell_type": "code",
   "execution_count": 58,
   "id": "7cb8d98e-9491-400a-abd5-6a4694dfe9db",
   "metadata": {},
   "outputs": [
    {
     "ename": "ERROR",
     "evalue": "Error in eval(expr, envir, enclos): object 'result.m01.1' not found\n",
     "output_type": "error",
     "traceback": [
      "Error in eval(expr, envir, enclos): object 'result.m01.1' not found\nTraceback:\n"
     ]
    }
   ],
   "source": [
    "result.m01 <- result.m01.1"
   ]
  },
  {
   "cell_type": "markdown",
   "id": "73d38357-ca19-4a00-a9f3-88f56e5a4726",
   "metadata": {},
   "source": [
    "# BSTS"
   ]
  },
  {
   "cell_type": "markdown",
   "id": "33b1a082-dca7-457f-a151-90f7518efe7a",
   "metadata": {},
   "source": [
    "## Setting"
   ]
  },
  {
   "cell_type": "code",
   "execution_count": 94,
   "id": "92d8cf60-d4b2-4d74-b586-01285de500da",
   "metadata": {},
   "outputs": [],
   "source": [
    "cv.forecast <- function(x, h, xreg=NULL, xreg.msize=NULL, expected.model.size=0,\n",
    "                        model=NULL, niter=1000, ...) \n",
    "{\n",
    "    if (!is.null(xreg)) {\n",
    "        ### set params for fitting\n",
    "        # organize data for fitting\n",
    "        if (is.null(dim(x))) {x <- data.frame(x)}\n",
    "        colnames(x) <- 'y'\n",
    "        x.train <- cbind(x, xreg)\n",
    "        x.train <- as.data.frame(x.train)\n",
    "        \n",
    "        if (is.null(model)) {\n",
    "            n <- ncol(x.train)\n",
    "            if ((expected.model.size < 1) | (expected.model.size > n)) {\n",
    "                expected.model.size <- n\n",
    "            }\n",
    "            ss <- AddSemilocalLinearTrend(list(), x.train$y)\n",
    "            model <- bsts(y ~ .,\n",
    "                          state.specification = ss,\n",
    "                          niter = niter,\n",
    "                          data = x.train,\n",
    "                          expected.model.size = expected.model.size)  # Passed to SpikeSlabPrior.\n",
    "            olddata <- NULL\n",
    "        } else {\n",
    "            olddata <- x.train\n",
    "        }\n",
    "        \n",
    "        ### set params for prediction\n",
    "        # regessor assumption for future\n",
    "        if (is.null(xreg.msize)) {\n",
    "            xreg.m <- xreg # calc mean for future with all the xreg\n",
    "        } else {\n",
    "            # calc mean for future with xreg of length xreg.mszie\n",
    "            xreg.m <- tail(xreg, n=xreg.msize)\n",
    "        }\n",
    "\n",
    "        if (is.null(dim(xreg))) {\n",
    "            xreg.h <- mean(xreg.m)\n",
    "        } else {\n",
    "            xreg.h <- colMeans(xreg.m)  \n",
    "        }\n",
    "\n",
    "        xreg.all <- data.frame(xreg)\n",
    "        xreg.coln <- colnames(xreg.all) # save name for the case of single xreg\n",
    "        xreg.h <- data.frame(xreg.h)\n",
    "        colnames(xreg.h) <- colnames(NA)\n",
    "        xreg.h <- t(xreg.h)\n",
    "        xreg.h <- as.ts(xreg.h[rep(seq_len(nrow(xreg.h)), h), ])\n",
    "        xreg.h <- data.frame(xreg.h) # convert to frame for the case of single xreg\n",
    "        \n",
    "        if ((dim(xreg.h)[2]==1) & (dim(xreg.h)[1]==length(xreg.coln))) {\n",
    "            xreg.h <- t(xreg.h) # the case of h==1\n",
    "        } else {\n",
    "            xreg.h <- as.ts(xreg.h) # convert to ts as xreg is ts\n",
    "        }\n",
    "        \n",
    "        colnames(xreg.h) <- xreg.coln # match name to rbind\n",
    "        \n",
    "    } else {\n",
    "        if (is.null(model)) {\n",
    "            ss <- AddSemilocalLinearTrend(list(), x)\n",
    "            model <- bsts(x, state.specification = ss, niter=niter, ...)\n",
    "            olddata <- NULL\n",
    "        } else {\n",
    "            olddata <- x\n",
    "        }\n",
    "        xreg.h <- NULL\n",
    "    }\n",
    "    # predict\n",
    "    fc <- predict(model, horizon=h, newdata=xreg.h, olddata=olddata)\n",
    "    fc$model <- model\n",
    "    return(fc)\n",
    "}\n",
    "\n",
    "bsts.forecast <- cv.forecast"
   ]
  },
  {
   "cell_type": "code",
   "execution_count": 96,
   "id": "55107914-5b42-493c-b20b-c6b5d0d9b63d",
   "metadata": {},
   "outputs": [],
   "source": [
    "cv.forecast.2 <- function(x, h, ...) {\n",
    "    new.forecast(x, h, cv.forecast, ping=0, ...)\n",
    "}"
   ]
  },
  {
   "cell_type": "markdown",
   "id": "60d8fc5f-8e48-4ea2-b707-e1f062d6b634",
   "metadata": {},
   "source": [
    "## Basic"
   ]
  },
  {
   "cell_type": "code",
   "execution_count": 97,
   "id": "c0bae75e-ad34-40a9-aceb-7542fa7c13fd",
   "metadata": {
    "scrolled": true,
    "tags": []
   },
   "outputs": [
    {
     "name": "stderr",
     "output_type": "stream",
     "text": [
      "17 % done.\n",
      "\n",
      "33 % done.\n",
      "\n",
      "50 % done.\n",
      "\n",
      "67 % done.\n",
      "\n",
      "83 % done.\n",
      "\n",
      "100 % done.\n",
      "\n"
     ]
    }
   ],
   "source": [
    "result.m02.1 <- my.tsCV(train, cv.forecast.2, h=hori, window=wind, step=peri)"
   ]
  },
  {
   "cell_type": "code",
   "execution_count": 98,
   "id": "602a90d7-2081-46eb-8cf8-ca09307501bd",
   "metadata": {},
   "outputs": [
    {
     "name": "stdout",
     "output_type": "stream",
     "text": [
      "[1] \"cv starts from 2000-01-24\"\n"
     ]
    }
   ],
   "source": [
    "x <- result.m02.1\n",
    "from <- na.omit(x[,1])[1]\n",
    "from <- index(train[from])\n",
    "print(paste('cv starts from', from, sep=' '))"
   ]
  },
  {
   "cell_type": "markdown",
   "id": "b296acaf-74d0-4185-b130-b6512bbf03be",
   "metadata": {},
   "source": [
    "## Regression with spike and slab priors"
   ]
  },
  {
   "cell_type": "code",
   "execution_count": 85,
   "id": "6ecce414-f5fc-4f70-9f89-4908c5fe4e9a",
   "metadata": {
    "scrolled": true,
    "tags": []
   },
   "outputs": [
    {
     "name": "stdout",
     "output_type": "stream",
     "text": [
      "=-=-=-=-= Iteration 0 Mon Sep 26 13:52:04 2022 =-=-=-=-=\n",
      "=-=-=-=-= Iteration 100 Mon Sep 26 13:52:07 2022 =-=-=-=-=\n",
      "=-=-=-=-= Iteration 200 Mon Sep 26 13:52:11 2022 =-=-=-=-=\n",
      "=-=-=-=-= Iteration 300 Mon Sep 26 13:52:14 2022 =-=-=-=-=\n",
      "=-=-=-=-= Iteration 400 Mon Sep 26 13:52:17 2022 =-=-=-=-=\n",
      "=-=-=-=-= Iteration 500 Mon Sep 26 13:52:21 2022 =-=-=-=-=\n",
      "=-=-=-=-= Iteration 600 Mon Sep 26 13:52:24 2022 =-=-=-=-=\n",
      "=-=-=-=-= Iteration 700 Mon Sep 26 13:52:28 2022 =-=-=-=-=\n",
      "=-=-=-=-= Iteration 800 Mon Sep 26 13:52:31 2022 =-=-=-=-=\n",
      "=-=-=-=-= Iteration 900 Mon Sep 26 13:52:35 2022 =-=-=-=-=\n"
     ]
    },
    {
     "name": "stderr",
     "output_type": "stream",
     "text": [
      "20 % done.\n",
      "\n"
     ]
    },
    {
     "name": "stdout",
     "output_type": "stream",
     "text": [
      "=-=-=-=-= Iteration 0 Mon Sep 26 13:52:39 2022 =-=-=-=-=\n",
      "=-=-=-=-= Iteration 100 Mon Sep 26 13:52:43 2022 =-=-=-=-=\n",
      "=-=-=-=-= Iteration 200 Mon Sep 26 13:52:46 2022 =-=-=-=-=\n",
      "=-=-=-=-= Iteration 300 Mon Sep 26 13:52:50 2022 =-=-=-=-=\n",
      "=-=-=-=-= Iteration 400 Mon Sep 26 13:52:54 2022 =-=-=-=-=\n",
      "=-=-=-=-= Iteration 500 Mon Sep 26 13:52:58 2022 =-=-=-=-=\n",
      "=-=-=-=-= Iteration 600 Mon Sep 26 13:53:02 2022 =-=-=-=-=\n",
      "=-=-=-=-= Iteration 700 Mon Sep 26 13:53:06 2022 =-=-=-=-=\n",
      "=-=-=-=-= Iteration 800 Mon Sep 26 13:53:10 2022 =-=-=-=-=\n",
      "=-=-=-=-= Iteration 900 Mon Sep 26 13:53:13 2022 =-=-=-=-=\n"
     ]
    },
    {
     "name": "stderr",
     "output_type": "stream",
     "text": [
      "40 % done.\n",
      "\n"
     ]
    },
    {
     "name": "stdout",
     "output_type": "stream",
     "text": [
      "=-=-=-=-= Iteration 0 Mon Sep 26 13:53:17 2022 =-=-=-=-=\n",
      "=-=-=-=-= Iteration 100 Mon Sep 26 13:53:21 2022 =-=-=-=-=\n",
      "=-=-=-=-= Iteration 200 Mon Sep 26 13:53:24 2022 =-=-=-=-=\n",
      "=-=-=-=-= Iteration 300 Mon Sep 26 13:53:28 2022 =-=-=-=-=\n",
      "=-=-=-=-= Iteration 400 Mon Sep 26 13:53:32 2022 =-=-=-=-=\n",
      "=-=-=-=-= Iteration 500 Mon Sep 26 13:53:35 2022 =-=-=-=-=\n",
      "=-=-=-=-= Iteration 600 Mon Sep 26 13:53:39 2022 =-=-=-=-=\n",
      "=-=-=-=-= Iteration 700 Mon Sep 26 13:53:43 2022 =-=-=-=-=\n",
      "=-=-=-=-= Iteration 800 Mon Sep 26 13:53:46 2022 =-=-=-=-=\n",
      "=-=-=-=-= Iteration 900 Mon Sep 26 13:53:50 2022 =-=-=-=-=\n"
     ]
    },
    {
     "name": "stderr",
     "output_type": "stream",
     "text": [
      "60 % done.\n",
      "\n"
     ]
    },
    {
     "name": "stdout",
     "output_type": "stream",
     "text": [
      "=-=-=-=-= Iteration 0 Mon Sep 26 13:53:54 2022 =-=-=-=-=\n",
      "=-=-=-=-= Iteration 100 Mon Sep 26 13:53:57 2022 =-=-=-=-=\n",
      "=-=-=-=-= Iteration 200 Mon Sep 26 13:54:01 2022 =-=-=-=-=\n",
      "=-=-=-=-= Iteration 300 Mon Sep 26 13:54:05 2022 =-=-=-=-=\n",
      "=-=-=-=-= Iteration 400 Mon Sep 26 13:54:08 2022 =-=-=-=-=\n",
      "=-=-=-=-= Iteration 500 Mon Sep 26 13:54:12 2022 =-=-=-=-=\n",
      "=-=-=-=-= Iteration 600 Mon Sep 26 13:54:16 2022 =-=-=-=-=\n",
      "=-=-=-=-= Iteration 700 Mon Sep 26 13:54:19 2022 =-=-=-=-=\n",
      "=-=-=-=-= Iteration 800 Mon Sep 26 13:54:23 2022 =-=-=-=-=\n",
      "=-=-=-=-= Iteration 900 Mon Sep 26 13:54:26 2022 =-=-=-=-=\n"
     ]
    },
    {
     "name": "stderr",
     "output_type": "stream",
     "text": [
      "80 % done.\n",
      "\n"
     ]
    },
    {
     "name": "stdout",
     "output_type": "stream",
     "text": [
      "=-=-=-=-= Iteration 0 Mon Sep 26 13:54:31 2022 =-=-=-=-=\n",
      "=-=-=-=-= Iteration 100 Mon Sep 26 13:54:34 2022 =-=-=-=-=\n",
      "=-=-=-=-= Iteration 200 Mon Sep 26 13:54:38 2022 =-=-=-=-=\n",
      "=-=-=-=-= Iteration 300 Mon Sep 26 13:54:41 2022 =-=-=-=-=\n",
      "=-=-=-=-= Iteration 400 Mon Sep 26 13:54:45 2022 =-=-=-=-=\n",
      "=-=-=-=-= Iteration 500 Mon Sep 26 13:54:49 2022 =-=-=-=-=\n",
      "=-=-=-=-= Iteration 600 Mon Sep 26 13:54:52 2022 =-=-=-=-=\n",
      "=-=-=-=-= Iteration 700 Mon Sep 26 13:54:56 2022 =-=-=-=-=\n",
      "=-=-=-=-= Iteration 800 Mon Sep 26 13:54:59 2022 =-=-=-=-=\n",
      "=-=-=-=-= Iteration 900 Mon Sep 26 13:55:03 2022 =-=-=-=-=\n"
     ]
    },
    {
     "name": "stderr",
     "output_type": "stream",
     "text": [
      "100 % done.\n",
      "\n"
     ]
    }
   ],
   "source": [
    "result.m02.2 <- my.tsCV(trainx[,1], cv.forecast.2, h=hori, window=wind, step=peri,\n",
    "                        xreg=trainx[,2:4], \n",
    "                        silent=F)"
   ]
  },
  {
   "cell_type": "code",
   "execution_count": 86,
   "id": "fb72044a-8da0-45cc-8d68-0119fe090cf2",
   "metadata": {
    "tags": []
   },
   "outputs": [
    {
     "name": "stdout",
     "output_type": "stream",
     "text": [
      "[1] \"cv starts from 2000-02-09\"\n"
     ]
    }
   ],
   "source": [
    "x <- result.m02.2\n",
    "from <- x[!is.na(x[,'forecast_start']),][,1][1]\n",
    "from <- index(trainx[from])\n",
    "print(paste('cv starts from', from, sep=' '))"
   ]
  },
  {
   "cell_type": "code",
   "execution_count": 89,
   "id": "cc2e74d7-8d59-4a62-be63-137bc65d7e26",
   "metadata": {
    "scrolled": true,
    "tags": []
   },
   "outputs": [
    {
     "name": "stdout",
     "output_type": "stream",
     "text": [
      "=-=-=-=-= Iteration 0 Mon Sep 26 13:55:25 2022 =-=-=-=-=\n",
      "=-=-=-=-= Iteration 100 Mon Sep 26 13:55:28 2022 =-=-=-=-=\n",
      "=-=-=-=-= Iteration 200 Mon Sep 26 13:55:31 2022 =-=-=-=-=\n",
      "=-=-=-=-= Iteration 300 Mon Sep 26 13:55:35 2022 =-=-=-=-=\n",
      "=-=-=-=-= Iteration 400 Mon Sep 26 13:55:38 2022 =-=-=-=-=\n",
      "=-=-=-=-= Iteration 500 Mon Sep 26 13:55:42 2022 =-=-=-=-=\n",
      "=-=-=-=-= Iteration 600 Mon Sep 26 13:55:45 2022 =-=-=-=-=\n",
      "=-=-=-=-= Iteration 700 Mon Sep 26 13:55:49 2022 =-=-=-=-=\n",
      "=-=-=-=-= Iteration 800 Mon Sep 26 13:55:52 2022 =-=-=-=-=\n",
      "=-=-=-=-= Iteration 900 Mon Sep 26 13:55:56 2022 =-=-=-=-=\n",
      "20 % done.=-=-=-=-= Iteration 0 Mon Sep 26 13:56:00 2022 =-=-=-=-=\n",
      "=-=-=-=-= Iteration 100 Mon Sep 26 13:56:03 2022 =-=-=-=-=\n",
      "=-=-=-=-= Iteration 200 Mon Sep 26 13:56:07 2022 =-=-=-=-=\n",
      "=-=-=-=-= Iteration 300 Mon Sep 26 13:56:11 2022 =-=-=-=-=\n",
      "=-=-=-=-= Iteration 400 Mon Sep 26 13:56:14 2022 =-=-=-=-=\n",
      "=-=-=-=-= Iteration 500 Mon Sep 26 13:56:18 2022 =-=-=-=-=\n",
      "=-=-=-=-= Iteration 600 Mon Sep 26 13:56:22 2022 =-=-=-=-=\n",
      "=-=-=-=-= Iteration 700 Mon Sep 26 13:56:26 2022 =-=-=-=-=\n",
      "=-=-=-=-= Iteration 800 Mon Sep 26 13:56:29 2022 =-=-=-=-=\n",
      "=-=-=-=-= Iteration 900 Mon Sep 26 13:56:33 2022 =-=-=-=-=\n",
      "40 % done.=-=-=-=-= Iteration 0 Mon Sep 26 13:56:37 2022 =-=-=-=-=\n",
      "=-=-=-=-= Iteration 100 Mon Sep 26 13:56:41 2022 =-=-=-=-=\n",
      "=-=-=-=-= Iteration 200 Mon Sep 26 13:56:44 2022 =-=-=-=-=\n",
      "=-=-=-=-= Iteration 300 Mon Sep 26 13:56:48 2022 =-=-=-=-=\n",
      "=-=-=-=-= Iteration 400 Mon Sep 26 13:56:51 2022 =-=-=-=-=\n",
      "=-=-=-=-= Iteration 500 Mon Sep 26 13:56:55 2022 =-=-=-=-=\n",
      "=-=-=-=-= Iteration 600 Mon Sep 26 13:56:58 2022 =-=-=-=-=\n",
      "=-=-=-=-= Iteration 700 Mon Sep 26 13:57:02 2022 =-=-=-=-=\n",
      "=-=-=-=-= Iteration 800 Mon Sep 26 13:57:05 2022 =-=-=-=-=\n",
      "=-=-=-=-= Iteration 900 Mon Sep 26 13:57:09 2022 =-=-=-=-=\n",
      "60 % done.=-=-=-=-= Iteration 0 Mon Sep 26 13:57:13 2022 =-=-=-=-=\n",
      "=-=-=-=-= Iteration 100 Mon Sep 26 13:57:17 2022 =-=-=-=-=\n",
      "=-=-=-=-= Iteration 200 Mon Sep 26 13:57:20 2022 =-=-=-=-=\n",
      "=-=-=-=-= Iteration 300 Mon Sep 26 13:57:24 2022 =-=-=-=-=\n",
      "=-=-=-=-= Iteration 400 Mon Sep 26 13:57:27 2022 =-=-=-=-=\n",
      "=-=-=-=-= Iteration 500 Mon Sep 26 13:57:31 2022 =-=-=-=-=\n",
      "=-=-=-=-= Iteration 600 Mon Sep 26 13:57:34 2022 =-=-=-=-=\n",
      "=-=-=-=-= Iteration 700 Mon Sep 26 13:57:38 2022 =-=-=-=-=\n",
      "=-=-=-=-= Iteration 800 Mon Sep 26 13:57:41 2022 =-=-=-=-=\n",
      "=-=-=-=-= Iteration 900 Mon Sep 26 13:57:45 2022 =-=-=-=-=\n",
      "80 % done.=-=-=-=-= Iteration 0 Mon Sep 26 13:57:49 2022 =-=-=-=-=\n",
      "=-=-=-=-= Iteration 100 Mon Sep 26 13:57:53 2022 =-=-=-=-=\n",
      "=-=-=-=-= Iteration 200 Mon Sep 26 13:57:56 2022 =-=-=-=-=\n",
      "=-=-=-=-= Iteration 300 Mon Sep 26 13:58:00 2022 =-=-=-=-=\n",
      "=-=-=-=-= Iteration 400 Mon Sep 26 13:58:04 2022 =-=-=-=-=\n",
      "=-=-=-=-= Iteration 500 Mon Sep 26 13:58:08 2022 =-=-=-=-=\n",
      "=-=-=-=-= Iteration 600 Mon Sep 26 13:58:12 2022 =-=-=-=-=\n",
      "=-=-=-=-= Iteration 700 Mon Sep 26 13:58:15 2022 =-=-=-=-=\n",
      "=-=-=-=-= Iteration 800 Mon Sep 26 13:58:19 2022 =-=-=-=-=\n",
      "=-=-=-=-= Iteration 900 Mon Sep 26 13:58:22 2022 =-=-=-=-=\n",
      "100 % done."
     ]
    }
   ],
   "source": [
    "result.m02.3 <- my.tsCV(trainx[,1], cv.forecast.2, h=hori, window=wind, step=peri,\n",
    "                        xreg=trainx[,2:4], silent=F,\n",
    "                        xreg.msize=hori)"
   ]
  },
  {
   "cell_type": "markdown",
   "id": "bc65fefd-60b9-4ab4-a840-d24018cef2fc",
   "metadata": {},
   "source": [
    "## Compare Errors"
   ]
  },
  {
   "cell_type": "code",
   "execution_count": 90,
   "id": "58355e11-c950-44f5-b241-665c8d6aa2c4",
   "metadata": {},
   "outputs": [],
   "source": [
    "my.figsize(10,6)"
   ]
  },
  {
   "cell_type": "code",
   "execution_count": 99,
   "id": "8f874535-9c29-405a-add4-9bbce090b23c",
   "metadata": {},
   "outputs": [
    {
     "data": {
      "image/png": "[encoded data removed]",
      "text/plain": [
       "plot without title"
      ]
     },
     "metadata": {
      "image/png": {
       "height": 360,
       "width": 570
      }
     },
     "output_type": "display_data"
    }
   ],
   "source": [
    "errors.1 <- new.get_result(result.m02.1, '1.BSTS')\n",
    "errors.2 <- new.get_result(result.m02.2, '2.BSTS w/ Regressors')\n",
    "errors.3 <- new.get_result(result.m02.3, '3.BSTS w/ Regressors (2)')\n",
    "\n",
    "#x <- errors.1\n",
    "x <- rbind(errors.1, errors.2)\n",
    "x <- rbind(x, errors.3)\n",
    "\n",
    "new.plot_errors(x, ylog=T)"
   ]
  },
  {
   "cell_type": "code",
   "execution_count": 59,
   "id": "78dcd688-1d13-455f-a104-9ce887522de1",
   "metadata": {},
   "outputs": [
    {
     "ename": "ERROR",
     "evalue": "Error in eval(expr, envir, enclos): object 'result.m02.1' not found\n",
     "output_type": "error",
     "traceback": [
      "Error in eval(expr, envir, enclos): object 'result.m02.1' not found\nTraceback:\n"
     ]
    }
   ],
   "source": [
    "result.m02 <- result.m02.1"
   ]
  },
  {
   "cell_type": "markdown",
   "id": "b18309db-511c-4dca-aae2-184266480211",
   "metadata": {},
   "source": [
    "### save result"
   ]
  },
  {
   "cell_type": "code",
   "execution_count": 27,
   "id": "90ba8638-887a-4a67-868c-d3612e3556db",
   "metadata": {},
   "outputs": [],
   "source": [
    "#x <- result.m02.1\n",
    "#write.csv(x, file = \"bsts_result_m0201.csv\")\n",
    "x <- result.m02.2\n",
    "write.csv(x, file = \"bsts_result_m0202.csv\")\n",
    "x <- result.m02.3\n",
    "write.csv(x, file = \"bsts_result_m0203.csv\")"
   ]
  },
  {
   "cell_type": "markdown",
   "id": "0d128253-162e-4222-b582-fb0ee3ef80e7",
   "metadata": {},
   "source": [
    "### load result"
   ]
  },
  {
   "cell_type": "code",
   "execution_count": 22,
   "id": "8bb1bd39-9ed6-4fb6-8abe-4d35c9b83632",
   "metadata": {
    "scrolled": true,
    "tags": []
   },
   "outputs": [],
   "source": [
    "result.m02.1 <- read.csv(file = 'bsts_result_m0201.csv')\n",
    "result.m02.2 <- read.csv(file = 'bsts_result_m0202.csv')\n",
    "result.m02.3 <- read.csv(file = 'bsts_result_m0203.csv')"
   ]
  },
  {
   "cell_type": "markdown",
   "id": "69617942-9647-4c39-9fab-68b25004a5f6",
   "metadata": {},
   "source": [
    "# ARIMA"
   ]
  },
  {
   "cell_type": "markdown",
   "id": "714a4470-8e12-439a-b2ef-3b3e4d106e65",
   "metadata": {},
   "source": [
    "## Setting"
   ]
  },
  {
   "cell_type": "code",
   "execution_count": 18,
   "id": "1649827c-2f89-40f9-939c-5a35daceab6d",
   "metadata": {},
   "outputs": [],
   "source": [
    "cv.forecast <- function(x, h, xreg=NULL, xreg.msize=NULL, order=NULL) {\n",
    "    \n",
    "    if (!is.null(xreg)) {\n",
    "        \n",
    "        if (is.null(xreg.msize)) {\n",
    "            xreg.m <- xreg # calc mean for future with all the xreg\n",
    "        } else {\n",
    "            # calc mean for future with xreg of length xreg.mszie\n",
    "            xreg.m <- tail(xreg, n=xreg.msize)\n",
    "        }\n",
    "        \n",
    "        if (is.null(dim(xreg))) {\n",
    "            xreg.h <- mean(xreg.m)\n",
    "        } else {\n",
    "            xreg.h <- colMeans(xreg.m)  \n",
    "        }\n",
    "        \n",
    "        xreg.h <- data.frame(xreg.h)\n",
    "        colnames(xreg.h) <- colnames(NA)\n",
    "        #colnames(xreg.h) <- colnames(xreg) # error with multiple xreg\n",
    "        xreg.h <- t(xreg.h)\n",
    "        xreg.h <- as.ts(xreg.h[rep(seq_len(nrow(xreg.h)), h), ])\n",
    "        \n",
    "        ## added for single day forecast\n",
    "        xreg.coln <- colnames(xreg)\n",
    "        xreg.h <- data.frame(xreg.h) # convert to frame for the case of single xreg\n",
    "        if ((dim(xreg.h)[2]==1) & (dim(xreg.h)[1]==length(xreg.coln))) {\n",
    "            xreg.h <- t(xreg.h) # the case of h==1\n",
    "        } else {\n",
    "            xreg.h <- as.ts(xreg.h) # convert to ts as xreg is ts\n",
    "        }\n",
    "        \n",
    "    } else {\n",
    "        xreg.h <- NULL\n",
    "    }\n",
    "    if (is.null(order)) {\n",
    "        fc <- forecast(auto.arima(x, trace=TRUE, ic='aicc', seasonal=FALSE, \n",
    "                                  xreg=xreg, \n",
    "                                  #lambda=\"auto\" # not for negative value\n",
    "                                  ), h=h, xreg=xreg.h)\n",
    "    } else {\n",
    "        fc <- forecast(Arima(x, order=order, seasonal=FALSE, \n",
    "                                  xreg=xreg, \n",
    "                                  ), h=h, xreg=xreg.h)\n",
    "    }\n",
    "    return(fc)\n",
    "}\n",
    "\n",
    "arima.forecast <- cv.forecast"
   ]
  },
  {
   "cell_type": "code",
   "execution_count": 19,
   "id": "f1de1569-7395-4fe7-99a4-f041baf77365",
   "metadata": {},
   "outputs": [],
   "source": [
    "cv.forecast.2 <- function(x, h, ...) {\n",
    "    new.forecast(x, h, cv.forecast, ...)\n",
    "}"
   ]
  },
  {
   "cell_type": "markdown",
   "id": "1e0145d7-e293-4fdd-8dbb-f62c0d26e658",
   "metadata": {},
   "source": [
    "## Basic"
   ]
  },
  {
   "cell_type": "code",
   "execution_count": 20,
   "id": "b05b4a06-7253-42c9-b6f0-28b182f99b79",
   "metadata": {
    "scrolled": true,
    "tags": []
   },
   "outputs": [
    {
     "name": "stdout",
     "output_type": "stream",
     "text": [
      "\n",
      " Fitting models using approximations to speed things up...\n",
      "\n",
      " ARIMA(2,0,2) with non-zero mean : Inf\n",
      " ARIMA(0,0,0) with non-zero mean : -8729.901\n",
      " ARIMA(1,0,0) with non-zero mean : -13486.9\n",
      " ARIMA(0,0,1) with non-zero mean : -10820.55\n",
      " ARIMA(0,0,0) with zero mean     : -8407.697\n",
      " ARIMA(2,0,0) with non-zero mean : -13491.63\n",
      " ARIMA(3,0,0) with non-zero mean : -13491.75\n",
      " ARIMA(4,0,0) with non-zero mean : -13496.44\n",
      " ARIMA(5,0,0) with non-zero mean : -13502.01\n",
      " ARIMA(5,0,1) with non-zero mean : -13509.96\n",
      " ARIMA(4,0,1) with non-zero mean : -13504.29\n",
      " ARIMA(5,0,2) with non-zero mean : -13507.99\n",
      " ARIMA(4,0,2) with non-zero mean : -13508.66\n",
      " ARIMA(5,0,1) with zero mean     : -13497.02\n",
      "\n",
      " Now re-fitting the best model(s) without approximations...\n",
      "\n",
      " ARIMA(5,0,1) with non-zero mean : -13497.21\n",
      "\n",
      " Best model: ARIMA(5,0,1) with non-zero mean \n",
      "\n"
     ]
    },
    {
     "name": "stderr",
     "output_type": "stream",
     "text": [
      "17 % done.\n",
      "\n"
     ]
    },
    {
     "name": "stdout",
     "output_type": "stream",
     "text": [
      "\n",
      " Fitting models using approximations to speed things up...\n",
      "\n",
      " ARIMA(2,1,2) with drift         : Inf\n",
      " ARIMA(0,1,0) with drift         : -13377.54\n",
      " ARIMA(1,1,0) with drift         : -13378.28\n",
      " ARIMA(0,1,1) with drift         : -13376.14\n",
      " ARIMA(0,1,0)                    : -13379.49\n",
      " ARIMA(1,1,1) with drift         : -13377.51\n",
      "\n",
      " Now re-fitting the best model(s) without approximations...\n",
      "\n",
      " ARIMA(0,1,0)                    : -13388.23\n",
      "\n",
      " Best model: ARIMA(0,1,0)                    \n",
      "\n"
     ]
    },
    {
     "name": "stderr",
     "output_type": "stream",
     "text": [
      "33 % done.\n",
      "\n"
     ]
    },
    {
     "name": "stdout",
     "output_type": "stream",
     "text": [
      "\n",
      " Fitting models using approximations to speed things up...\n",
      "\n",
      " ARIMA(2,1,2) with drift         : -13351.94\n",
      " ARIMA(0,1,0) with drift         : -13329.65\n",
      " ARIMA(1,1,0) with drift         : -13329.34\n",
      " ARIMA(0,1,1) with drift         : -13328.48\n",
      " ARIMA(0,1,0)                    : -13331.64\n",
      " ARIMA(1,1,2) with drift         : -13333.18\n",
      " ARIMA(2,1,1) with drift         : -13367.24\n",
      " ARIMA(1,1,1) with drift         : -13327.34\n",
      " ARIMA(2,1,0) with drift         : -13329.21\n",
      " ARIMA(3,1,1) with drift         : -13330.64\n",
      " ARIMA(3,1,0) with drift         : -13332.29\n",
      " ARIMA(3,1,2) with drift         : Inf\n",
      " ARIMA(2,1,1)                    : -13368.81\n",
      " ARIMA(1,1,1)                    : -13329.32\n",
      " ARIMA(2,1,0)                    : -13331.19\n",
      " ARIMA(3,1,1)                    : -13332.67\n",
      " ARIMA(2,1,2)                    : -13353.95\n",
      " ARIMA(1,1,0)                    : -13331.32\n",
      " ARIMA(1,1,2)                    : -13348.06\n",
      " ARIMA(3,1,0)                    : -13334.28\n",
      " ARIMA(3,1,2)                    : Inf\n",
      "\n",
      " Now re-fitting the best model(s) without approximations...\n",
      "\n",
      " ARIMA(2,1,1)                    : Inf\n",
      " ARIMA(2,1,1) with drift         : Inf\n",
      " ARIMA(2,1,2)                    : -13393.73\n",
      "\n",
      " Best model: ARIMA(2,1,2)                    \n",
      "\n"
     ]
    },
    {
     "name": "stderr",
     "output_type": "stream",
     "text": [
      "50 % done.\n",
      "\n"
     ]
    },
    {
     "name": "stdout",
     "output_type": "stream",
     "text": [
      "\n",
      " Fitting models using approximations to speed things up...\n",
      "\n",
      " ARIMA(2,1,2) with drift         : Inf\n",
      " ARIMA(0,1,0) with drift         : -13234.71\n",
      " ARIMA(1,1,0) with drift         : -13232.87\n",
      " ARIMA(0,1,1) with drift         : -13233.97\n",
      " ARIMA(0,1,0)                    : -13236.7\n",
      " ARIMA(1,1,1) with drift         : -13231.87\n",
      "\n",
      " Now re-fitting the best model(s) without approximations...\n",
      "\n",
      " ARIMA(0,1,0)                    : -13245.39\n",
      "\n",
      " Best model: ARIMA(0,1,0)                    \n",
      "\n"
     ]
    },
    {
     "name": "stderr",
     "output_type": "stream",
     "text": [
      "67 % done.\n",
      "\n"
     ]
    },
    {
     "name": "stdout",
     "output_type": "stream",
     "text": [
      "\n",
      " Fitting models using approximations to speed things up...\n",
      "\n",
      " ARIMA(2,0,2) with non-zero mean : -13263.35\n",
      " ARIMA(0,0,0) with non-zero mean : -8706.059\n",
      " ARIMA(1,0,0) with non-zero mean : -13255.84\n",
      " ARIMA(0,0,1) with non-zero mean : -10773.99\n",
      " ARIMA(0,0,0) with zero mean     : -8448.555\n",
      " ARIMA(1,0,2) with non-zero mean : -13260.91\n",
      " ARIMA(2,0,1) with non-zero mean : -13259.89\n",
      " ARIMA(3,0,2) with non-zero mean : Inf\n",
      " ARIMA(2,0,3) with non-zero mean : -13259.02\n",
      " ARIMA(1,0,1) with non-zero mean : -13262.92\n",
      " ARIMA(1,0,3) with non-zero mean : -13261.08\n",
      " ARIMA(3,0,1) with non-zero mean : Inf\n",
      " ARIMA(3,0,3) with non-zero mean : Inf\n",
      " ARIMA(2,0,2) with zero mean     : -13255.47\n",
      "\n",
      " Now re-fitting the best model(s) without approximations...\n",
      "\n",
      " ARIMA(2,0,2) with non-zero mean : -13263\n",
      "\n",
      " Best model: ARIMA(2,0,2) with non-zero mean \n",
      "\n"
     ]
    },
    {
     "name": "stderr",
     "output_type": "stream",
     "text": [
      "83 % done.\n",
      "\n"
     ]
    },
    {
     "name": "stdout",
     "output_type": "stream",
     "text": [
      "\n",
      " Fitting models using approximations to speed things up...\n",
      "\n",
      " ARIMA(2,0,2) with non-zero mean : -13234.55\n",
      " ARIMA(0,0,0) with non-zero mean : -8691.834\n",
      " ARIMA(1,0,0) with non-zero mean : -13229.55\n",
      " ARIMA(0,0,1) with non-zero mean : -10751.25\n",
      " ARIMA(0,0,0) with zero mean     : -8433.02\n",
      " ARIMA(1,0,2) with non-zero mean : -13235.37\n",
      " ARIMA(0,0,2) with non-zero mean : -11866.88\n",
      " ARIMA(1,0,1) with non-zero mean : -13237.32\n",
      " ARIMA(2,0,1) with non-zero mean : -13225.93\n",
      " ARIMA(2,0,0) with non-zero mean : -13237.39\n",
      " ARIMA(3,0,0) with non-zero mean : -13234.61\n",
      " ARIMA(3,0,1) with non-zero mean : Inf\n",
      " ARIMA(2,0,0) with zero mean     : -13228.38\n",
      "\n",
      " Now re-fitting the best model(s) without approximations...\n",
      "\n",
      " ARIMA(2,0,0) with non-zero mean : -13235.12\n",
      "\n",
      " Best model: ARIMA(2,0,0) with non-zero mean \n",
      "\n"
     ]
    },
    {
     "name": "stderr",
     "output_type": "stream",
     "text": [
      "100 % done.\n",
      "\n"
     ]
    }
   ],
   "source": [
    "result.m03.1 <- my.tsCV(train, cv.forecast.2, h=hori, window=wind, step=peri, \n",
    "                        silent=T)"
   ]
  },
  {
   "cell_type": "code",
   "execution_count": 21,
   "id": "4247b4e2-a191-4310-9df8-ee11224a71a5",
   "metadata": {},
   "outputs": [
    {
     "name": "stdout",
     "output_type": "stream",
     "text": [
      "[1] \"cv starts from 2000-01-24\"\n"
     ]
    }
   ],
   "source": [
    "x <- result.m03.1\n",
    "from <- na.omit(x[,1])[1]\n",
    "from <- index(train[from])\n",
    "print(paste('cv starts from', from, sep=' '))"
   ]
  },
  {
   "cell_type": "markdown",
   "id": "3603b7c1-1626-4d08-a2f0-35ea2db6d2db",
   "metadata": {},
   "source": [
    "## Regression with ARIMA errors"
   ]
  },
  {
   "cell_type": "code",
   "execution_count": 22,
   "id": "ad1a4e08-fca6-4a5b-b997-cf9d1e3cbe00",
   "metadata": {
    "scrolled": true,
    "tags": []
   },
   "outputs": [
    {
     "name": "stdout",
     "output_type": "stream",
     "text": [
      "\n",
      " Fitting models using approximations to speed things up...\n",
      "\n",
      " Regression with ARIMA(2,1,2) errors : -14728.24\n",
      " Regression with ARIMA(0,1,0) errors : -14705.76\n",
      " Regression with ARIMA(1,1,0) errors : -14703.21\n",
      " Regression with ARIMA(0,1,1) errors : -14703.85\n",
      " Regression with ARIMA(0,1,0) errors : -14707.74\n",
      " Regression with ARIMA(1,1,2) errors : -14755.07\n",
      " Regression with ARIMA(0,1,2) errors : -14703.58\n",
      " Regression with ARIMA(1,1,1) errors : -14701.2\n",
      " Regression with ARIMA(1,1,3) errors : -14756.2\n",
      " Regression with ARIMA(0,1,3) errors : -14715.69\n",
      " Regression with ARIMA(2,1,3) errors : -14743.68\n",
      " Regression with ARIMA(1,1,4) errors : -14754.84\n",
      " Regression with ARIMA(0,1,4) errors : -14713.96\n",
      " Regression with ARIMA(2,1,4) errors : -14742.53\n",
      " Regression with ARIMA(1,1,3) errors : -14757.92\n",
      " Regression with ARIMA(0,1,3) errors : -14717.66\n",
      " Regression with ARIMA(1,1,2) errors : -14756.77\n",
      " Regression with ARIMA(2,1,3) errors : -14745.4\n",
      " Regression with ARIMA(1,1,4) errors : -14756.51\n",
      " Regression with ARIMA(0,1,2) errors : -14705.55\n",
      " Regression with ARIMA(0,1,4) errors : -14715.93\n",
      " Regression with ARIMA(2,1,2) errors : -14729.97\n",
      " Regression with ARIMA(2,1,4) errors : -14744.25\n",
      "\n",
      " Now re-fitting the best model(s) without approximations...\n",
      "\n",
      " Regression with ARIMA(1,1,3) errors : Inf\n",
      " Regression with ARIMA(1,1,2) errors : Inf\n",
      " Regression with ARIMA(1,1,4) errors : Inf\n",
      " Regression with ARIMA(1,1,3) errors : Inf\n",
      " Regression with ARIMA(1,1,2) errors : Inf\n",
      " Regression with ARIMA(1,1,4) errors : Inf\n",
      " Regression with ARIMA(2,1,3) errors : Inf\n",
      " Regression with ARIMA(2,1,4) errors : Inf\n",
      " Regression with ARIMA(2,1,3) errors : Inf\n",
      " Regression with ARIMA(2,1,4) errors : Inf\n",
      " Regression with ARIMA(2,1,2) errors : Inf\n",
      " Regression with ARIMA(2,1,2) errors : Inf\n",
      " Regression with ARIMA(0,1,3) errors : -14726.99\n",
      "\n",
      " Best model: Regression with ARIMA(0,1,3) errors \n",
      "\n"
     ]
    },
    {
     "name": "stderr",
     "output_type": "stream",
     "text": [
      "20 % done.\n",
      "\n"
     ]
    },
    {
     "name": "stdout",
     "output_type": "stream",
     "text": [
      "\n",
      " Fitting models using approximations to speed things up...\n",
      "\n",
      " Regression with ARIMA(2,1,2) errors : Inf\n",
      " Regression with ARIMA(0,1,0) errors : -14688.58\n",
      " Regression with ARIMA(1,1,0) errors : -14687.3\n",
      " Regression with ARIMA(0,1,1) errors : -14686.7\n",
      " Regression with ARIMA(0,1,0) errors : -14690.58\n",
      " Regression with ARIMA(1,1,1) errors : -14685.35\n",
      "\n",
      " Now re-fitting the best model(s) without approximations...\n",
      "\n",
      " Regression with ARIMA(0,1,0) errors : -14699.9\n",
      "\n",
      " Best model: Regression with ARIMA(0,1,0) errors \n",
      "\n"
     ]
    },
    {
     "name": "stderr",
     "output_type": "stream",
     "text": [
      "40 % done.\n",
      "\n"
     ]
    },
    {
     "name": "stdout",
     "output_type": "stream",
     "text": [
      "\n",
      " Fitting models using approximations to speed things up...\n",
      "\n",
      " Regression with ARIMA(2,1,2) errors : Inf\n",
      " Regression with ARIMA(0,1,0) errors : -14648.88\n",
      " Regression with ARIMA(1,1,0) errors : -14646.36\n",
      " Regression with ARIMA(0,1,1) errors : -14647.06\n",
      " Regression with ARIMA(0,1,0) errors : -14650.88\n",
      " Regression with ARIMA(1,1,1) errors : -14644.49\n",
      "\n",
      " Now re-fitting the best model(s) without approximations...\n",
      "\n",
      " Regression with ARIMA(0,1,0) errors : -14660.19\n",
      "\n",
      " Best model: Regression with ARIMA(0,1,0) errors \n",
      "\n"
     ]
    },
    {
     "name": "stderr",
     "output_type": "stream",
     "text": [
      "60 % done.\n",
      "\n"
     ]
    },
    {
     "name": "stdout",
     "output_type": "stream",
     "text": [
      "\n",
      " Fitting models using approximations to speed things up...\n",
      "\n",
      " Regression with ARIMA(2,1,2) errors : Inf\n",
      " Regression with ARIMA(0,1,0) errors : -14557.56\n",
      " Regression with ARIMA(1,1,0) errors : -14555.41\n",
      " Regression with ARIMA(0,1,1) errors : -14555.93\n",
      " Regression with ARIMA(0,1,0) errors : -14559.56\n",
      " Regression with ARIMA(1,1,1) errors : -14553.98\n",
      "\n",
      " Now re-fitting the best model(s) without approximations...\n",
      "\n",
      " Regression with ARIMA(0,1,0) errors : -14568.83\n",
      "\n",
      " Best model: Regression with ARIMA(0,1,0) errors \n",
      "\n"
     ]
    },
    {
     "name": "stderr",
     "output_type": "stream",
     "text": [
      "80 % done.\n",
      "\n"
     ]
    },
    {
     "name": "stdout",
     "output_type": "stream",
     "text": [
      "\n",
      " Fitting models using approximations to speed things up...\n",
      "\n",
      " Regression with ARIMA(2,1,2) errors : Inf\n",
      " Regression with ARIMA(0,1,0) errors : -14466.15\n",
      " Regression with ARIMA(1,1,0) errors : -14464.59\n",
      " Regression with ARIMA(0,1,1) errors : -14465.14\n",
      " Regression with ARIMA(0,1,0) errors : -14468.15\n",
      " Regression with ARIMA(1,1,1) errors : -14463.16\n",
      "\n",
      " Now re-fitting the best model(s) without approximations...\n",
      "\n",
      " Regression with ARIMA(0,1,0) errors : -14477.38\n",
      "\n",
      " Best model: Regression with ARIMA(0,1,0) errors \n",
      "\n"
     ]
    },
    {
     "name": "stderr",
     "output_type": "stream",
     "text": [
      "100 % done.\n",
      "\n"
     ]
    }
   ],
   "source": [
    "result.m03.2 <- my.tsCV(trainx[,1], cv.forecast.2, h=hori, window=wind, step=peri,\n",
    "                       silent=F,\n",
    "                       xreg=trainx[,2:4])"
   ]
  },
  {
   "cell_type": "code",
   "execution_count": 23,
   "id": "e4fa7c88-54f4-4a91-954c-62b4b79f5327",
   "metadata": {},
   "outputs": [
    {
     "name": "stdout",
     "output_type": "stream",
     "text": [
      "[1] \"cv starts from 2000-01-24\"\n"
     ]
    }
   ],
   "source": [
    "x <- result.m03.2\n",
    "from <- na.omit(x[,1])[1]\n",
    "from <- index(train[from])\n",
    "print(paste('cv starts from', from, sep=' '))"
   ]
  },
  {
   "cell_type": "markdown",
   "id": "435ab53e-426a-4b91-9d3a-d037e4dd9995",
   "metadata": {},
   "source": [
    "## Regressor mean of smaller period for forecast \n",
    "- Regressor mean for forecast is calculated from the number of latest 'horizon' period\n",
    "- the 1st model used the number of latest 'window' period for the calc of regressor mean"
   ]
  },
  {
   "cell_type": "code",
   "execution_count": 24,
   "id": "035d6b87-06c6-4440-88ae-98eaf1e6ca7b",
   "metadata": {
    "scrolled": true,
    "tags": []
   },
   "outputs": [
    {
     "name": "stdout",
     "output_type": "stream",
     "text": [
      "\n",
      " Fitting models using approximations to speed things up...\n",
      "\n",
      " Regression with ARIMA(2,1,2) errors : -14728.24\n",
      " Regression with ARIMA(0,1,0) errors : -14705.76\n",
      " Regression with ARIMA(1,1,0) errors : -14703.21\n",
      " Regression with ARIMA(0,1,1) errors : -14703.85\n",
      " Regression with ARIMA(0,1,0) errors : -14707.74\n",
      " Regression with ARIMA(1,1,2) errors : -14755.07\n",
      " Regression with ARIMA(0,1,2) errors : -14703.58\n",
      " Regression with ARIMA(1,1,1) errors : -14701.2\n",
      " Regression with ARIMA(1,1,3) errors : -14756.2\n",
      " Regression with ARIMA(0,1,3) errors : -14715.69\n",
      " Regression with ARIMA(2,1,3) errors : -14743.68\n",
      " Regression with ARIMA(1,1,4) errors : -14754.84\n",
      " Regression with ARIMA(0,1,4) errors : -14713.96\n",
      " Regression with ARIMA(2,1,4) errors : -14742.53\n",
      " Regression with ARIMA(1,1,3) errors : -14757.92\n",
      " Regression with ARIMA(0,1,3) errors : -14717.66\n",
      " Regression with ARIMA(1,1,2) errors : -14756.77\n",
      " Regression with ARIMA(2,1,3) errors : -14745.4\n",
      " Regression with ARIMA(1,1,4) errors : -14756.51\n",
      " Regression with ARIMA(0,1,2) errors : -14705.55\n",
      " Regression with ARIMA(0,1,4) errors : -14715.93\n",
      " Regression with ARIMA(2,1,2) errors : -14729.97\n",
      " Regression with ARIMA(2,1,4) errors : -14744.25\n",
      "\n",
      " Now re-fitting the best model(s) without approximations...\n",
      "\n",
      " Regression with ARIMA(1,1,3) errors : Inf\n",
      " Regression with ARIMA(1,1,2) errors : Inf\n",
      " Regression with ARIMA(1,1,4) errors : Inf\n",
      " Regression with ARIMA(1,1,3) errors : Inf\n",
      " Regression with ARIMA(1,1,2) errors : Inf\n",
      " Regression with ARIMA(1,1,4) errors : Inf\n",
      " Regression with ARIMA(2,1,3) errors : Inf\n",
      " Regression with ARIMA(2,1,4) errors : Inf\n",
      " Regression with ARIMA(2,1,3) errors : Inf\n",
      " Regression with ARIMA(2,1,4) errors : Inf\n",
      " Regression with ARIMA(2,1,2) errors : Inf\n",
      " Regression with ARIMA(2,1,2) errors : Inf\n",
      " Regression with ARIMA(0,1,3) errors : -14726.99\n",
      "\n",
      " Best model: Regression with ARIMA(0,1,3) errors \n",
      "\n"
     ]
    },
    {
     "name": "stderr",
     "output_type": "stream",
     "text": [
      "20 % done.\n",
      "\n"
     ]
    },
    {
     "name": "stdout",
     "output_type": "stream",
     "text": [
      "\n",
      " Fitting models using approximations to speed things up...\n",
      "\n",
      " Regression with ARIMA(2,1,2) errors : Inf\n",
      " Regression with ARIMA(0,1,0) errors : -14688.58\n",
      " Regression with ARIMA(1,1,0) errors : -14687.3\n",
      " Regression with ARIMA(0,1,1) errors : -14686.7\n",
      " Regression with ARIMA(0,1,0) errors : -14690.58\n",
      " Regression with ARIMA(1,1,1) errors : -14685.35\n",
      "\n",
      " Now re-fitting the best model(s) without approximations...\n",
      "\n",
      " Regression with ARIMA(0,1,0) errors : -14699.9\n",
      "\n",
      " Best model: Regression with ARIMA(0,1,0) errors \n",
      "\n"
     ]
    },
    {
     "name": "stderr",
     "output_type": "stream",
     "text": [
      "40 % done.\n",
      "\n"
     ]
    },
    {
     "name": "stdout",
     "output_type": "stream",
     "text": [
      "\n",
      " Fitting models using approximations to speed things up...\n",
      "\n",
      " Regression with ARIMA(2,1,2) errors : Inf\n",
      " Regression with ARIMA(0,1,0) errors : -14648.88\n",
      " Regression with ARIMA(1,1,0) errors : -14646.36\n",
      " Regression with ARIMA(0,1,1) errors : -14647.06\n",
      " Regression with ARIMA(0,1,0) errors : -14650.88\n",
      " Regression with ARIMA(1,1,1) errors : -14644.49\n",
      "\n",
      " Now re-fitting the best model(s) without approximations...\n",
      "\n",
      " Regression with ARIMA(0,1,0) errors : -14660.19\n",
      "\n",
      " Best model: Regression with ARIMA(0,1,0) errors \n",
      "\n"
     ]
    },
    {
     "name": "stderr",
     "output_type": "stream",
     "text": [
      "60 % done.\n",
      "\n"
     ]
    },
    {
     "name": "stdout",
     "output_type": "stream",
     "text": [
      "\n",
      " Fitting models using approximations to speed things up...\n",
      "\n",
      " Regression with ARIMA(2,1,2) errors : Inf\n",
      " Regression with ARIMA(0,1,0) errors : -14557.56\n",
      " Regression with ARIMA(1,1,0) errors : -14555.41\n",
      " Regression with ARIMA(0,1,1) errors : -14555.93\n",
      " Regression with ARIMA(0,1,0) errors : -14559.56\n",
      " Regression with ARIMA(1,1,1) errors : -14553.98\n",
      "\n",
      " Now re-fitting the best model(s) without approximations...\n",
      "\n",
      " Regression with ARIMA(0,1,0) errors : -14568.83\n",
      "\n",
      " Best model: Regression with ARIMA(0,1,0) errors \n",
      "\n"
     ]
    },
    {
     "name": "stderr",
     "output_type": "stream",
     "text": [
      "80 % done.\n",
      "\n"
     ]
    },
    {
     "name": "stdout",
     "output_type": "stream",
     "text": [
      "\n",
      " Fitting models using approximations to speed things up...\n",
      "\n",
      " Regression with ARIMA(2,1,2) errors : Inf\n",
      " Regression with ARIMA(0,1,0) errors : -14466.15\n",
      " Regression with ARIMA(1,1,0) errors : -14464.59\n",
      " Regression with ARIMA(0,1,1) errors : -14465.14\n",
      " Regression with ARIMA(0,1,0) errors : -14468.15\n",
      " Regression with ARIMA(1,1,1) errors : -14463.16\n",
      "\n",
      " Now re-fitting the best model(s) without approximations...\n",
      "\n",
      " Regression with ARIMA(0,1,0) errors : -14477.38\n",
      "\n",
      " Best model: Regression with ARIMA(0,1,0) errors \n",
      "\n"
     ]
    },
    {
     "name": "stderr",
     "output_type": "stream",
     "text": [
      "100 % done.\n",
      "\n"
     ]
    }
   ],
   "source": [
    "result.m03.3 <- my.tsCV(trainx[,1], cv.forecast.2, h=hori, window=wind, step=peri,\n",
    "                        xreg.msize=hori,\n",
    "                        xreg=trainx[,2:4])"
   ]
  },
  {
   "cell_type": "code",
   "execution_count": 25,
   "id": "dfd95132-f6b6-449a-80b4-b9750616bde5",
   "metadata": {},
   "outputs": [
    {
     "name": "stdout",
     "output_type": "stream",
     "text": [
      "[1] \"cv starts from 2000-01-24\"\n"
     ]
    }
   ],
   "source": [
    "x <- result.m03.3\n",
    "from <- na.omit(x[,1])[1]\n",
    "from <- index(train[from])\n",
    "print(paste('cv starts from', from, sep=' '))"
   ]
  },
  {
   "cell_type": "markdown",
   "id": "f53f2b51-a9df-4dbd-bdd6-d77af2fe524f",
   "metadata": {},
   "source": [
    "## Compare Errors"
   ]
  },
  {
   "cell_type": "code",
   "execution_count": 28,
   "id": "ed9c467c-feac-4461-816b-ac6a0abcae80",
   "metadata": {},
   "outputs": [],
   "source": [
    "my.figsize(10,6)"
   ]
  },
  {
   "cell_type": "code",
   "execution_count": 27,
   "id": "e499e5ce-1237-49e0-a787-a1be8de29cd1",
   "metadata": {},
   "outputs": [
    {
     "data": {
      "image/png": "[encoded data removed]",
      "text/plain": [
       "plot without title"
      ]
     },
     "metadata": {
      "image/png": {
       "height": 360,
       "width": 600
      }
     },
     "output_type": "display_data"
    }
   ],
   "source": [
    "errors.1 <- new.get_result(result.m03.1, '1. ARIMA')\n",
    "errors.2 <- new.get_result(result.m03.2, '2. ARIMA Errors 2')\n",
    "n <- paste('3. ARIMA Errors (future regressor mean of', hori ,'days)', sep=' ')\n",
    "errors.3 <- new.get_result(result.m03.3, n)\n",
    "\n",
    "x <- rbind(errors.1, errors.2)\n",
    "x <- rbind(x, errors.3)\n",
    "\n",
    "new.plot_errors(x, ylog=T)"
   ]
  },
  {
   "cell_type": "markdown",
   "id": "b9b58831-3950-4988-b3bf-3f5313d409f9",
   "metadata": {},
   "source": [
    "### save result"
   ]
  },
  {
   "cell_type": "code",
   "execution_count": 27,
   "id": "ab39eccc-4453-4c0e-b430-b46b51c21e45",
   "metadata": {},
   "outputs": [],
   "source": [
    "x <- result.m03.1\n",
    "write.csv(x, file = \"arima_result_m0301.csv\")\n",
    "x <- result.m03.2\n",
    "write.csv(x, file = \"arima_result_m0302.csv\")\n",
    "x <- result.m03.3\n",
    "write.csv(x, file = \"arima_result_m0303.csv\")"
   ]
  },
  {
   "cell_type": "markdown",
   "id": "92c35829-53d8-47e0-b381-71b6dfd0d856",
   "metadata": {},
   "source": [
    "### load result"
   ]
  },
  {
   "cell_type": "code",
   "execution_count": 25,
   "id": "c522e476-b850-4a80-8d6f-4d52ec6b5ae5",
   "metadata": {
    "scrolled": true,
    "tags": []
   },
   "outputs": [],
   "source": [
    "result.m03.1 <- read.csv(file = 'arima_result_m0301.csv')\n",
    "result.m03.2 <- read.csv(file = 'arima_result_m0302.csv')\n",
    "result.m03.3 <- read.csv(file = 'arima_result_m0303.csv')"
   ]
  },
  {
   "cell_type": "code",
   "execution_count": 60,
   "id": "9f0a8df7-b56a-46aa-9af5-d6702ae1057b",
   "metadata": {},
   "outputs": [],
   "source": [
    "result.m03 <- result.m03.1"
   ]
  },
  {
   "cell_type": "markdown",
   "id": "d88acae2-994b-4716-b170-6ce34970d63e",
   "metadata": {},
   "source": [
    "# ARIMA+GARCH"
   ]
  },
  {
   "cell_type": "markdown",
   "id": "748e4290-f9bd-441f-a136-17269a33122d",
   "metadata": {},
   "source": [
    "## Setting"
   ]
  },
  {
   "cell_type": "code",
   "execution_count": 29,
   "id": "f191fab1-f27c-4776-857e-0122f16923dd",
   "metadata": {},
   "outputs": [],
   "source": [
    "cv.forecast <- function(x, h, \n",
    "                        mxreg=NULL, mxreg.msize=NULL, \n",
    "                        vxreg=NULL, vxreg.msize=NULL,\n",
    "                        order=NULL) {\n",
    "    forc <- ag2.forecast(x, h, \n",
    "                         mxreg=mxreg, mxreg.msize=mxreg.msize, \n",
    "                         vxreg=vxreg, vxreg.msize=vxreg.msize, \n",
    "                         out.sample=0, order=order)\n",
    "    if (!is.na(forc)) {\n",
    "        fc <- list(method = \"ARIMA+GARCH Forecasting\", mean=forc@forecast$seriesFor[,1],\n",
    "                   arima.order=forc@users$arima.order)\n",
    "        attr(fc$mean, \"names\") <- NULL\n",
    "        return(fc)\n",
    "    }\n",
    "}\n",
    "\n",
    "agarch.forecast <- cv.forecast"
   ]
  },
  {
   "cell_type": "code",
   "execution_count": 30,
   "id": "ad24908e-79eb-4b66-afa7-325b1c04fd5f",
   "metadata": {},
   "outputs": [],
   "source": [
    "cv.forecast.2 <- function(x, h, ...) {\n",
    "    new.forecast(x, h, cv.forecast, ...)\n",
    "}"
   ]
  },
  {
   "cell_type": "markdown",
   "id": "6e8dd1a8-1213-4b11-be11-ed86fa7e0ac2",
   "metadata": {},
   "source": [
    "## Basic"
   ]
  },
  {
   "cell_type": "code",
   "execution_count": 31,
   "id": "3fc5c70c-df6f-49dd-b5a3-d09dcd858c0e",
   "metadata": {
    "scrolled": true,
    "tags": []
   },
   "outputs": [
    {
     "name": "stdout",
     "output_type": "stream",
     "text": [
      "[1] \"GARCH model does not converge\"\n"
     ]
    },
    {
     "name": "stderr",
     "output_type": "stream",
     "text": [
      "17 % done.\n",
      "\n",
      "33 % done.\n",
      "\n",
      "50 % done.\n",
      "\n",
      "67 % done.\n",
      "\n",
      "83 % done.\n",
      "\n",
      "100 % done.\n",
      "\n"
     ]
    }
   ],
   "source": [
    "result.m04.1 <- my.tsCV(train, cv.forecast.2, h=hori, window=wind, step=peri,\n",
    "                        silent=F)"
   ]
  },
  {
   "cell_type": "markdown",
   "id": "e4916d16-6a26-4c9c-bb1b-30988b39aa2a",
   "metadata": {},
   "source": [
    "## Regressors for mean"
   ]
  },
  {
   "cell_type": "code",
   "execution_count": 32,
   "id": "ce4d19cd-012a-426c-bd7f-9d312c363316",
   "metadata": {},
   "outputs": [
    {
     "name": "stderr",
     "output_type": "stream",
     "text": [
      "20 % done.\n",
      "\n",
      "40 % done.\n",
      "\n",
      "60 % done.\n",
      "\n",
      "80 % done.\n",
      "\n",
      "100 % done.\n",
      "\n"
     ]
    }
   ],
   "source": [
    "result.m04.2 <- my.tsCV(trainx[,1], cv.forecast.2, h=hori, window=wind, step=peri,\n",
    "                        mxreg=trainx[,2:4], silent=F)"
   ]
  },
  {
   "cell_type": "markdown",
   "id": "1b54ebef-c351-4357-8f97-9c524bd47711",
   "metadata": {},
   "source": [
    "## Regressors for variance"
   ]
  },
  {
   "cell_type": "code",
   "execution_count": 33,
   "id": "665586fb-e4bf-4356-86fb-2be0133969fd",
   "metadata": {},
   "outputs": [
    {
     "name": "stderr",
     "output_type": "stream",
     "text": [
      "20 % done.\n",
      "\n",
      "40 % done.\n",
      "\n",
      "60 % done.\n",
      "\n",
      "80 % done.\n",
      "\n",
      "100 % done.\n",
      "\n"
     ]
    }
   ],
   "source": [
    "result.m04.3 <- my.tsCV(trainx[,1], cv.forecast.2, h=hori, window=wind, step=peri,\n",
    "                        vxreg=trainx[,2:4], silent=F)"
   ]
  },
  {
   "cell_type": "markdown",
   "id": "26215cf2-deb9-45fa-be1f-ea72448a97b7",
   "metadata": {},
   "source": [
    "## Regressors for both of mean & variance"
   ]
  },
  {
   "cell_type": "code",
   "execution_count": 34,
   "id": "048f72f1-594f-416e-8dc4-a12ecb877efd",
   "metadata": {},
   "outputs": [
    {
     "name": "stderr",
     "output_type": "stream",
     "text": [
      "20 % done.\n",
      "\n",
      "40 % done.\n",
      "\n",
      "60 % done.\n",
      "\n",
      "80 % done.\n",
      "\n",
      "100 % done.\n",
      "\n"
     ]
    }
   ],
   "source": [
    "result.m04.4 <- my.tsCV(trainx[,1], cv.forecast.2, h=hori, window=wind, step=peri,\n",
    "                        mxreg=trainx[,2:4], vxreg=trainx[,2:4], \n",
    "                        silent=F)"
   ]
  },
  {
   "cell_type": "code",
   "execution_count": 35,
   "id": "b4805d3a-1bc0-47e4-95f8-d358940ab858",
   "metadata": {},
   "outputs": [
    {
     "name": "stdout",
     "output_type": "stream",
     "text": [
      "[1] \"cv starts from 2000-02-09\"\n"
     ]
    }
   ],
   "source": [
    "x <- result.m04.4\n",
    "from <- x[!is.na(x[,'forecast_start']),][,1][1]\n",
    "from <- index(trainx[from])\n",
    "print(paste('cv starts from', from, sep=' '))"
   ]
  },
  {
   "cell_type": "markdown",
   "id": "0c8c970c-798b-4d41-9930-01e336c80952",
   "metadata": {},
   "source": [
    "## Compare Errors"
   ]
  },
  {
   "cell_type": "code",
   "execution_count": 36,
   "id": "624fa65b-7533-4f86-86de-0c335271b0b6",
   "metadata": {},
   "outputs": [
    {
     "data": {
      "image/png": "[encoded data removed]",
      "text/plain": [
       "plot without title"
      ]
     },
     "metadata": {
      "image/png": {
       "height": 360,
       "width": 600
      }
     },
     "output_type": "display_data"
    }
   ],
   "source": [
    "errors.1 <- new.get_result(result.m04.1, '1.AG')\n",
    "errors.2 <- new.get_result(result.m04.2, '2.AG with mxreg')\n",
    "errors.3 <- new.get_result(result.m04.3, '3.AG with vxreg')\n",
    "errors.4 <- new.get_result(result.m04.4, '4.AG with m&v xreg')\n",
    "\n",
    "x <- rbind(errors.1, errors.2)\n",
    "x <- rbind(x, errors.3)\n",
    "x <- rbind(x, errors.4)\n",
    "\n",
    "new.plot_errors(x, ylog=T)"
   ]
  },
  {
   "cell_type": "markdown",
   "id": "51ec0491-dff8-4c4b-8965-bcbfbecf1375",
   "metadata": {},
   "source": [
    "### save result"
   ]
  },
  {
   "cell_type": "code",
   "execution_count": 31,
   "id": "4121890e-a78d-4c57-a282-e65c742ce8fc",
   "metadata": {},
   "outputs": [],
   "source": [
    "x <- result.m04.1\n",
    "write.csv(x, file = \"agarch_result_m0401.csv\")\n",
    "x <- result.m04.2\n",
    "write.csv(x, file = \"agarch_result_m0402.csv\")\n",
    "x <- result.m04.3\n",
    "write.csv(x, file = \"agarch_result_m0403.csv\")\n",
    "x <- result.m04.4\n",
    "write.csv(x, file = \"agarch_result_m0404.csv\")"
   ]
  },
  {
   "cell_type": "markdown",
   "id": "49ddbbe0-2e37-4bbc-b30e-eb93048e1f1a",
   "metadata": {},
   "source": [
    "### load result"
   ]
  },
  {
   "cell_type": "code",
   "execution_count": 28,
   "id": "199edcd6-5769-43b7-84e5-7169ce2ca863",
   "metadata": {
    "scrolled": true,
    "tags": []
   },
   "outputs": [],
   "source": [
    "result.m04.1 <- read.csv(file = 'agarch_result_m0401.csv')\n",
    "result.m04.2 <- read.csv(file = 'agarch_result_m0402.csv')\n",
    "result.m04.3 <- read.csv(file = 'agarch_result_m0403.csv')\n",
    "result.m04.4 <- read.csv(file = 'agarch_result_m0404.csv')"
   ]
  },
  {
   "cell_type": "code",
   "execution_count": 61,
   "id": "5ab8b4ec-19dc-42d8-bdcf-2c6d98936fc0",
   "metadata": {},
   "outputs": [],
   "source": [
    "result.m04 <- result.m04.1"
   ]
  },
  {
   "cell_type": "markdown",
   "id": "b679ca19-bc28-4b63-a30c-4307392c4bca",
   "metadata": {},
   "source": [
    "# Gradient Boosting"
   ]
  },
  {
   "cell_type": "markdown",
   "id": "7f404eb3-7cf4-4a6f-9bce-53f24d25335e",
   "metadata": {},
   "source": [
    "## Setting"
   ]
  },
  {
   "cell_type": "code",
   "execution_count": 40,
   "id": "26450ef3-ca0d-435c-b61b-67fabb48a9e3",
   "metadata": {},
   "outputs": [],
   "source": [
    "xgb.eval <- function(\n",
    "    train.label, train.features, test.label, test.features,\n",
    "    nrounds = 1000, early_stopping_rounds = 3,\n",
    "    max_depth = 6, \n",
    "    eta = 0.3, # learning rate\n",
    "    # In linear regression task, this simply corresponds to minimum number of instances needed to be in each node. \n",
    "    # The larger min_child_weight is, the more conservative the algorithm will be. range: [0,?]\n",
    "    #min_child_weight = 1 ,\n",
    "    # Minimum loss reduction required to make a further partition on a leaf node of the tree. \n",
    "    # The larger gamma is, the more conservative the algorithm will be. range: [0,?]\n",
    "    #gamma = 0,\n",
    "    verbose=0,\n",
    "    sample.n=0,\n",
    "    result.error=FALSE\n",
    ") \n",
    "{\n",
    "    if (is.null(dim(test.features))) {\n",
    "        # conver to matrix for the case of 1 day prediction\n",
    "        test.features <- t(test.features)\n",
    "    }\n",
    "    model <- xgboost(data = train.features,\n",
    "                     label = train.label,\n",
    "                     nrounds = nrounds,\n",
    "                     objective = \"reg:squarederror\",\n",
    "                     early_stopping_rounds = early_stopping_rounds,\n",
    "                     max_depth = max_depth,\n",
    "                     eta = eta,\n",
    "                     verbose=verbose)\n",
    "\n",
    "    pred <- predict(model, test.features)\n",
    "    \n",
    "    if (result.error) {\n",
    "        h = length(pred)\n",
    "        idx = 1:h\n",
    "        if ((sample.n>0) & (sample.n<h)) {\n",
    "            idx <- sort(sample(idx, sample.n))\n",
    "        }\n",
    "\n",
    "        # calc errors\n",
    "        rmse <- sqrt((pred[idx] - test.label[idx])^2)\n",
    "        mape <- abs(1 - pred[idx] / test.label[idx])\n",
    "        result <- list(rmse.mean=mean(rmse), rmse.sigma=sd(rmse), \n",
    "                       mape.mean=mean(mape), mape.sigma=sd(mape))\n",
    "        return(result)\n",
    "    } else {\n",
    "        return(pred)\n",
    "    }\n",
    "}\n",
    "\n",
    "\n",
    "xgb.gridsearch <- function(label, features, test.h, hyper_grid, verbose=1) {\n",
    "    len <- length(label)\n",
    "    idx.train <- 1:(len-test.h)\n",
    "    idx.test <- (len-test.h+1):(len)\n",
    "    train.label <- label[idx.train]\n",
    "    train.features <- features[idx.train,]\n",
    "    test.label <- label[idx.test]\n",
    "    test.features <- features[idx.test,]\n",
    "    \n",
    "    xgb_test_rmse <- NULL\n",
    "    xgb_test_mape <- NULL\n",
    "\n",
    "    for (j in 1:nrow(hyper_grid)) {\n",
    "        #set.seed(123)\n",
    "        \n",
    "        errors <- xgb.eval(train.label, train.features, test.label, test.features,\n",
    "                            nrounds = 1000, early_stopping_rounds = 3,\n",
    "                            max_depth = hyper_grid$max_depth[j], \n",
    "                            eta = hyper_grid$eta[j],\n",
    "                            verbose=0, result.error=TRUE)\n",
    "        # calc errors\n",
    "        xgb_test_rmse[j] <- errors$rmse.mean\n",
    "        xgb_test_mape[j] <- errors$mape.mean\n",
    "    }\n",
    "\n",
    "    #ideal hyperparamters\n",
    "    r <- hyper_grid[which.min(xgb_test_rmse), ]\n",
    "    if (verbose>0) {\n",
    "        print(r)\n",
    "    }\n",
    "    return(r)\n",
    "}\n",
    "\n",
    "\n",
    "xgb.tsCV <- function (label, features, max_depth = 6, eta = .25,\n",
    "                      h = 1, window = NULL, initial = 0, step = 1, \n",
    "                      count.freq=0.1, ...) \n",
    "{\n",
    "    y <- as.ts(label)\n",
    "    n <- length(y)\n",
    "    step <- round(step)\n",
    "    step_ind <- seq(step, n - 1L, by = step)\n",
    "\n",
    "    if (initial >= n) \n",
    "        stop(\"initial period too long\")\n",
    "\n",
    "    xreg <- ts(as.matrix(features))\n",
    "    if (NROW(xreg) != length(y)) \n",
    "        stop(\"features must be of the same size as label\")\n",
    "    tsp(xreg) <- tsp(y)\n",
    " \n",
    "    if (is.null(window)) {\n",
    "        indx <- seq(1 + initial, n - 1L)\n",
    "    } else {\n",
    "        indx <- seq(window + initial, n - 1L, by = 1L)\n",
    "    }\n",
    "    indx <- intersect(indx, step_ind)\n",
    "\n",
    "    e.cols <- c('forecast_start', 'forecast_end', \n",
    "                'rmse.mean', 'rmse.sigma', 'mape.mean', 'mape.sigma')\n",
    "    e <- ts(matrix(NA_real_, nrow = floor(n/step), ncol = length(e.cols)))\n",
    "    colnames(e) <- e.cols\n",
    "    \n",
    "    ###\n",
    "    hyper_grid <- expand.grid(max_depth = max_depth, eta = eta)\n",
    "    if (nrow(hyper_grid)>1) {\n",
    "        hyper_grid.flag <- TRUE\n",
    "    } else {\n",
    "        hyper_grid.flag <- FALSE\n",
    "    }\n",
    "    \n",
    "\n",
    "    indx.len <- length(indx)\n",
    "    by <- round(count.freq*indx.len)\n",
    "    by <- max(1, by)\n",
    "    print.when <- seq(0, indx.len, by=by)\n",
    "    \n",
    "    cnt <- 0\n",
    "    \n",
    "    for (i in indx) {\n",
    "        # get new start of subset of y & xreg\n",
    "        if (is.null(window)) {\n",
    "            start <- 1L\n",
    "        } else {\n",
    "            if (i - window >= 0L) {\n",
    "                start <- i - window + 1L\n",
    "            } else {\n",
    "                stop(\"small window\")\n",
    "            }\n",
    "        }\n",
    "        train.label <- subset(y, start=start, end = i)\n",
    "        train.features <- as.matrix(subset(xreg, start=start, end=i))\n",
    "        \n",
    "        # get test data\n",
    "        start <- i+1\n",
    "        end <- i+h\n",
    "        if (end <= nrow(xreg)) {\n",
    "            test.label <- subset(y, start=start, end=end)\n",
    "            test.features <- as.matrix(subset(xreg, start=start, end=end))\n",
    "        } else {\n",
    "            next\n",
    "        }\n",
    "        \n",
    "        # tune hyperparams\n",
    "        if (hyper_grid.flag) {\n",
    "            res <- xgb.gridsearch(train.label, train.features, h, hyper_grid)\n",
    "            max_depth.best <- res$max_depth\n",
    "            eta.best <- res$eta\n",
    "        } else {\n",
    "            max_depth.best <- max_depth\n",
    "            eta.best <- eta\n",
    "        }\n",
    "        \n",
    "        # train model\n",
    "        errors <- xgb.eval(train.label, train.features, test.label, test.features,\n",
    "                    nrounds = 1000, early_stopping_rounds = 3,\n",
    "                    max_depth = max_depth.best,\n",
    "                    eta = eta.best, result.error=TRUE, ...)\n",
    "        # calc errors\n",
    "        e[i/step, ] <- c(start, end, errors$rmse.mean, errors$rmse.sigma, \n",
    "                                     errors$mape.mean, errors$mape.sigma)\n",
    "\n",
    "        cnt <- cnt + 1\n",
    "        if (cnt %in% print.when) {\n",
    "            print(sprintf(\"%0.0f %% done.\", 100*cnt/length(indx)))\n",
    "        }\n",
    "    }\n",
    "    #return(na.omit(e)) # times of NA kept in e as attr(na.action)\n",
    "    return(e)\n",
    "}\n",
    "\n",
    "\n",
    "xgb.tsCV.mean <- function(label, features, cols=c(1,2,3,5), ...) {\n",
    "    e <- xgb.tsCV(label, features, ...)\n",
    "    result <- e[,cols]\n",
    "    colnames(result) <- c('forecast_start', 'forecast_end', 'rmse', 'mape')\n",
    "    return(result)\n",
    "}"
   ]
  },
  {
   "cell_type": "markdown",
   "id": "1e9ef27a-3429-4873-81bd-39c5a8842043",
   "metadata": {},
   "source": [
    "### set label & features"
   ]
  },
  {
   "cell_type": "code",
   "execution_count": 38,
   "id": "41c44a85-e47f-47bb-b011-36242e342e1d",
   "metadata": {
    "tags": []
   },
   "outputs": [
    {
     "data": {
      "text/plain": [
       "             logret_fwd     logret      rsi    bbands        macd\n",
       "1991-02-19 -0.003987479 0.10602550 72.59254 0.8419486 -0.03641515\n",
       "1991-02-20  0.003935860 0.09798126 66.25313 0.7706927 -0.18551057\n",
       "1991-02-21  0.006853764 0.10585688 66.00481 0.7330987 -0.30953562\n",
       "1991-02-22  0.011366830 0.10194779 66.54491 0.7402938 -0.39546732\n",
       "1991-02-25  0.024316594 0.09259647 67.84742 0.7305630 -0.43573971\n",
       "1991-02-26  0.033979664 0.07655978 60.80133 0.6379610 -0.55105032"
      ]
     },
     "metadata": {},
     "output_type": "display_data"
    },
    {
     "data": {
      "text/plain": [
       "            logret_fwd       logret      rsi    bbands       macd\n",
       "1991-03-20 0.043297723 -0.003987479 52.32729 0.2955472 -0.5878001\n",
       "1991-03-21 0.038451421  0.003935860 50.29479 0.3135024 -0.6182388\n",
       "1991-03-22 0.038123240  0.006853764 51.65309 0.2490278 -0.6049896\n",
       "1991-03-25 0.034364782  0.011366830 55.10298 0.4057512 -0.5386086\n",
       "1991-03-26 0.007808953  0.024316594 62.94322 0.6945332 -0.3702197\n",
       "1991-03-27 0.009730005  0.033979664 61.25189 0.8281562 -0.2741769"
      ]
     },
     "metadata": {},
     "output_type": "display_data"
    }
   ],
   "source": [
    "train.ml <- merge(lag.xts(trainx$y, -lookahead), trainx, join='left', fill=NA)\n",
    "colnames(train.ml) <- c('logret_fwd', 'logret', 'rsi','bbands','macd')\n",
    "train.ml <- na.omit(train.ml)\n",
    "\n",
    "x <- head(train.ml, lookahead+6)\n",
    "head(x)\n",
    "tail(x)\n",
    "#tail(train.ml)\n",
    "\n",
    "idx.label <- 1\n",
    "idx.feautres <- 2:5"
   ]
  },
  {
   "cell_type": "markdown",
   "id": "3a5a72f7-a53b-4172-9753-65db6e1810b9",
   "metadata": {},
   "source": [
    "## Default"
   ]
  },
  {
   "cell_type": "code",
   "execution_count": 41,
   "id": "df96df9e-dc59-4ec1-89d5-b364e10ca18b",
   "metadata": {},
   "outputs": [
    {
     "name": "stdout",
     "output_type": "stream",
     "text": [
      "[1] \"25 % done.\"\n",
      "[1] \"50 % done.\"\n",
      "[1] \"75 % done.\"\n",
      "[1] \"100 % done.\"\n"
     ]
    }
   ],
   "source": [
    "result.m05.1 <- xgb.tsCV.mean(train.ml[,idx.label], train.ml[,idx.feautres], \n",
    "                              h=1, window=wind, step=peri)"
   ]
  },
  {
   "cell_type": "code",
   "execution_count": 42,
   "id": "bc486be0-bde8-476d-9bdb-aaddc7d822d6",
   "metadata": {},
   "outputs": [
    {
     "name": "stdout",
     "output_type": "stream",
     "text": [
      "[1] \"cv starts from 2000-02-09\"\n"
     ]
    }
   ],
   "source": [
    "x <- result.m05.1\n",
    "from <- x[!is.na(x[,'forecast_start']),][,1][1]\n",
    "from <- index(trainx[from])\n",
    "print(paste('cv starts from', from, sep=' '))"
   ]
  },
  {
   "cell_type": "markdown",
   "id": "bf56a93b-2659-491f-aeb0-639ca5afcc61",
   "metadata": {},
   "source": [
    "## Tuning params"
   ]
  },
  {
   "cell_type": "code",
   "execution_count": 53,
   "id": "3a5f7df4-0ca0-4beb-9270-5d8804fe7460",
   "metadata": {},
   "outputs": [
    {
     "data": {
      "text/html": [
       "6"
      ],
      "text/latex": [
       "6"
      ],
      "text/markdown": [
       "6"
      ],
      "text/plain": [
       "[1] 6"
      ]
     },
     "metadata": {},
     "output_type": "display_data"
    }
   ],
   "source": [
    "#max_depth <- seq(4, 8, 1)\n",
    "#eta <- c(0.01, 0.05, 0.1, 0.2, 0.3)\n",
    "\n",
    "max_depth <- seq(5, 7, 1)\n",
    "eta <- c(0.01, 0.1)\n",
    "\n",
    "x <- expand.grid(max_depth = max_depth, eta = eta)\n",
    "nrow(x)"
   ]
  },
  {
   "cell_type": "code",
   "execution_count": 54,
   "id": "abe039a1-18cb-4a44-9909-88f34afdb9c4",
   "metadata": {
    "scrolled": true,
    "tags": []
   },
   "outputs": [
    {
     "name": "stdout",
     "output_type": "stream",
     "text": [
      "  max_depth eta\n",
      "4         5 0.1\n",
      "[1] \"25 % done.\"\n",
      "  max_depth  eta\n",
      "3         7 0.01\n",
      "[1] \"50 % done.\"\n",
      "  max_depth  eta\n",
      "2         6 0.01\n",
      "[1] \"75 % done.\"\n"
     ]
    }
   ],
   "source": [
    "result.m05.2 <- xgb.tsCV.mean(train.ml[,idx.label], train.ml[,idx.feautres], \n",
    "                              h=hori, window=wind, step=peri,\n",
    "                              max_depth = max_depth, eta = eta)"
   ]
  },
  {
   "cell_type": "markdown",
   "id": "d5dc8e1c-2053-444f-84cb-5bd9132cecf3",
   "metadata": {},
   "source": [
    "## Compare Models"
   ]
  },
  {
   "cell_type": "code",
   "execution_count": 55,
   "id": "82ffd869-5005-4fdb-8977-7712eac50d7c",
   "metadata": {},
   "outputs": [],
   "source": [
    "my.figsize(10,6)"
   ]
  },
  {
   "cell_type": "code",
   "execution_count": 56,
   "id": "12fa005b-99d2-4390-8adc-0eaf9f019ce6",
   "metadata": {},
   "outputs": [
    {
     "data": {
      "image/png": "[encoded data removed]",
      "text/plain": [
       "plot without title"
      ]
     },
     "metadata": {
      "image/png": {
       "height": 360,
       "width": 600
      }
     },
     "output_type": "display_data"
    }
   ],
   "source": [
    "errors.1 <- new.get_result(result.m05.1, '1.GBM 1')\n",
    "errors.2 <- new.get_result(result.m05.2, '2.GBM param tuned')\n",
    "\n",
    "x <- errors.1\n",
    "x <- rbind(x, errors.2)\n",
    "\n",
    "new.plot_errors(x, ylog=T)"
   ]
  },
  {
   "cell_type": "markdown",
   "id": "6a6d5142-2f6f-4a02-a902-047b11d9a798",
   "metadata": {},
   "source": [
    "### save result"
   ]
  },
  {
   "cell_type": "code",
   "execution_count": 54,
   "id": "120fef0e-57e6-41e7-ae91-5608745ac02a",
   "metadata": {},
   "outputs": [],
   "source": [
    "x <- result.m05.1\n",
    "write.csv(x, file = \"gbm_result_m0501.csv\")\n",
    "x <- result.m05.2\n",
    "write.csv(x, file = \"gbm_result_m0502.csv\")"
   ]
  },
  {
   "cell_type": "markdown",
   "id": "cc8a8c50-2cdd-4346-9796-f3fa26f85ebf",
   "metadata": {},
   "source": [
    "### load result"
   ]
  },
  {
   "cell_type": "code",
   "execution_count": 32,
   "id": "2934e69f-478c-4b34-9e90-2334ec83da27",
   "metadata": {
    "scrolled": true,
    "tags": []
   },
   "outputs": [],
   "source": [
    "result.m05.1 <- read.csv(file = 'gbm_result_m0501.csv')\n",
    "result.m05.2 <- read.csv(file = 'gbm_result_m0502.csv')"
   ]
  },
  {
   "cell_type": "code",
   "execution_count": 62,
   "id": "ec947a05-e8a1-497a-8ce4-36da525d0607",
   "metadata": {},
   "outputs": [],
   "source": [
    "result.m05 <- result.m05.1"
   ]
  },
  {
   "cell_type": "markdown",
   "id": "7fb209ef-30c2-4407-b353-1a388b17d202",
   "metadata": {},
   "source": [
    "# Model Comparision"
   ]
  },
  {
   "cell_type": "code",
   "execution_count": 64,
   "id": "b9a63c6f-09de-4820-a6e8-a454f4973d76",
   "metadata": {},
   "outputs": [],
   "source": [
    "#errors.1 <- new.get_result(result.m01, '1. Prophet')\n",
    "#errors.2 <- new.get_result(result.m02, '2. BSTS')\n",
    "errors.3 <- new.get_result(result.m03, '3. ARIMA')\n",
    "errors.4 <- new.get_result(result.m04, '4. ARIMA+GARCH')\n",
    "errors.5 <- new.get_result(result.m05, '5. Gradient Boosting')"
   ]
  },
  {
   "cell_type": "code",
   "execution_count": 65,
   "id": "27d10fd6-6a42-4cc0-8441-08220c600b0d",
   "metadata": {
    "tags": []
   },
   "outputs": [
    {
     "data": {
      "image/png": "[encoded data removed]",
      "text/plain": [
       "plot without title"
      ]
     },
     "metadata": {
      "image/png": {
       "height": 300,
       "width": 600
      }
     },
     "output_type": "display_data"
    }
   ],
   "source": [
    "#errors.list <- list(errors.1, errors.2, errors.3, errors.4, errors.5)\n",
    "errors.list <- list(errors.3, errors.4, errors.5)\n",
    "x <- errors.list[[1]]\n",
    "for (e in errors.list[2:length(errors.list)]) {\n",
    "    x <- rbind(x, e)\n",
    "}\n",
    "\n",
    "my.figsize(10, 5)\n",
    "new.plot_errors(x, ylog=T)"
   ]
  },
  {
   "cell_type": "code",
   "execution_count": null,
   "id": "fd06f2b6-2391-499a-ae18-3310b7dc6dcb",
   "metadata": {},
   "outputs": [],
   "source": [
    "write.csv(x, file = \"result_comparison.csv\")"
   ]
  },
  {
   "cell_type": "markdown",
   "id": "e6adf8ad-567c-461e-a306-052d9af2451b",
   "metadata": {},
   "source": [
    "## Forecast with best model"
   ]
  },
  {
   "cell_type": "code",
   "execution_count": 276,
   "id": "cd4c644f-b363-4718-a2d5-84dc96697626",
   "metadata": {},
   "outputs": [],
   "source": [
    "h <- 21\n",
    "x.train <- train[1:wind]\n",
    "x.test <- train[(wind+1):(wind+h)]"
   ]
  },
  {
   "cell_type": "code",
   "execution_count": 277,
   "id": "468d812f-067c-41e8-b4cc-fa28cc823c97",
   "metadata": {},
   "outputs": [],
   "source": [
    "my.figsize(10,5)"
   ]
  },
  {
   "cell_type": "code",
   "execution_count": 278,
   "id": "31da8a77-3e6b-405a-afa2-1c2113fd74c8",
   "metadata": {},
   "outputs": [
    {
     "name": "stdout",
     "output_type": "stream",
     "text": [
      "\n",
      " Fitting models using approximations to speed things up...\n",
      "\n",
      " ARIMA(2,0,2) with non-zero mean : Inf\n",
      " ARIMA(0,0,0) with non-zero mean : -8729.901\n",
      " ARIMA(1,0,0) with non-zero mean : -13486.9\n",
      " ARIMA(0,0,1) with non-zero mean : -10820.55\n",
      " ARIMA(0,0,0) with zero mean     : -8407.697\n",
      " ARIMA(2,0,0) with non-zero mean : -13491.63\n",
      " ARIMA(3,0,0) with non-zero mean : -13491.75\n",
      " ARIMA(4,0,0) with non-zero mean : -13496.44\n",
      " ARIMA(5,0,0) with non-zero mean : -13502.01\n",
      " ARIMA(5,0,1) with non-zero mean : -13509.96\n",
      " ARIMA(4,0,1) with non-zero mean : -13504.29\n",
      " ARIMA(5,0,2) with non-zero mean : -13507.99\n",
      " ARIMA(4,0,2) with non-zero mean : -13508.66\n",
      " ARIMA(5,0,1) with zero mean     : -13497.02\n",
      "\n",
      " Now re-fitting the best model(s) without approximations...\n",
      "\n",
      " ARIMA(5,0,1) with non-zero mean : -13497.21\n",
      "\n",
      " Best model: ARIMA(5,0,1) with non-zero mean \n",
      "\n"
     ]
    },
    {
     "data": {
      "image/png": "[encoded data removed]",
      "text/plain": [
       "plot without title"
      ]
     },
     "metadata": {
      "image/png": {
       "height": 300,
       "width": 600
      }
     },
     "output_type": "display_data"
    }
   ],
   "source": [
    "fc <- arima.forecast(x.train, h)\n",
    "my.plot_forecast(fc, future=h, test=x.test, past=h*6)"
   ]
  },
  {
   "cell_type": "code",
   "execution_count": 95,
   "id": "dc2dfd61-7098-462a-8833-cce95aa054f2",
   "metadata": {},
   "outputs": [
    {
     "data": {
      "text/plain": [
       "NULL"
      ]
     },
     "metadata": {},
     "output_type": "display_data"
    },
    {
     "data": {
      "image/png": "[encoded data removed]",
      "text/plain": [
       "plot without title"
      ]
     },
     "metadata": {
      "image/png": {
       "height": 360,
       "width": 570
      }
     },
     "output_type": "display_data"
    }
   ],
   "source": [
    "bsts.lines <- function(fc, obs, ...) {\n",
    "    n1 <- ncol(fc$distribution)\n",
    "    time <- index(fc$original.series)\n",
    "    deltat <- tail(diff(tail(time, 2)), 1)\n",
    "    pred.time <- tail(time, 1) + (1:n1) * deltat\n",
    "    obs <- obs[1:length(pred.time)]\n",
    "    index(obs) <- pred.time\n",
    "    #l <- lines(obs)\n",
    "    l <- lines(pred.time, as.numeric(obs), ...)\n",
    "    return(l)\n",
    "}\n",
    "\n",
    "fc <- bsts.forecast(x.train, h, ping=0)\n",
    "\n",
    "my.figsize(9.5,6)\n",
    "plot(fc, plot.original=h*6)\n",
    "bsts.lines(fc, x.test, col='red')"
   ]
  },
  {
   "cell_type": "code",
   "execution_count": 60,
   "id": "530e5ffb-d5b4-4115-9e2c-644a6fd1a604",
   "metadata": {
    "tags": []
   },
   "outputs": [
    {
     "name": "stderr",
     "output_type": "stream",
     "text": [
      "Disabling daily seasonality. Run prophet with daily.seasonality=TRUE to override this.\n",
      "\n"
     ]
    },
    {
     "data": {
      "image/png": "[encoded data removed]",
      "text/plain": [
       "plot without title"
      ]
     },
     "metadata": {
      "image/png": {
       "height": 420,
       "width": 420
      }
     },
     "output_type": "display_data"
    }
   ],
   "source": [
    "# testing\n",
    "h <- 21\n",
    "x.train <- train[1:wind]\n",
    "x.test <- train[(wind+1):(wind+h)]\n",
    "\n",
    "#fc <- prophet.forecast(x.train, h, result.error=TRUE)\n",
    "fc <- prophet.forecast(x.train, h)\n",
    "plot(fc$model, fc$pred)"
   ]
  },
  {
   "cell_type": "code",
   "execution_count": 291,
   "id": "cf969669-5512-427c-b90f-8e780490f12d",
   "metadata": {},
   "outputs": [
    {
     "name": "stderr",
     "output_type": "stream",
     "text": [
      "Disabling daily seasonality. Run prophet with daily.seasonality=TRUE to override this.\n",
      "\n"
     ]
    }
   ],
   "source": [
    "fc <- prophet.forecast(x.train, h, result.error=F)"
   ]
  },
  {
   "cell_type": "code",
   "execution_count": 294,
   "id": "41fbfbe1-a009-4abb-9398-8b2378c91098",
   "metadata": {
    "collapsed": true,
    "jupyter": {
     "outputs_hidden": true
    },
    "tags": []
   },
   "outputs": [
    {
     "name": "stdout",
     "output_type": "stream",
     "text": [
      "List of 9\n",
      " $ data       :'data.frame':\t2289 obs. of  20 variables:\n",
      "  ..$ ds                        : POSIXct[1:2289], format: \"1991-01-31\" \"1991-02-01\" ...\n",
      "  ..$ y                         : num [1:2289] 0.0522 0.0636 0.0817 0.1076 0.1285 ...\n",
      "  ..$ trend                     : num [1:2289] 0.024 0.0239 0.0239 0.0239 0.0238 ...\n",
      "  ..$ additive_terms            : num [1:2289] 0.00722 0.00715 0.01232 0.01399 0.01474 ...\n",
      "  ..$ additive_terms_lower      : num [1:2289] 0.00722 0.00715 0.01232 0.01399 0.01474 ...\n",
      "  ..$ additive_terms_upper      : num [1:2289] 0.00722 0.00715 0.01232 0.01399 0.01474 ...\n",
      "  ..$ weekly                    : num [1:2289] -0.00562 -0.00683 -0.00537 -0.00495 -0.00543 ...\n",
      "  ..$ weekly_lower              : num [1:2289] -0.00562 -0.00683 -0.00537 -0.00495 -0.00543 ...\n",
      "  ..$ weekly_upper              : num [1:2289] -0.00562 -0.00683 -0.00537 -0.00495 -0.00543 ...\n",
      "  ..$ yearly                    : num [1:2289] 0.0128 0.014 0.0177 0.0189 0.0202 ...\n",
      "  ..$ yearly_lower              : num [1:2289] 0.0128 0.014 0.0177 0.0189 0.0202 ...\n",
      "  ..$ yearly_upper              : num [1:2289] 0.0128 0.014 0.0177 0.0189 0.0202 ...\n",
      "  ..$ multiplicative_terms      : num [1:2289] 0 0 0 0 0 0 0 0 0 0 ...\n",
      "  ..$ multiplicative_terms_lower: num [1:2289] 0 0 0 0 0 0 0 0 0 0 ...\n",
      "  ..$ multiplicative_terms_upper: num [1:2289] 0 0 0 0 0 0 0 0 0 0 ...\n",
      "  ..$ yhat_lower                : num [1:2289] -0.01149 -0.01235 -0.00413 -0.00416 -0.00214 ...\n",
      "  ..$ yhat_upper                : num [1:2289] 0.0738 0.074 0.0803 0.0809 0.0811 ...\n",
      "  ..$ trend_lower               : num [1:2289] 0.024 0.0239 0.0239 0.0239 0.0238 ...\n",
      "  ..$ trend_upper               : num [1:2289] 0.024 0.0239 0.0239 0.0239 0.0238 ...\n",
      "  ..$ yhat                      : num [1:2289] 0.0312 0.0311 0.0362 0.0379 0.0386 ...\n",
      " $ layers     :List of 3\n",
      "  ..$ :Classes 'LayerInstance', 'Layer', 'ggproto', 'gg' <ggproto object: Class LayerInstance, Layer, gg>\n",
      "    aes_params: list\n",
      "    compute_aesthetics: function\n",
      "    compute_geom_1: function\n",
      "    compute_geom_2: function\n",
      "    compute_position: function\n",
      "    compute_statistic: function\n",
      "    computed_geom_params: NULL\n",
      "    computed_mapping: NULL\n",
      "    computed_stat_params: NULL\n",
      "    data: waiver\n",
      "    draw_geom: function\n",
      "    finish_statistics: function\n",
      "    geom: <ggproto object: Class GeomRibbon, Geom, gg>\n",
      "        aesthetics: function\n",
      "        default_aes: uneval\n",
      "        draw_group: function\n",
      "        draw_key: function\n",
      "        draw_layer: function\n",
      "        draw_panel: function\n",
      "        extra_params: na.rm orientation\n",
      "        handle_na: function\n",
      "        non_missing_aes: \n",
      "        optional_aes: \n",
      "        parameters: function\n",
      "        required_aes: x|y ymin|xmin ymax|xmax\n",
      "        setup_data: function\n",
      "        setup_params: function\n",
      "        use_defaults: function\n",
      "        super:  <ggproto object: Class Geom, gg>\n",
      "    geom_params: list\n",
      "    inherit.aes: TRUE\n",
      "    layer_data: function\n",
      "    map_statistic: function\n",
      "    mapping: uneval\n",
      "    position: <ggproto object: Class PositionIdentity, Position, gg>\n",
      "        compute_layer: function\n",
      "        compute_panel: function\n",
      "        required_aes: \n",
      "        setup_data: function\n",
      "        setup_params: function\n",
      "        super:  <ggproto object: Class Position, gg>\n",
      "    print: function\n",
      "    setup_layer: function\n",
      "    show.legend: NA\n",
      "    stat: <ggproto object: Class StatIdentity, Stat, gg>\n",
      "        aesthetics: function\n",
      "        compute_group: function\n",
      "        compute_layer: function\n",
      "        compute_panel: function\n",
      "        default_aes: uneval\n",
      "        extra_params: na.rm\n",
      "        finish_layer: function\n",
      "        non_missing_aes: \n",
      "        optional_aes: \n",
      "        parameters: function\n",
      "        required_aes: \n",
      "        retransform: TRUE\n",
      "        setup_data: function\n",
      "        setup_params: function\n",
      "        super:  <ggproto object: Class Stat, gg>\n",
      "    stat_params: list\n",
      "    super:  <ggproto object: Class Layer, gg> \n",
      "  ..$ :Classes 'LayerInstance', 'Layer', 'ggproto', 'gg' <ggproto object: Class LayerInstance, Layer, gg>\n",
      "    aes_params: list\n",
      "    compute_aesthetics: function\n",
      "    compute_geom_1: function\n",
      "    compute_geom_2: function\n",
      "    compute_position: function\n",
      "    compute_statistic: function\n",
      "    computed_geom_params: NULL\n",
      "    computed_mapping: NULL\n",
      "    computed_stat_params: NULL\n",
      "    data: waiver\n",
      "    draw_geom: function\n",
      "    finish_statistics: function\n",
      "    geom: <ggproto object: Class GeomPoint, Geom, gg>\n",
      "        aesthetics: function\n",
      "        default_aes: uneval\n",
      "        draw_group: function\n",
      "        draw_key: function\n",
      "        draw_layer: function\n",
      "        draw_panel: function\n",
      "        extra_params: na.rm\n",
      "        handle_na: function\n",
      "        non_missing_aes: size shape colour\n",
      "        optional_aes: \n",
      "        parameters: function\n",
      "        required_aes: x y\n",
      "        setup_data: function\n",
      "        setup_params: function\n",
      "        use_defaults: function\n",
      "        super:  <ggproto object: Class Geom, gg>\n",
      "    geom_params: list\n",
      "    inherit.aes: TRUE\n",
      "    layer_data: function\n",
      "    map_statistic: function\n",
      "    mapping: NULL\n",
      "    position: <ggproto object: Class PositionIdentity, Position, gg>\n",
      "        compute_layer: function\n",
      "        compute_panel: function\n",
      "        required_aes: \n",
      "        setup_data: function\n",
      "        setup_params: function\n",
      "        super:  <ggproto object: Class Position, gg>\n",
      "    print: function\n",
      "    setup_layer: function\n",
      "    show.legend: NA\n",
      "    stat: <ggproto object: Class StatIdentity, Stat, gg>\n",
      "        aesthetics: function\n",
      "        compute_group: function\n",
      "        compute_layer: function\n",
      "        compute_panel: function\n",
      "        default_aes: uneval\n",
      "        extra_params: na.rm\n",
      "        finish_layer: function\n",
      "        non_missing_aes: \n",
      "        optional_aes: \n",
      "        parameters: function\n",
      "        required_aes: \n",
      "        retransform: TRUE\n",
      "        setup_data: function\n",
      "        setup_params: function\n",
      "        super:  <ggproto object: Class Stat, gg>\n",
      "    stat_params: list\n",
      "    super:  <ggproto object: Class Layer, gg> \n",
      "  ..$ :Classes 'LayerInstance', 'Layer', 'ggproto', 'gg' <ggproto object: Class LayerInstance, Layer, gg>\n",
      "    aes_params: list\n",
      "    compute_aesthetics: function\n",
      "    compute_geom_1: function\n",
      "    compute_geom_2: function\n",
      "    compute_position: function\n",
      "    compute_statistic: function\n",
      "    computed_geom_params: NULL\n",
      "    computed_mapping: NULL\n",
      "    computed_stat_params: NULL\n",
      "    data: waiver\n",
      "    draw_geom: function\n",
      "    finish_statistics: function\n",
      "    geom: <ggproto object: Class GeomLine, GeomPath, Geom, gg>\n",
      "        aesthetics: function\n",
      "        default_aes: uneval\n",
      "        draw_group: function\n",
      "        draw_key: function\n",
      "        draw_layer: function\n",
      "        draw_panel: function\n",
      "        extra_params: na.rm orientation\n",
      "        handle_na: function\n",
      "        non_missing_aes: \n",
      "        optional_aes: \n",
      "        parameters: function\n",
      "        required_aes: x y\n",
      "        setup_data: function\n",
      "        setup_params: function\n",
      "        use_defaults: function\n",
      "        super:  <ggproto object: Class GeomPath, Geom, gg>\n",
      "    geom_params: list\n",
      "    inherit.aes: TRUE\n",
      "    layer_data: function\n",
      "    map_statistic: function\n",
      "    mapping: uneval\n",
      "    position: <ggproto object: Class PositionIdentity, Position, gg>\n",
      "        compute_layer: function\n",
      "        compute_panel: function\n",
      "        required_aes: \n",
      "        setup_data: function\n",
      "        setup_params: function\n",
      "        super:  <ggproto object: Class Position, gg>\n",
      "    print: function\n",
      "    setup_layer: function\n",
      "    show.legend: NA\n",
      "    stat: <ggproto object: Class StatIdentity, Stat, gg>\n",
      "        aesthetics: function\n",
      "        compute_group: function\n",
      "        compute_layer: function\n",
      "        compute_panel: function\n",
      "        default_aes: uneval\n",
      "        extra_params: na.rm\n",
      "        finish_layer: function\n",
      "        non_missing_aes: \n",
      "        optional_aes: \n",
      "        parameters: function\n",
      "        required_aes: \n",
      "        retransform: TRUE\n",
      "        setup_data: function\n",
      "        setup_params: function\n",
      "        super:  <ggproto object: Class Stat, gg>\n",
      "    stat_params: list\n",
      "    super:  <ggproto object: Class Layer, gg> \n",
      " $ scales     :Classes 'ScalesList', 'ggproto', 'gg' <ggproto object: Class ScalesList, gg>\n",
      "    add: function\n",
      "    clone: function\n",
      "    find: function\n",
      "    get_scales: function\n",
      "    has_scale: function\n",
      "    input: function\n",
      "    n: function\n",
      "    non_position_scales: function\n",
      "    scales: list\n",
      "    super:  <ggproto object: Class ScalesList, gg> \n",
      " $ mapping    :List of 2\n",
      "  ..$ x: language ~ds\n",
      "  .. ..- attr(*, \".Environment\")=<environment: 0x559cd43a4120> \n",
      "  ..$ y: language ~y\n",
      "  .. ..- attr(*, \".Environment\")=<environment: 0x559cd43a4120> \n",
      "  ..- attr(*, \"class\")= chr \"uneval\"\n",
      " $ theme      :List of 1\n",
      "  ..$ aspect.ratio: num 0.6\n",
      "  ..- attr(*, \"complete\")= logi FALSE\n",
      "  ..- attr(*, \"validate\")= logi TRUE\n",
      " $ coordinates:Classes 'CoordCartesian', 'Coord', 'ggproto', 'gg' <ggproto object: Class CoordCartesian, Coord, gg>\n",
      "    aspect: function\n",
      "    backtransform_range: function\n",
      "    clip: on\n",
      "    default: TRUE\n",
      "    distance: function\n",
      "    expand: TRUE\n",
      "    is_free: function\n",
      "    is_linear: function\n",
      "    labels: function\n",
      "    limits: list\n",
      "    modify_scales: function\n",
      "    range: function\n",
      "    render_axis_h: function\n",
      "    render_axis_v: function\n",
      "    render_bg: function\n",
      "    render_fg: function\n",
      "    setup_data: function\n",
      "    setup_layout: function\n",
      "    setup_panel_guides: function\n",
      "    setup_panel_params: function\n",
      "    setup_params: function\n",
      "    train_panel_guides: function\n",
      "    transform: function\n",
      "    super:  <ggproto object: Class CoordCartesian, Coord, gg> \n",
      " $ facet      :Classes 'FacetNull', 'Facet', 'ggproto', 'gg' <ggproto object: Class FacetNull, Facet, gg>\n",
      "    compute_layout: function\n",
      "    draw_back: function\n",
      "    draw_front: function\n",
      "    draw_labels: function\n",
      "    draw_panels: function\n",
      "    finish_data: function\n",
      "    init_scales: function\n",
      "    map_data: function\n",
      "    params: list\n",
      "    setup_data: function\n",
      "    setup_params: function\n",
      "    shrink: TRUE\n",
      "    train_scales: function\n",
      "    vars: function\n",
      "    super:  <ggproto object: Class FacetNull, Facet, gg> \n",
      " $ plot_env   :<environment: 0x559cd43a4120> \n",
      " $ labels     :List of 4\n",
      "  ..$ x   : chr \"ds\"\n",
      "  ..$ y   : chr \"y\"\n",
      "  ..$ ymin: chr \"yhat_lower\"\n",
      "  ..$ ymax: chr \"yhat_upper\"\n",
      " - attr(*, \"class\")= chr [1:2] \"gg\" \"ggplot\"\n"
     ]
    }
   ],
   "source": [
    "str(plot(fc$model, fc$pred, type='l'))"
   ]
  },
  {
   "cell_type": "code",
   "execution_count": null,
   "id": "4eb2f8c5-aaba-46d9-9f39-50f832e2fdf7",
   "metadata": {},
   "outputs": [],
   "source": []
  }
 ],
 "metadata": {
  "kernelspec": {
   "display_name": "R",
   "language": "R",
   "name": "ir"
  },
  "language_info": {
   "codemirror_mode": "r",
   "file_extension": ".r",
   "mimetype": "text/x-r-source",
   "name": "R",
   "pygments_lexer": "r",
   "version": "4.2.1"
  }
 },
 "nbformat": 4,
 "nbformat_minor": 5
}
