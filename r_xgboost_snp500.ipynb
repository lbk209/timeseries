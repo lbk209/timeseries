{
 "cells": [
  {
   "cell_type": "markdown",
   "id": "b320f118-50bf-4e9a-9b7f-99b3c5a4fa9e",
   "metadata": {},
   "source": [
    "# Setting"
   ]
  },
  {
   "cell_type": "markdown",
   "id": "29aebfc3-8fe6-4ad8-92d0-ee1ea6f832f1",
   "metadata": {},
   "source": [
    "https://xgboost.readthedocs.io/en/stable/R-package/xgboostPresentation.html"
   ]
  },
  {
   "cell_type": "code",
   "execution_count": 1,
   "id": "da413d34-6662-430e-b800-deb2bfef652f",
   "metadata": {},
   "outputs": [
    {
     "name": "stderr",
     "output_type": "stream",
     "text": [
      "also installing the dependency ‘data.table’\n",
      "\n",
      "\n",
      "Updating HTML index of packages in '.Library'\n",
      "\n",
      "Making 'packages.html' ...\n",
      " done\n",
      "\n"
     ]
    }
   ],
   "source": [
    "#install.packages(\"xgboost\")"
   ]
  },
  {
   "cell_type": "code",
   "execution_count": 1,
   "id": "6f8caab6-bc97-4309-b375-bce87d3d86a7",
   "metadata": {},
   "outputs": [],
   "source": [
    "library(xgboost)"
   ]
  },
  {
   "cell_type": "markdown",
   "id": "8e196c7c-f397-4f1f-932b-d26c939c9e6a",
   "metadata": {},
   "source": [
    "# Ex1"
   ]
  },
  {
   "cell_type": "code",
   "execution_count": 3,
   "id": "c68370e0-8e31-43e5-a021-038f40ce49ce",
   "metadata": {},
   "outputs": [
    {
     "name": "stdout",
     "output_type": "stream",
     "text": [
      "[1]\ttrain-logloss:0.233376 \n",
      "[2]\ttrain-logloss:0.136658 \n"
     ]
    }
   ],
   "source": [
    "# load data\n",
    "data(agaricus.train, package='xgboost')\n",
    "data(agaricus.test, package='xgboost')\n",
    "train <- agaricus.train\n",
    "test <- agaricus.test\n",
    "# fit model\n",
    "bst <- xgboost(data = train$data, label = train$label, max.depth = 2, eta = 1, nrounds = 2,\n",
    "               nthread = 2, objective = \"binary:logistic\")\n",
    "# predict\n",
    "pred <- predict(bst, test$data)"
   ]
  },
  {
   "cell_type": "code",
   "execution_count": 5,
   "id": "4bae5ed9-5897-47e1-8968-972ee4a9d9f7",
   "metadata": {},
   "outputs": [
    {
     "name": "stdout",
     "output_type": "stream",
     "text": [
      " num [1:1611] 0.2858 0.9239 0.2858 0.2858 0.0517 ...\n"
     ]
    }
   ],
   "source": [
    "str(pred)"
   ]
  },
  {
   "cell_type": "code",
   "execution_count": 6,
   "id": "72c47ef1-b6cf-429e-b984-686541c15769",
   "metadata": {},
   "outputs": [
    {
     "name": "stdout",
     "output_type": "stream",
     "text": [
      "List of 2\n",
      " $ data :Formal class 'dgCMatrix' [package \"Matrix\"] with 6 slots\n",
      "  .. ..@ i       : int [1:143286] 2 6 8 11 18 20 21 24 28 32 ...\n",
      "  .. ..@ p       : int [1:127] 0 369 372 3306 5845 6489 6513 8380 8384 10991 ...\n",
      "  .. ..@ Dim     : int [1:2] 6513 126\n",
      "  .. ..@ Dimnames:List of 2\n",
      "  .. .. ..$ : NULL\n",
      "  .. .. ..$ : chr [1:126] \"cap-shape=bell\" \"cap-shape=conical\" \"cap-shape=convex\" \"cap-shape=flat\" ...\n",
      "  .. ..@ x       : num [1:143286] 1 1 1 1 1 1 1 1 1 1 ...\n",
      "  .. ..@ factors : list()\n",
      " $ label: num [1:6513] 1 0 0 1 0 0 0 1 0 0 ...\n"
     ]
    }
   ],
   "source": [
    "str(train)"
   ]
  },
  {
   "cell_type": "code",
   "execution_count": 7,
   "id": "56500c80-7cbf-4c60-ad35-729b3848b301",
   "metadata": {},
   "outputs": [
    {
     "name": "stdout",
     "output_type": "stream",
     "text": [
      "Formal class 'dgCMatrix' [package \"Matrix\"] with 6 slots\n",
      "  ..@ i       : int [1:35442] 0 2 7 11 13 16 20 22 27 31 ...\n",
      "  ..@ p       : int [1:127] 0 83 84 806 1419 1603 1611 2064 2064 2701 ...\n",
      "  ..@ Dim     : int [1:2] 1611 126\n",
      "  ..@ Dimnames:List of 2\n",
      "  .. ..$ : NULL\n",
      "  .. ..$ : chr [1:126] \"cap-shape=bell\" \"cap-shape=conical\" \"cap-shape=convex\" \"cap-shape=flat\" ...\n",
      "  ..@ x       : num [1:35442] 1 1 1 1 1 1 1 1 1 1 ...\n",
      "  ..@ factors : list()\n"
     ]
    }
   ],
   "source": [
    "str(test$data)"
   ]
  },
  {
   "cell_type": "markdown",
   "id": "239e0945-207a-4f7e-b3dd-628c12e57760",
   "metadata": {},
   "source": [
    "# Ex2"
   ]
  },
  {
   "cell_type": "code",
   "execution_count": null,
   "id": "408ffeeb-0524-4358-b5c5-fe9671d8ef2b",
   "metadata": {},
   "outputs": [],
   "source": [
    "#cars_19 data set\n",
    "#extreme gradient boosting\n",
    "\n",
    "#raw data\n",
    "#https://www.fueleconomy.gov/feg/epadata/19data.zip\n",
    "\n",
    "library(xgboost)\n",
    "library(caret)\n",
    "library(dummies)\n",
    "library(DiagrammeR)"
   ]
  },
  {
   "cell_type": "markdown",
   "id": "8cdb3d32-6118-41af-927b-d1401ae5838d",
   "metadata": {},
   "source": [
    "## cars_19 data set\n",
    "- https://www.r-bloggers.com/2020/11/r-xgboost-regression/"
   ]
  },
  {
   "cell_type": "code",
   "execution_count": 9,
   "id": "b6077175-5257-4fac-9a33-14f07d582e4f",
   "metadata": {},
   "outputs": [
    {
     "name": "stderr",
     "output_type": "stream",
     "text": [
      "Warning message:\n",
      "“file ‘cars_19.csv’ has magic number 'Model'\n",
      "  Use of save versions prior to 2 is deprecated”\n"
     ]
    },
    {
     "ename": "ERROR",
     "evalue": "Error in load(\"cars_19.csv\"): bad restore file magic number (file may be corrupted) -- no data loaded\n",
     "output_type": "error",
     "traceback": [
      "Error in load(\"cars_19.csv\"): bad restore file magic number (file may be corrupted) -- no data loaded\nTraceback:\n",
      "1. load(\"cars_19.csv\")"
     ]
    }
   ],
   "source": [
    "load(\"cars_19.csv\")"
   ]
  },
  {
   "cell_type": "code",
   "execution_count": 11,
   "id": "c411bec2-79e9-430c-9edc-18dc2fd06814",
   "metadata": {},
   "outputs": [
    {
     "ename": "ERROR",
     "evalue": "Error in library(e1071): there is no package called ‘e1071’\n",
     "output_type": "error",
     "traceback": [
      "Error in library(e1071): there is no package called ‘e1071’\nTraceback:\n",
      "1. library(e1071)"
     ]
    }
   ],
   "source": [
    "library(e1071)"
   ]
  },
  {
   "cell_type": "code",
   "execution_count": null,
   "id": "a688e067-0fd5-4efa-8c7b-55ab7a25a3a1",
   "metadata": {},
   "outputs": [],
   "source": [
    "title <- \"extreme gradient boosting\"\n",
    "\n",
    "tmp <- cars_19[, c(4, 6, 7, 9:12)]\n",
    "tmp1 <- dummy.data.frame(tmp)\n",
    "d <- data.frame(cars_19[, c(1:3, 5, 8)], tmp1)\n",
    "m <- as.matrix(d)\n",
    "\n",
    "set.seed(123)\n",
    "indices <- sample(1:nrow(cars_19), size = 0.75 * nrow(cars_19))\n",
    "train <- m[indices,]\n",
    "test <- m[-indices,]\n",
    "\n",
    "m1_xgb <-\n",
    "  xgboost(\n",
    "    data = train[, 2:34],\n",
    "    label = train[, 1],\n",
    "    nrounds = 1000,\n",
    "    objective = \"reg:squarederror\",\n",
    "    early_stopping_rounds = 3,\n",
    "    max_depth = 6,\n",
    "    eta = .25\n",
    "  )\n",
    "\n",
    "pred_xgb <- predict(m1_xgb, test[, 2:34])\n",
    "\n",
    "yhat <- pred_xgb\n",
    "y <- test[, 1]\n",
    "postResample(yhat, y)\n",
    "\n",
    "r <- y - yhat\n",
    "plot(r, ylab = \"residuals\", main = title)\n",
    "\n",
    "plot(y,\n",
    "     yhat,\n",
    "     xlab = \"actual\",\n",
    "     ylab = \"predicted\",\n",
    "     main = title)\n",
    "abline(lm(yhat ~ y))\n",
    "\n",
    "#plot first 3 trees of model\n",
    "xgb.plot.tree(model = m1_xgb, trees = 0:2)\n",
    "\n",
    "importance_matrix <- xgb.importance(model = m1_xgb)\n",
    "xgb.plot.importance(importance_matrix, xlab = \"Feature Importance\")\n",
    "\n",
    "#RMSE      Rsquared   MAE\n",
    "#1.7374    0.8998     1.231"
   ]
  },
  {
   "cell_type": "code",
   "execution_count": null,
   "id": "3bb1f317-f02c-4464-ac45-c591a2600530",
   "metadata": {},
   "outputs": [],
   "source": [
    "#################\n",
    "#grid search\n",
    "#create hyperparameter grid\n",
    "hyper_grid <- expand.grid(max_depth = seq(3, 6, 1),\n",
    "                          eta = seq(.2, .35, .01))\n",
    "xgb_train_rmse <- NULL\n",
    "xgb_test_rmse <- NULL\n",
    "\n",
    "for (j in 1:nrow(hyper_grid)) {\n",
    "  set.seed(123)\n",
    "  m_xgb_untuned <- xgb.cv(\n",
    "    data = train[, 2:34],\n",
    "    label = train[, 1],\n",
    "    nrounds = 1000,\n",
    "    objective = \"reg:squarederror\",\n",
    "    early_stopping_rounds = 3,\n",
    "    nfold = 5,\n",
    "    max_depth = hyper_grid$max_depth[j],\n",
    "    eta = hyper_grid$eta[j]\n",
    "  )\n",
    "  \n",
    "  xgb_train_rmse[j] <- m_xgb_untuned$evaluation_log$train_rmse_mean[m_xgb_untuned$best_iteration]\n",
    "  xgb_test_rmse[j] <- m_xgb_untuned$evaluation_log$test_rmse_mean[m_xgb_untuned$best_iteration]\n",
    "  \n",
    "  cat(j, \"\\n\")\n",
    "}\n",
    "\n",
    "#ideal hyperparamters\n",
    "hyper_grid[which.min(xgb_test_rmse), ]\n",
    "\n",
    "#max_depth  eta\n",
    "#6         0.25 "
   ]
  },
  {
   "cell_type": "markdown",
   "id": "1ff5f7e8-c83c-4e66-86e2-6e7746c7fa52",
   "metadata": {},
   "source": [
    "- https://github.com/dmlc/xgboost/blob/master/R-package/demo/cross_validation.R\n",
    "- https://github.com/dmlc/xgboost/blob/master/R-package/demo/custom_objective.R"
   ]
  },
  {
   "cell_type": "markdown",
   "id": "f51eb005-f4ae-4877-ad15-677c52b4fa20",
   "metadata": {},
   "source": [
    "# Ex3"
   ]
  },
  {
   "cell_type": "markdown",
   "id": "eee8e115-26bc-4e08-980e-c930ab4d4679",
   "metadata": {},
   "source": [
    "## Setting"
   ]
  },
  {
   "cell_type": "code",
   "execution_count": 2,
   "id": "bd8ad7d9-8296-42b5-9a1d-291dc090d570",
   "metadata": {},
   "outputs": [
    {
     "name": "stderr",
     "output_type": "stream",
     "text": [
      "Loading required package: xts\n",
      "\n",
      "Loading required package: zoo\n",
      "\n",
      "\n",
      "Attaching package: ‘zoo’\n",
      "\n",
      "\n",
      "The following objects are masked from ‘package:base’:\n",
      "\n",
      "    as.Date, as.Date.numeric\n",
      "\n",
      "\n",
      "Loading required package: TTR\n",
      "\n",
      "Registered S3 method overwritten by 'quantmod':\n",
      "  method            from\n",
      "  as.zoo.data.frame zoo \n",
      "\n"
     ]
    }
   ],
   "source": [
    "library(quantmod)\n",
    "#library(forecast)\n",
    "#library(rugarch)\n",
    "\n",
    "\n",
    "#library(lattice)\n",
    "#library(timeSeries)\n"
   ]
  },
  {
   "cell_type": "code",
   "execution_count": 3,
   "id": "7b3bbf34-25d7-496d-84e6-4deab803cd51",
   "metadata": {},
   "outputs": [],
   "source": [
    "train_start <- '1991-01-01'\n",
    "train_end <- '2019-12-31'\n",
    "\n",
    "test_start <- '2020-01-01'\n",
    "test_end <- '2020-12-31'"
   ]
  },
  {
   "cell_type": "code",
   "execution_count": 4,
   "id": "2801e888-9039-4927-9766-7ec9194b039e",
   "metadata": {},
   "outputs": [
    {
     "data": {
      "text/html": [
       "'^GSPC'"
      ],
      "text/latex": [
       "'\\textasciicircum{}GSPC'"
      ],
      "text/markdown": [
       "'^GSPC'"
      ],
      "text/plain": [
       "[1] \"^GSPC\""
      ]
     },
     "metadata": {},
     "output_type": "display_data"
    }
   ],
   "source": [
    "from <- train_start\n",
    "to <- test_end\n",
    "getSymbols(\"^GSPC\", from=from, to=to)"
   ]
  },
  {
   "cell_type": "code",
   "execution_count": 5,
   "id": "6582d6b7-c0f9-48c5-97ae-589f4d0bc0d5",
   "metadata": {
    "tags": []
   },
   "outputs": [],
   "source": [
    "spx <- GSPC\n",
    "colnames(spx) <- c('o','h','l','c','v','a')"
   ]
  },
  {
   "cell_type": "code",
   "execution_count": 6,
   "id": "876bb3b1-4178-4570-8dfd-387af5e7fab1",
   "metadata": {},
   "outputs": [],
   "source": [
    "# daily log. return\n",
    "spx.ret <- diff(log(spx$a))\n",
    "colnames(spx.ret) <- 'logret'"
   ]
  },
  {
   "cell_type": "code",
   "execution_count": 7,
   "id": "8df89c7e-cef8-4db8-b2ad-3def027056c0",
   "metadata": {},
   "outputs": [],
   "source": [
    "YEAR <- 252\n",
    "hori <- 21\n",
    "peri <- floor(hori/2)\n",
    "#wind <- 5*YEAR\n",
    "wind <- 7*YEAR"
   ]
  },
  {
   "cell_type": "code",
   "execution_count": 8,
   "id": "98cc20b5-02eb-49aa-b4e5-0fb60ad2db44",
   "metadata": {},
   "outputs": [],
   "source": [
    "# testing\n",
    "train_start <- '1991-01-01'\n",
    "#train_end <- '2000-12-31'\n",
    "train_end <- '1998-12-31'\n",
    "train <- window(spx.ret, start=as.Date(train_start), end=as.Date(train_end))"
   ]
  },
  {
   "cell_type": "code",
   "execution_count": 9,
   "id": "954139ac-15f9-4072-a7d4-e65156c7e9cd",
   "metadata": {},
   "outputs": [
    {
     "data": {
      "text/html": [
       "<style>\n",
       ".list-inline {list-style: none; margin:0; padding: 0}\n",
       ".list-inline>li {display: inline-block}\n",
       ".list-inline>li:not(:last-child)::after {content: \"\\00b7\"; padding: 0 .5ex}\n",
       "</style>\n",
       "<ol class=list-inline><li>2023</li><li>1</li></ol>\n"
      ],
      "text/latex": [
       "\\begin{enumerate*}\n",
       "\\item 2023\n",
       "\\item 1\n",
       "\\end{enumerate*}\n"
      ],
      "text/markdown": [
       "1. 2023\n",
       "2. 1\n",
       "\n",
       "\n"
      ],
      "text/plain": [
       "[1] 2023    1"
      ]
     },
     "metadata": {},
     "output_type": "display_data"
    }
   ],
   "source": [
    "dim(train)"
   ]
  },
  {
   "cell_type": "code",
   "execution_count": 12,
   "id": "d3ddcdc6-24e6-4b9e-a21c-28f64518f7cd",
   "metadata": {},
   "outputs": [
    {
     "data": {
      "text/plain": [
       "              logret_fwd        logret      rsi    bbands        macd\n",
       "1991-02-19 -0.0115721543  0.0008938101 72.59254 0.8419486 -0.03641515\n",
       "1991-02-20 -0.0004657216 -0.0115721543 66.25313 0.7706927 -0.18551057\n",
       "1991-02-21  0.0018614141 -0.0004657216 66.00481 0.7330987 -0.30953562\n",
       "1991-02-22  0.0043934960  0.0018614141 66.54491 0.7402938 -0.39546732\n",
       "1991-02-25 -0.0121907956  0.0043934960 67.84742 0.7305630 -0.43573971\n",
       "1991-02-26  0.0134968638 -0.0121907956 60.80133 0.6379610 -0.55105032"
      ]
     },
     "metadata": {},
     "output_type": "display_data"
    },
    {
     "data": {
      "text/plain": [
       "              logret_fwd        logret      rsi    bbands         macd\n",
       "1998-12-22  0.0205344089  0.0006066963 64.03384 0.9710755 -0.003522569\n",
       "1998-12-23 -0.0018494463  0.0205344089 69.31506 1.1362226  0.180147518\n",
       "1998-12-24 -0.0006363021 -0.0018494463 68.33272 1.0891085  0.259187825\n",
       "1998-12-28  0.0132292844 -0.0006363021 67.97622 0.9989878  0.276423285\n",
       "1998-12-29 -0.0079879511  0.0132292844 71.34467 1.0004403  0.344477610\n",
       "1998-12-30 -0.0021941483 -0.0079879511 66.76606 0.9423269  0.300619993"
      ]
     },
     "metadata": {},
     "output_type": "display_data"
    }
   ],
   "source": [
    "train.ml <- merge(lag(train, -1), train, join='left', fill=NA)\n",
    "\n",
    "x <- RSI(spx$a)\n",
    "train.ml <- merge(train.ml, x, join='left', fill=NA)\n",
    "\n",
    "# use close instead of adjusted to make consistent with \"un-adjusted\" high & low\n",
    "x <- BBands(spx[,c('h','l','c')])\n",
    "x <- x$pctB\n",
    "train.ml <- merge(train.ml, x, join='left', fill=NA)\n",
    "\n",
    "x <- MACD(spx$a)\n",
    "x <- x$macd - x$signal\n",
    "train.ml <- merge(train.ml, x, join='left', fill=NA)\n",
    "\n",
    "colnames(train.ml) <- c('logret_fwd', 'logret', 'rsi','bbands','macd')\n",
    "train.ml <- na.omit(train.ml)\n",
    "head(train.ml)\n",
    "tail(train.ml)"
   ]
  },
  {
   "cell_type": "code",
   "execution_count": 15,
   "id": "0477508a-b0ad-485c-aa6a-1833e1c8b0e1",
   "metadata": {},
   "outputs": [],
   "source": [
    "x.train <- train.ml[1:wind, ]\n",
    "x.test <- train.ml[(wind+1):(wind+hori), ]"
   ]
  },
  {
   "cell_type": "code",
   "execution_count": 16,
   "id": "b6abeacd-3945-4a3d-b608-db38507369f8",
   "metadata": {},
   "outputs": [
    {
     "data": {
      "text/plain": [
       "              logret_fwd        logret      rsi    bbands      macd\n",
       "1998-02-02  0.0047128575  0.0211862185 64.31151 1.0077123 0.3841329\n",
       "1998-02-03  0.0008942561  0.0047128575 65.63865 1.0476494 0.4696863\n",
       "1998-02-04 -0.0033426007  0.0008942561 65.89851 0.9944159 0.4988247\n",
       "1998-02-05  0.0088493077 -0.0033426007 63.95399 0.9339544 0.4625227\n",
       "1998-02-06 -0.0017003088  0.0088493077 66.75831 0.9176886 0.4657009\n",
       "1998-02-09  0.0081488516 -0.0017003088 65.69693 0.8902353 0.4234937"
      ]
     },
     "metadata": {},
     "output_type": "display_data"
    },
    {
     "data": {
      "text/plain": [
       "             logret_fwd       logret      rsi    bbands          macd\n",
       "1998-03-04 -0.011794244 -0.004468118 67.95713 0.8269401  0.0006194371\n",
       "1998-03-05  0.019744744 -0.011794244 58.40712 0.6418364 -0.1262929284\n",
       "1998-03-06 -0.003206722  0.019744744 66.84162 0.8200728 -0.0876617586\n",
       "1998-03-09  0.011282522 -0.003206722 64.53378 0.8787179 -0.0951011368\n",
       "1998-03-10  0.003957366  0.011282522 68.65153 0.9631706 -0.0369398271\n",
       "1998-03-11  0.001356229  0.003957366 69.97824 1.0174471  0.0117336704"
      ]
     },
     "metadata": {},
     "output_type": "display_data"
    }
   ],
   "source": [
    "tail(x.train)\n",
    "tail(x.test)"
   ]
  },
  {
   "cell_type": "markdown",
   "id": "89e20900-5ee1-4fb7-a972-39d6e442b4cf",
   "metadata": {},
   "source": [
    "## Regression"
   ]
  },
  {
   "cell_type": "code",
   "execution_count": 18,
   "id": "7880cced-c6f5-4025-b6e2-605cf62084e8",
   "metadata": {
    "scrolled": true,
    "tags": []
   },
   "outputs": [
    {
     "name": "stdout",
     "output_type": "stream",
     "text": [
      "[1]\ttrain-rmse:0.374714 \n",
      "Will train until train_rmse hasn't improved in 3 rounds.\n",
      "\n",
      "[2]\ttrain-rmse:0.281132 \n",
      "[3]\ttrain-rmse:0.210946 \n",
      "[4]\ttrain-rmse:0.158317 \n",
      "[5]\ttrain-rmse:0.118863 \n",
      "[6]\ttrain-rmse:0.089300 \n",
      "[7]\ttrain-rmse:0.067167 \n",
      "[8]\ttrain-rmse:0.050622 \n",
      "[9]\ttrain-rmse:0.038286 \n",
      "[10]\ttrain-rmse:0.029131 \n",
      "[11]\ttrain-rmse:0.022385 \n",
      "[12]\ttrain-rmse:0.017463 \n",
      "[13]\ttrain-rmse:0.013929 \n",
      "[14]\ttrain-rmse:0.011434 \n",
      "[15]\ttrain-rmse:0.009667 \n",
      "[16]\ttrain-rmse:0.008457 \n",
      "[17]\ttrain-rmse:0.007657 \n",
      "[18]\ttrain-rmse:0.007143 \n",
      "[19]\ttrain-rmse:0.006783 \n",
      "[20]\ttrain-rmse:0.006509 \n",
      "[21]\ttrain-rmse:0.006354 \n",
      "[22]\ttrain-rmse:0.006224 \n",
      "[23]\ttrain-rmse:0.006121 \n",
      "[24]\ttrain-rmse:0.006059 \n",
      "[25]\ttrain-rmse:0.006011 \n",
      "[26]\ttrain-rmse:0.005975 \n",
      "[27]\ttrain-rmse:0.005908 \n",
      "[28]\ttrain-rmse:0.005875 \n",
      "[29]\ttrain-rmse:0.005790 \n",
      "[30]\ttrain-rmse:0.005707 \n",
      "[31]\ttrain-rmse:0.005574 \n",
      "[32]\ttrain-rmse:0.005518 \n",
      "[33]\ttrain-rmse:0.005481 \n",
      "[34]\ttrain-rmse:0.005467 \n",
      "[35]\ttrain-rmse:0.005421 \n",
      "[36]\ttrain-rmse:0.005353 \n",
      "[37]\ttrain-rmse:0.005342 \n",
      "[38]\ttrain-rmse:0.005281 \n",
      "[39]\ttrain-rmse:0.005226 \n",
      "[40]\ttrain-rmse:0.005166 \n",
      "[41]\ttrain-rmse:0.005094 \n",
      "[42]\ttrain-rmse:0.005027 \n",
      "[43]\ttrain-rmse:0.005012 \n",
      "[44]\ttrain-rmse:0.004991 \n",
      "[45]\ttrain-rmse:0.004912 \n",
      "[46]\ttrain-rmse:0.004881 \n",
      "[47]\ttrain-rmse:0.004873 \n",
      "[48]\ttrain-rmse:0.004840 \n",
      "[49]\ttrain-rmse:0.004794 \n",
      "[50]\ttrain-rmse:0.004742 \n",
      "[51]\ttrain-rmse:0.004729 \n",
      "[52]\ttrain-rmse:0.004676 \n",
      "[53]\ttrain-rmse:0.004614 \n",
      "[54]\ttrain-rmse:0.004603 \n",
      "[55]\ttrain-rmse:0.004521 \n",
      "[56]\ttrain-rmse:0.004485 \n",
      "[57]\ttrain-rmse:0.004448 \n",
      "[58]\ttrain-rmse:0.004421 \n",
      "[59]\ttrain-rmse:0.004406 \n",
      "[60]\ttrain-rmse:0.004358 \n",
      "[61]\ttrain-rmse:0.004332 \n",
      "[62]\ttrain-rmse:0.004298 \n",
      "[63]\ttrain-rmse:0.004252 \n",
      "[64]\ttrain-rmse:0.004244 \n",
      "[65]\ttrain-rmse:0.004184 \n",
      "[66]\ttrain-rmse:0.004147 \n",
      "[67]\ttrain-rmse:0.004108 \n",
      "[68]\ttrain-rmse:0.004042 \n",
      "[69]\ttrain-rmse:0.003999 \n",
      "[70]\ttrain-rmse:0.003977 \n",
      "[71]\ttrain-rmse:0.003908 \n",
      "[72]\ttrain-rmse:0.003861 \n",
      "[73]\ttrain-rmse:0.003840 \n",
      "[74]\ttrain-rmse:0.003822 \n",
      "[75]\ttrain-rmse:0.003808 \n",
      "[76]\ttrain-rmse:0.003722 \n",
      "[77]\ttrain-rmse:0.003676 \n",
      "[78]\ttrain-rmse:0.003641 \n",
      "[79]\ttrain-rmse:0.003616 \n",
      "[80]\ttrain-rmse:0.003588 \n",
      "[81]\ttrain-rmse:0.003532 \n",
      "[82]\ttrain-rmse:0.003495 \n",
      "[83]\ttrain-rmse:0.003441 \n",
      "[84]\ttrain-rmse:0.003401 \n",
      "[85]\ttrain-rmse:0.003383 \n",
      "[86]\ttrain-rmse:0.003336 \n",
      "[87]\ttrain-rmse:0.003328 \n",
      "[88]\ttrain-rmse:0.003306 \n",
      "[89]\ttrain-rmse:0.003270 \n",
      "[90]\ttrain-rmse:0.003244 \n",
      "[91]\ttrain-rmse:0.003223 \n",
      "[92]\ttrain-rmse:0.003201 \n",
      "[93]\ttrain-rmse:0.003190 \n",
      "[94]\ttrain-rmse:0.003173 \n",
      "[95]\ttrain-rmse:0.003166 \n",
      "[96]\ttrain-rmse:0.003153 \n",
      "[97]\ttrain-rmse:0.003124 \n",
      "[98]\ttrain-rmse:0.003088 \n",
      "[99]\ttrain-rmse:0.003051 \n",
      "[100]\ttrain-rmse:0.003026 \n",
      "[101]\ttrain-rmse:0.002995 \n",
      "[102]\ttrain-rmse:0.002961 \n",
      "[103]\ttrain-rmse:0.002947 \n",
      "[104]\ttrain-rmse:0.002942 \n",
      "[105]\ttrain-rmse:0.002903 \n",
      "[106]\ttrain-rmse:0.002864 \n",
      "[107]\ttrain-rmse:0.002833 \n",
      "[108]\ttrain-rmse:0.002796 \n",
      "[109]\ttrain-rmse:0.002774 \n",
      "[110]\ttrain-rmse:0.002757 \n",
      "[111]\ttrain-rmse:0.002731 \n",
      "[112]\ttrain-rmse:0.002712 \n",
      "[113]\ttrain-rmse:0.002698 \n",
      "[114]\ttrain-rmse:0.002689 \n",
      "[115]\ttrain-rmse:0.002673 \n",
      "[116]\ttrain-rmse:0.002641 \n",
      "[117]\ttrain-rmse:0.002622 \n",
      "[118]\ttrain-rmse:0.002612 \n",
      "[119]\ttrain-rmse:0.002602 \n",
      "[120]\ttrain-rmse:0.002590 \n",
      "[121]\ttrain-rmse:0.002562 \n",
      "[122]\ttrain-rmse:0.002557 \n",
      "[123]\ttrain-rmse:0.002544 \n",
      "[124]\ttrain-rmse:0.002532 \n",
      "[125]\ttrain-rmse:0.002529 \n",
      "[126]\ttrain-rmse:0.002505 \n",
      "[127]\ttrain-rmse:0.002495 \n",
      "[128]\ttrain-rmse:0.002462 \n",
      "[129]\ttrain-rmse:0.002442 \n",
      "[130]\ttrain-rmse:0.002432 \n",
      "[131]\ttrain-rmse:0.002411 \n",
      "[132]\ttrain-rmse:0.002397 \n",
      "[133]\ttrain-rmse:0.002386 \n",
      "[134]\ttrain-rmse:0.002371 \n",
      "[135]\ttrain-rmse:0.002348 \n",
      "[136]\ttrain-rmse:0.002328 \n",
      "[137]\ttrain-rmse:0.002313 \n",
      "[138]\ttrain-rmse:0.002291 \n",
      "[139]\ttrain-rmse:0.002280 \n",
      "[140]\ttrain-rmse:0.002262 \n",
      "[141]\ttrain-rmse:0.002247 \n",
      "[142]\ttrain-rmse:0.002242 \n",
      "[143]\ttrain-rmse:0.002229 \n",
      "[144]\ttrain-rmse:0.002222 \n",
      "[145]\ttrain-rmse:0.002187 \n",
      "[146]\ttrain-rmse:0.002172 \n",
      "[147]\ttrain-rmse:0.002162 \n",
      "[148]\ttrain-rmse:0.002133 \n",
      "[149]\ttrain-rmse:0.002126 \n",
      "[150]\ttrain-rmse:0.002114 \n",
      "[151]\ttrain-rmse:0.002093 \n",
      "[152]\ttrain-rmse:0.002055 \n",
      "[153]\ttrain-rmse:0.002049 \n",
      "[154]\ttrain-rmse:0.002010 \n",
      "[155]\ttrain-rmse:0.001996 \n",
      "[156]\ttrain-rmse:0.001987 \n",
      "[157]\ttrain-rmse:0.001981 \n",
      "[158]\ttrain-rmse:0.001964 \n",
      "[159]\ttrain-rmse:0.001940 \n",
      "[160]\ttrain-rmse:0.001940 \n",
      "[161]\ttrain-rmse:0.001940 \n",
      "[162]\ttrain-rmse:0.001940 \n",
      "[163]\ttrain-rmse:0.001940 \n",
      "[164]\ttrain-rmse:0.001940 \n",
      "[165]\ttrain-rmse:0.001940 \n",
      "[166]\ttrain-rmse:0.001940 \n",
      "[167]\ttrain-rmse:0.001940 \n",
      "[168]\ttrain-rmse:0.001940 \n",
      "[169]\ttrain-rmse:0.001940 \n",
      "[170]\ttrain-rmse:0.001940 \n",
      "[171]\ttrain-rmse:0.001940 \n",
      "[172]\ttrain-rmse:0.001940 \n",
      "[173]\ttrain-rmse:0.001940 \n",
      "Stopping. Best iteration:\n",
      "[170]\ttrain-rmse:0.001940\n",
      "\n"
     ]
    }
   ],
   "source": [
    "m1_xgb <-\n",
    "  xgboost(\n",
    "    data = x.train[, 2:5],\n",
    "    label = x.train[, 1],\n",
    "    nrounds = 1000,\n",
    "    objective = \"reg:squarederror\",\n",
    "    early_stopping_rounds = 3,\n",
    "    max_depth = 6,\n",
    "    eta = .25\n",
    "  )\n",
    "\n",
    "pred_xgb <- predict(m1_xgb, x.test[, 2:5])"
   ]
  },
  {
   "cell_type": "code",
   "execution_count": 19,
   "id": "4db73823-1d66-4b91-b885-9a0471da4ea1",
   "metadata": {},
   "outputs": [
    {
     "data": {
      "text/html": [
       "<style>\n",
       ".list-inline {list-style: none; margin:0; padding: 0}\n",
       ".list-inline>li {display: inline-block}\n",
       ".list-inline>li:not(:last-child)::after {content: \"\\00b7\"; padding: 0 .5ex}\n",
       "</style>\n",
       "<ol class=list-inline><li>-0.000372883543604985</li><li>0.000983470701612532</li><li>-0.00502833072096109</li><li>-0.00613601366057992</li><li>0.000570657139178365</li><li>0.00299253524281085</li></ol>\n"
      ],
      "text/latex": [
       "\\begin{enumerate*}\n",
       "\\item -0.000372883543604985\n",
       "\\item 0.000983470701612532\n",
       "\\item -0.00502833072096109\n",
       "\\item -0.00613601366057992\n",
       "\\item 0.000570657139178365\n",
       "\\item 0.00299253524281085\n",
       "\\end{enumerate*}\n"
      ],
      "text/markdown": [
       "1. -0.000372883543604985\n",
       "2. 0.000983470701612532\n",
       "3. -0.00502833072096109\n",
       "4. -0.00613601366057992\n",
       "5. 0.000570657139178365\n",
       "6. 0.00299253524281085\n",
       "\n",
       "\n"
      ],
      "text/plain": [
       "[1] -0.0003728835  0.0009834707 -0.0050283307 -0.0061360137  0.0005706571\n",
       "[6]  0.0029925352"
      ]
     },
     "metadata": {},
     "output_type": "display_data"
    }
   ],
   "source": [
    "# data is xts\n",
    "head(pred_xgb)"
   ]
  },
  {
   "cell_type": "code",
   "execution_count": 20,
   "id": "429ddcc7-05c2-4893-bf8f-122059f9e359",
   "metadata": {},
   "outputs": [
    {
     "name": "stdout",
     "output_type": "stream",
     "text": [
      " num [1:21] -0.000373 0.000983 -0.005028 -0.006136 0.000571 ...\n"
     ]
    }
   ],
   "source": [
    "str(pred_xgb)"
   ]
  },
  {
   "cell_type": "code",
   "execution_count": 37,
   "id": "abe73739-b9d9-4e8e-9074-1ad2686bc496",
   "metadata": {},
   "outputs": [
    {
     "ename": "ERROR",
     "evalue": "Error in library(caret): there is no package called ‘caret’\n",
     "output_type": "error",
     "traceback": [
      "Error in library(caret): there is no package called ‘caret’\nTraceback:\n",
      "1. library(caret)"
     ]
    }
   ],
   "source": [
    "library(caret)"
   ]
  },
  {
   "cell_type": "code",
   "execution_count": 21,
   "id": "56c1e617-56ca-47b5-a442-02502c60586f",
   "metadata": {},
   "outputs": [
    {
     "ename": "ERROR",
     "evalue": "Error in postResample(yhat, y): could not find function \"postResample\"\n",
     "output_type": "error",
     "traceback": [
      "Error in postResample(yhat, y): could not find function \"postResample\"\nTraceback:\n"
     ]
    }
   ],
   "source": [
    "yhat <- pred_xgb\n",
    "y <- x.test[, 1]\n",
    "postResample(yhat, y)"
   ]
  },
  {
   "cell_type": "code",
   "execution_count": 22,
   "id": "22e986e3-3761-482a-b585-26cedc976e79",
   "metadata": {
    "tags": []
   },
   "outputs": [
    {
     "data": {
      "image/png": "[encoded data removed]",
      "text/plain": [
       "plot without title"
      ]
     },
     "metadata": {
      "image/png": {
       "height": 420,
       "width": 420
      }
     },
     "output_type": "display_data"
    }
   ],
   "source": [
    "r <- y - yhat\n",
    "#plot(r, ylab = \"residuals\", main = title)\n",
    "plot(r, ylab = \"residuals\")"
   ]
  },
  {
   "cell_type": "code",
   "execution_count": 23,
   "id": "8553ded3-c702-4346-b477-2eac9112bc33",
   "metadata": {
    "tags": []
   },
   "outputs": [
    {
     "data": {
      "image/png": "[encoded data removed]",
      "text/plain": [
       "plot without title"
      ]
     },
     "metadata": {
      "image/png": {
       "height": 420,
       "width": 420
      }
     },
     "output_type": "display_data"
    }
   ],
   "source": [
    "plot(as.numeric(y),\n",
    "     yhat,\n",
    "     xlab = \"actual\",\n",
    "     ylab = \"predicted\"\n",
    "     #main = title\n",
    "    )\n",
    "abline(lm(yhat ~ y))"
   ]
  },
  {
   "cell_type": "code",
   "execution_count": 24,
   "id": "5c82227f-e5d9-42f4-a6e7-a6a63e848578",
   "metadata": {},
   "outputs": [
    {
     "ename": "ERROR",
     "evalue": "Error: DiagrammeR package is required for xgb.plot.tree\n",
     "output_type": "error",
     "traceback": [
      "Error: DiagrammeR package is required for xgb.plot.tree\nTraceback:\n",
      "1. xgb.plot.tree(model = m1_xgb, trees = 0:2)",
      "2. stop(\"DiagrammeR package is required for xgb.plot.tree\", call. = FALSE)"
     ]
    }
   ],
   "source": [
    "#plot first 3 trees of model\n",
    "xgb.plot.tree(model = m1_xgb, trees = 0:2)"
   ]
  },
  {
   "cell_type": "code",
   "execution_count": 25,
   "id": "2628b34c-bad7-4317-bf4a-d1e9d3d93346",
   "metadata": {},
   "outputs": [
    {
     "data": {
      "image/png": "[encoded data removed]",
      "text/plain": [
       "plot without title"
      ]
     },
     "metadata": {
      "image/png": {
       "height": 420,
       "width": 420
      }
     },
     "output_type": "display_data"
    }
   ],
   "source": [
    "importance_matrix <- xgb.importance(model = m1_xgb)\n",
    "xgb.plot.importance(importance_matrix, xlab = \"Feature Importance\")"
   ]
  },
  {
   "cell_type": "markdown",
   "id": "67a540d3-c021-431d-9be7-f0e42277ed2a",
   "metadata": {},
   "source": [
    "## tuning hyperparams"
   ]
  },
  {
   "cell_type": "code",
   "execution_count": null,
   "id": "b7617369-626b-4396-b9a6-580aec4392ea",
   "metadata": {},
   "outputs": [],
   "source": [
    "require(xgboost)\n",
    "# load in the agaricus dataset\n",
    "data(agaricus.train, package = 'xgboost')\n",
    "data(agaricus.test, package = 'xgboost')\n",
    "dtrain <- xgb.DMatrix(agaricus.train$data, label = agaricus.train$label)\n",
    "dtest <- xgb.DMatrix(agaricus.test$data, label = agaricus.test$label)\n",
    "\n",
    "nrounds <- 2\n",
    "param <- list(max_depth = 2, eta = 1, nthread = 2, objective = 'binary:logistic')\n",
    "\n",
    "cat('running cross validation\\n')\n",
    "# do cross validation, this will print result out as\n",
    "# [iteration]  metric_name:mean_value+std_value\n",
    "# std_value is standard deviation of the metric\n",
    "xgb.cv(param, dtrain, nrounds, nfold = 5, metrics = {'error'})\n",
    "\n",
    "cat('running cross validation, disable standard deviation display\\n')\n",
    "# do cross validation, this will print result out as\n",
    "# [iteration]  metric_name:mean_value+std_value\n",
    "# std_value is standard deviation of the metric\n",
    "xgb.cv(param, dtrain, nrounds, nfold = 5,\n",
    "       metrics = 'error', showsd = FALSE)"
   ]
  },
  {
   "cell_type": "code",
   "execution_count": null,
   "id": "d713816e-bb5d-4a99-8244-86a8737bef9f",
   "metadata": {},
   "outputs": [],
   "source": [
    "###\n",
    "# you can also do cross validation with customized loss function\n",
    "# See custom_objective.R\n",
    "##\n",
    "print ('running cross validation, with customized loss function')\n",
    "\n",
    "logregobj <- function(preds, dtrain) {\n",
    "  labels <- getinfo(dtrain, \"label\")\n",
    "  preds <- 1 / (1 + exp(-preds))\n",
    "  grad <- preds - labels\n",
    "  hess <- preds * (1 - preds)\n",
    "  return(list(grad = grad, hess = hess))\n",
    "}\n",
    "evalerror <- function(preds, dtrain) {\n",
    "  labels <- getinfo(dtrain, \"label\")\n",
    "  err <- as.numeric(sum(labels != (preds > 0))) / length(labels)\n",
    "  return(list(metric = \"error\", value = err))\n",
    "}\n",
    "\n",
    "param <- list(max_depth = 2, eta = 1,\n",
    "              objective = logregobj, eval_metric = evalerror)\n",
    "# train with customized objective\n",
    "xgb.cv(params = param, data = dtrain, nrounds = nrounds, nfold = 5)\n",
    "\n",
    "# do cross validation with prediction values for each fold\n",
    "res <- xgb.cv(params = param, data = dtrain, nrounds = nrounds, nfold = 5, prediction = TRUE)\n",
    "res$evaluation_log\n",
    "length(res$pred)"
   ]
  },
  {
   "cell_type": "code",
   "execution_count": 54,
   "id": "7e7f2f06-600d-48b5-a016-9d7502528b85",
   "metadata": {},
   "outputs": [
    {
     "data": {
      "text/html": [
       "<table class=\"dataframe\">\n",
       "<caption>A data.frame: 6 × 2</caption>\n",
       "<thead>\n",
       "\t<tr><th></th><th scope=col>max_depth</th><th scope=col>eta</th></tr>\n",
       "\t<tr><th></th><th scope=col>&lt;dbl&gt;</th><th scope=col>&lt;dbl&gt;</th></tr>\n",
       "</thead>\n",
       "<tbody>\n",
       "\t<tr><th scope=row>1</th><td>3</td><td>0.20</td></tr>\n",
       "\t<tr><th scope=row>2</th><td>4</td><td>0.20</td></tr>\n",
       "\t<tr><th scope=row>3</th><td>5</td><td>0.20</td></tr>\n",
       "\t<tr><th scope=row>4</th><td>6</td><td>0.20</td></tr>\n",
       "\t<tr><th scope=row>5</th><td>3</td><td>0.21</td></tr>\n",
       "\t<tr><th scope=row>6</th><td>4</td><td>0.21</td></tr>\n",
       "</tbody>\n",
       "</table>\n"
      ],
      "text/latex": [
       "A data.frame: 6 × 2\n",
       "\\begin{tabular}{r|ll}\n",
       "  & max\\_depth & eta\\\\\n",
       "  & <dbl> & <dbl>\\\\\n",
       "\\hline\n",
       "\t1 & 3 & 0.20\\\\\n",
       "\t2 & 4 & 0.20\\\\\n",
       "\t3 & 5 & 0.20\\\\\n",
       "\t4 & 6 & 0.20\\\\\n",
       "\t5 & 3 & 0.21\\\\\n",
       "\t6 & 4 & 0.21\\\\\n",
       "\\end{tabular}\n"
      ],
      "text/markdown": [
       "\n",
       "A data.frame: 6 × 2\n",
       "\n",
       "| <!--/--> | max_depth &lt;dbl&gt; | eta &lt;dbl&gt; |\n",
       "|---|---|---|\n",
       "| 1 | 3 | 0.20 |\n",
       "| 2 | 4 | 0.20 |\n",
       "| 3 | 5 | 0.20 |\n",
       "| 4 | 6 | 0.20 |\n",
       "| 5 | 3 | 0.21 |\n",
       "| 6 | 4 | 0.21 |\n",
       "\n"
      ],
      "text/plain": [
       "  max_depth eta \n",
       "1 3         0.20\n",
       "2 4         0.20\n",
       "3 5         0.20\n",
       "4 6         0.20\n",
       "5 3         0.21\n",
       "6 4         0.21"
      ]
     },
     "metadata": {},
     "output_type": "display_data"
    }
   ],
   "source": [
    "#create hyperparameter grid\n",
    "hyper_grid <- expand.grid(max_depth = seq(3, 6, 1), eta = seq(.2, .35, .01))  \n",
    "head(hyper_grid)"
   ]
  },
  {
   "cell_type": "code",
   "execution_count": 58,
   "id": "f1668bd9-f40b-4255-ae38-64157c6134f8",
   "metadata": {},
   "outputs": [
    {
     "data": {
      "text/html": [
       "<dl>\n",
       "\t<dt>$max_depth</dt>\n",
       "\t\t<dd><style>\n",
       ".list-inline {list-style: none; margin:0; padding: 0}\n",
       ".list-inline>li {display: inline-block}\n",
       ".list-inline>li:not(:last-child)::after {content: \"\\00b7\"; padding: 0 .5ex}\n",
       "</style>\n",
       "<ol class=list-inline><li>3</li><li>4</li><li>5</li><li>6</li></ol>\n",
       "</dd>\n",
       "\t<dt>$eta</dt>\n",
       "\t\t<dd><style>\n",
       ".list-inline {list-style: none; margin:0; padding: 0}\n",
       ".list-inline>li {display: inline-block}\n",
       ".list-inline>li:not(:last-child)::after {content: \"\\00b7\"; padding: 0 .5ex}\n",
       "</style>\n",
       "<ol class=list-inline><li>0.2</li><li>0.21</li><li>0.22</li><li>0.23</li><li>0.24</li><li>0.25</li><li>0.26</li><li>0.27</li><li>0.28</li><li>0.29</li><li>0.3</li><li>0.31</li><li>0.32</li><li>0.33</li><li>0.34</li><li>0.35</li></ol>\n",
       "</dd>\n",
       "</dl>\n"
      ],
      "text/latex": [
       "\\begin{description}\n",
       "\\item[\\$max\\_depth] \\begin{enumerate*}\n",
       "\\item 3\n",
       "\\item 4\n",
       "\\item 5\n",
       "\\item 6\n",
       "\\end{enumerate*}\n",
       "\n",
       "\\item[\\$eta] \\begin{enumerate*}\n",
       "\\item 0.2\n",
       "\\item 0.21\n",
       "\\item 0.22\n",
       "\\item 0.23\n",
       "\\item 0.24\n",
       "\\item 0.25\n",
       "\\item 0.26\n",
       "\\item 0.27\n",
       "\\item 0.28\n",
       "\\item 0.29\n",
       "\\item 0.3\n",
       "\\item 0.31\n",
       "\\item 0.32\n",
       "\\item 0.33\n",
       "\\item 0.34\n",
       "\\item 0.35\n",
       "\\end{enumerate*}\n",
       "\n",
       "\\end{description}\n"
      ],
      "text/markdown": [
       "$max_depth\n",
       ":   1. 3\n",
       "2. 4\n",
       "3. 5\n",
       "4. 6\n",
       "\n",
       "\n",
       "\n",
       "$eta\n",
       ":   1. 0.2\n",
       "2. 0.21\n",
       "3. 0.22\n",
       "4. 0.23\n",
       "5. 0.24\n",
       "6. 0.25\n",
       "7. 0.26\n",
       "8. 0.27\n",
       "9. 0.28\n",
       "10. 0.29\n",
       "11. 0.3\n",
       "12. 0.31\n",
       "13. 0.32\n",
       "14. 0.33\n",
       "15. 0.34\n",
       "16. 0.35\n",
       "\n",
       "\n",
       "\n",
       "\n",
       "\n"
      ],
      "text/plain": [
       "$max_depth\n",
       "[1] 3 4 5 6\n",
       "\n",
       "$eta\n",
       " [1] 0.20 0.21 0.22 0.23 0.24 0.25 0.26 0.27 0.28 0.29 0.30 0.31 0.32 0.33 0.34\n",
       "[16] 0.35\n"
      ]
     },
     "metadata": {},
     "output_type": "display_data"
    }
   ],
   "source": [
    "param <- list(max_depth = seq(3, 6, 1), eta = seq(.2, .35, .01)\n",
    "#              objective = logregobj, eval_metric = evalerror\n",
    "             )\n",
    "head(param)"
   ]
  },
  {
   "cell_type": "code",
   "execution_count": 66,
   "id": "103118f1-cff0-45bc-a404-34a7a8744e07",
   "metadata": {},
   "outputs": [
    {
     "name": "stdout",
     "output_type": "stream",
     "text": [
      "[1]\ttrain-rmse:0.162421+0.002319\ttrain-auc:0.987112+0.000939\ttest-rmse:0.162321+0.007896\ttest-auc:0.987115+0.003776 \n",
      "[2]\ttrain-rmse:0.075310+0.004027\ttrain-auc:0.999793+0.000311\ttest-rmse:0.079772+0.011197\ttest-auc:0.999269+0.001394 \n",
      "[3]\ttrain-rmse:0.038028+0.003009\ttrain-auc:0.999986+0.000022\ttest-rmse:0.042312+0.008805\ttest-auc:0.999971+0.000038 \n"
     ]
    }
   ],
   "source": [
    "data(agaricus.train, package='xgboost')\n",
    "dtrain <- with(agaricus.train, xgb.DMatrix(data, label = label))\n",
    "cv <- xgb.cv(data = dtrain, nrounds = 3, nthread = 2, nfold = 5, metrics = list(\"rmse\",\"auc\"),\n",
    "                  max_depth = 3, eta = 1, objective = \"binary:logistic\")"
   ]
  },
  {
   "cell_type": "code",
   "execution_count": 67,
   "id": "35330396-9828-4daa-8f65-3b15f06855ff",
   "metadata": {},
   "outputs": [
    {
     "name": "stdout",
     "output_type": "stream",
     "text": [
      "##### xgb.cv 5-folds\n",
      " iter train_rmse_mean train_rmse_std train_auc_mean train_auc_std\n",
      "    1      0.16242081    0.002319358      0.9871120  9.392904e-04\n",
      "    2      0.07531024    0.004026572      0.9997934  3.108307e-04\n",
      "    3      0.03802797    0.003008771      0.9999857  2.210734e-05\n",
      " test_rmse_mean test_rmse_std test_auc_mean test_auc_std\n",
      "     0.16232096   0.007895914     0.9871149 3.775906e-03\n",
      "     0.07977151   0.011196582     0.9992690 1.394480e-03\n",
      "     0.04231151   0.008804759     0.9999707 3.831913e-05\n",
      "##### xgb.cv 5-folds\n",
      "call:\n",
      "  xgb.cv(data = dtrain, nrounds = 3, nfold = 5, metrics = list(\"rmse\", \n",
      "    \"auc\"), nthread = 2, max_depth = 3, eta = 1, objective = \"binary:logistic\")\n",
      "params (as set within xgb.cv):\n",
      "  nthread = \"2\", max_depth = \"3\", eta = \"1\", objective = \"binary:logistic\", eval_metric = \"rmse\", eval_metric = \"auc\", silent = \"1\"\n",
      "callbacks:\n",
      "  cb.print.evaluation(period = print_every_n, showsd = showsd)\n",
      "  cb.evaluation.log()\n",
      "niter: 3\n",
      "evaluation_log:\n",
      " iter train_rmse_mean train_rmse_std train_auc_mean train_auc_std\n",
      "    1      0.16242081    0.002319358      0.9871120  9.392904e-04\n",
      "    2      0.07531024    0.004026572      0.9997934  3.108307e-04\n",
      "    3      0.03802797    0.003008771      0.9999857  2.210734e-05\n",
      " test_rmse_mean test_rmse_std test_auc_mean test_auc_std\n",
      "     0.16232096   0.007895914     0.9871149 3.775906e-03\n",
      "     0.07977151   0.011196582     0.9992690 1.394480e-03\n",
      "     0.04231151   0.008804759     0.9999707 3.831913e-05\n"
     ]
    }
   ],
   "source": [
    "print(cv)\n",
    "print(cv, verbose=TRUE)"
   ]
  },
  {
   "cell_type": "markdown",
   "id": "03bff582-b41d-4e8b-8eca-cb9d7219c05e",
   "metadata": {},
   "source": [
    "# Ex4"
   ]
  },
  {
   "cell_type": "markdown",
   "id": "b3ea4b90-1a9b-496d-a97c-537c4ff0d648",
   "metadata": {},
   "source": [
    "## Settings"
   ]
  },
  {
   "cell_type": "code",
   "execution_count": 21,
   "id": "43b685ea-02e5-41af-a7c5-346605ee2c41",
   "metadata": {},
   "outputs": [],
   "source": [
    "library(quantmod)"
   ]
  },
  {
   "cell_type": "code",
   "execution_count": 5,
   "id": "b7da9ac6-969b-465b-b7bb-17e66cb2e038",
   "metadata": {},
   "outputs": [],
   "source": [
    "path <- '~/works/ts/lib'\n",
    "source(paste(path, \"myutils.r\", sep='/'))\n",
    "source(paste(path, \"myarimagarch.r\", sep='/'))"
   ]
  },
  {
   "cell_type": "code",
   "execution_count": 6,
   "id": "8f08c948-35b8-401e-aec4-e2b4638ccd96",
   "metadata": {},
   "outputs": [],
   "source": [
    "source(paste(path, \"myxgb.r\", sep='/'))"
   ]
  },
  {
   "cell_type": "markdown",
   "id": "26a5f8b3-74be-46d3-a947-6ebcceaeaa8b",
   "metadata": {},
   "source": [
    "## Data"
   ]
  },
  {
   "cell_type": "code",
   "execution_count": 22,
   "id": "a537ff36-72e2-4c3b-9b75-13273770cfbf",
   "metadata": {},
   "outputs": [],
   "source": [
    "train_start <- '1991-01-01'\n",
    "train_end <- '2019-12-31'\n",
    "\n",
    "test_start <- '2020-01-01'\n",
    "test_end <- '2020-12-31'"
   ]
  },
  {
   "cell_type": "code",
   "execution_count": 23,
   "id": "36a75445-15b1-4c86-b949-cbd14f3cf1de",
   "metadata": {},
   "outputs": [
    {
     "data": {
      "text/html": [
       "'^GSPC'"
      ],
      "text/latex": [
       "'\\textasciicircum{}GSPC'"
      ],
      "text/markdown": [
       "'^GSPC'"
      ],
      "text/plain": [
       "[1] \"^GSPC\""
      ]
     },
     "metadata": {},
     "output_type": "display_data"
    }
   ],
   "source": [
    "from <- train_start\n",
    "to <- test_end\n",
    "getSymbols(\"^GSPC\", from=from, to=to)"
   ]
  },
  {
   "cell_type": "code",
   "execution_count": 24,
   "id": "873b4d0b-b04f-4eba-9d60-69a126f82fca",
   "metadata": {
    "tags": []
   },
   "outputs": [],
   "source": [
    "spx <- GSPC\n",
    "colnames(spx) <- c('o','h','l','c','v','a')"
   ]
  },
  {
   "cell_type": "markdown",
   "id": "8e8d5524-8327-4195-8732-8a6f7ce1c832",
   "metadata": {},
   "source": [
    "### Return"
   ]
  },
  {
   "cell_type": "code",
   "execution_count": 32,
   "id": "8ef5fd9c-d8ab-43f3-8097-f9ca90851f9b",
   "metadata": {},
   "outputs": [],
   "source": [
    "lookahead <- 21"
   ]
  },
  {
   "cell_type": "code",
   "execution_count": 33,
   "id": "11e80a51-12f6-4ed9-950f-c5b9400ae89e",
   "metadata": {},
   "outputs": [
    {
     "data": {
      "text/plain": [
       "               logret\n",
       "1991-01-31 0.05216129\n",
       "1991-02-01 0.06360416\n",
       "1991-02-04 0.08173788\n",
       "1991-02-05 0.10755822\n",
       "1991-02-06 0.12847341\n",
       "1991-02-07 0.13502311"
      ]
     },
     "metadata": {},
     "output_type": "display_data"
    }
   ],
   "source": [
    "spx.ret <- diff(log(spx$a), lookahead)\n",
    "spx.ret <- na.omit(spx.ret)\n",
    "colnames(spx.ret) <- 'logret'\n",
    "head(spx.ret)"
   ]
  },
  {
   "cell_type": "code",
   "execution_count": 34,
   "id": "d8d54739-698c-480a-9675-edbde8f847a7",
   "metadata": {},
   "outputs": [],
   "source": [
    "train <- window(spx.ret, end=as.Date(train_end))\n",
    "test <- window(spx.ret, start=as.Date(test_start), end=as.Date(test_end))"
   ]
  },
  {
   "cell_type": "markdown",
   "id": "86638873-4a05-4c4b-9527-18ee37e25bb7",
   "metadata": {},
   "source": [
    "### CV Settings"
   ]
  },
  {
   "cell_type": "code",
   "execution_count": 28,
   "id": "6374a751-2d75-4181-855b-35006c73bdef",
   "metadata": {},
   "outputs": [],
   "source": [
    "YEAR <- 252\n",
    "\n",
    "#hori <- floor(YEAR/2)\n",
    "#hori <- floor(YEAR/6)\n",
    "hori <- floor(YEAR/12)\n",
    "\n",
    "#peri <- floor(hori/2)\n",
    "#peri <- hori*2\n",
    "peri <- hori\n",
    "\n",
    "#wind <- 5*YEAR\n",
    "#wind <- 7*YEAR\n",
    "wind <- 9*YEAR"
   ]
  },
  {
   "cell_type": "code",
   "execution_count": 29,
   "id": "b122dd46-2328-48e6-8e26-7fb71d74ce80",
   "metadata": {},
   "outputs": [],
   "source": [
    "max_depth <- seq(4, 8, 1)\n",
    "eta <- c(0.01, 0.05, 0.1, 0.2, 0.3)"
   ]
  },
  {
   "cell_type": "markdown",
   "id": "478d4e8e-84da-4ee3-8bfd-8796c804c166",
   "metadata": {},
   "source": [
    "### Regressors"
   ]
  },
  {
   "cell_type": "code",
   "execution_count": 14,
   "id": "b6d73619-2004-40ff-bd4f-63cc97f64973",
   "metadata": {
    "tags": []
   },
   "outputs": [],
   "source": [
    "x <- RSI(spx$a)\n",
    "trainx <- merge(train, x, join='left', fill=NA)"
   ]
  },
  {
   "cell_type": "code",
   "execution_count": 15,
   "id": "a9ae26dd-c31b-497e-a309-45cdce1bb2ff",
   "metadata": {},
   "outputs": [],
   "source": [
    "# use close instead of adjusted to make consistent with \"un-adjusted\" high & low\n",
    "x <- BBands(spx[,c('h','l','c')])\n",
    "x <- x$pctB\n",
    "trainx <- merge(trainx, x, join='left', fill=NA)"
   ]
  },
  {
   "cell_type": "code",
   "execution_count": 16,
   "id": "f9087ace-734b-4e3f-8acf-02a039b7b8d2",
   "metadata": {
    "tags": []
   },
   "outputs": [],
   "source": [
    "x <- MACD(spx$a)\n",
    "x <- x$macd - x$signal\n",
    "trainx <- merge(trainx, x, join='left', fill=NA)"
   ]
  },
  {
   "cell_type": "code",
   "execution_count": 17,
   "id": "81d5aea6-b835-4deb-bc8b-ba04d488d37d",
   "metadata": {},
   "outputs": [
    {
     "data": {
      "text/plain": [
       "                    y      rsi    bbands        macd\n",
       "1991-02-19 0.10602550 72.59254 0.8419486 -0.03641515\n",
       "1991-02-20 0.09798126 66.25313 0.7706927 -0.18551057\n",
       "1991-02-21 0.10585688 66.00481 0.7330987 -0.30953562\n",
       "1991-02-22 0.10194779 66.54491 0.7402938 -0.39546732\n",
       "1991-02-25 0.09259647 67.84742 0.7305630 -0.43573971\n",
       "1991-02-26 0.07655978 60.80133 0.6379610 -0.55105032"
      ]
     },
     "metadata": {},
     "output_type": "display_data"
    },
    {
     "data": {
      "text/plain": [
       "                    y      rsi    bbands       macd\n",
       "2019-12-23 0.03808252 76.15462 0.9680588 0.15430304\n",
       "2019-12-24 0.03571448 75.83204 0.9028770 0.14089335\n",
       "2019-12-26 0.03335029 78.41506 0.9189083 0.14916039\n",
       "2019-12-27 0.03119111 78.43159 0.8946206 0.13732115\n",
       "2019-12-30 0.02122778 68.77901 0.7837726 0.07574999\n",
       "2019-12-31 0.02818876 70.74366 0.7500170 0.04243151"
      ]
     },
     "metadata": {},
     "output_type": "display_data"
    }
   ],
   "source": [
    "colnames(trainx) <- c('y','rsi','bbands','macd')\n",
    "trainx <- na.omit(trainx)\n",
    "head(trainx)\n",
    "tail(trainx)"
   ]
  },
  {
   "cell_type": "markdown",
   "id": "cec5f98e-80f5-401d-acf1-cd9225f08376",
   "metadata": {},
   "source": [
    "### random dataset"
   ]
  },
  {
   "cell_type": "code",
   "execution_count": 173,
   "id": "71d180f2-663e-4941-802f-ab6930a5714d",
   "metadata": {},
   "outputs": [],
   "source": [
    "set.seed(1)\n",
    "#set.seed(NULL)\n",
    "\n",
    "h <- 21\n",
    "\n",
    "# idx works for gbm as well\n",
    "idx <- wind:(nrow(trainx)-wind-h-lookahead)\n",
    "idx <- sample(idx, 1)\n",
    "\n",
    "idx.train <- idx:(idx+wind-1)\n",
    "idx.test <- (idx+wind):(idx+wind+h-1)"
   ]
  },
  {
   "cell_type": "code",
   "execution_count": 174,
   "id": "a7ceeffb-6b2b-4e2f-9441-654f79477776",
   "metadata": {
    "tags": []
   },
   "outputs": [],
   "source": [
    "#h.gbm <- 1\n",
    "h.gbm <- h\n",
    "\n",
    "train.ml <- merge(lag.xts(trainx$y, -lookahead), trainx, join='left', fill=NA)\n",
    "colnames(train.ml) <- c('logret_fwd', 'logret', 'rsi','bbands','macd')\n",
    "idx.label <- 1\n",
    "idx.feautres <- 2:5\n",
    "\n",
    "x.train.ml <- train.ml[idx.train]\n",
    "x.test.ml <- train.ml[idx.test[1:h.gbm]]\n",
    "\n",
    "x.train.label <- x.train.ml[,idx.label]\n",
    "x.train.features <- x.train.ml[,idx.feautres]\n",
    "x.test.label <- x.test.ml[,idx.label]\n",
    "x.test.features <- x.test.ml[,idx.feautres]"
   ]
  },
  {
   "cell_type": "markdown",
   "id": "8da7ab5a-447c-4e3e-8b24-6181eb5b2991",
   "metadata": {},
   "source": [
    "## Train/Test"
   ]
  },
  {
   "cell_type": "code",
   "execution_count": 175,
   "id": "6b9cff74-a790-4412-8395-7445a6b70748",
   "metadata": {},
   "outputs": [],
   "source": [
    "fc <- xgb.forecast(x.train.label, x.train.features, x.test.label, x.test.features,\n",
    "                   max_depth=max_depth, eta=eta)"
   ]
  },
  {
   "cell_type": "code",
   "execution_count": 176,
   "id": "f65f1175-4f7b-459d-919f-cfc8b2f5244c",
   "metadata": {},
   "outputs": [],
   "source": [
    "my.figsize(10, 5)"
   ]
  },
  {
   "cell_type": "code",
   "execution_count": 177,
   "id": "9885695b-6396-4ef8-a31d-7ec61bb0800d",
   "metadata": {},
   "outputs": [
    {
     "data": {
      "image/png": "[encoded data removed]",
      "text/plain": [
       "plot without title"
      ]
     },
     "metadata": {
      "image/png": {
       "height": 300,
       "width": 600
      }
     },
     "output_type": "display_data"
    }
   ],
   "source": [
    "l <- tail(x.train.label, h*1)\n",
    "x <- index(l)\n",
    "x <- append(x, tail(x,1)+1:h.gbm)\n",
    "y <- as.numeric(l)\n",
    "y <- append(y, as.numeric(x.test.label))\n",
    "plot(x, y, type='l', col='darkblue')\n",
    "\n",
    "x <- tail(x, h.gbm+1)\n",
    "y <- append(tail(as.numeric(l),1), fc$pred)\n",
    "lines(x, y, col='red')"
   ]
  },
  {
   "cell_type": "code",
   "execution_count": 178,
   "id": "fcad3a7b-7edf-4da5-ad80-76230a6ee40c",
   "metadata": {},
   "outputs": [],
   "source": [
    "my.figsize(7, 4)"
   ]
  },
  {
   "cell_type": "code",
   "execution_count": 179,
   "id": "57f90d7e-6497-4dc2-9840-19d19a8389af",
   "metadata": {},
   "outputs": [
    {
     "data": {
      "image/png": "[encoded data removed]",
      "text/plain": [
       "plot without title"
      ]
     },
     "metadata": {
      "image/png": {
       "height": 240,
       "width": 420
      }
     },
     "output_type": "display_data"
    }
   ],
   "source": [
    "importance_matrix <- xgb.importance(model=fc$model)\n",
    "xgb.plot.importance(importance_matrix, xlab = \"Feature Importance\")"
   ]
  },
  {
   "cell_type": "markdown",
   "id": "a93161dd-e257-4e7f-aafe-53d03f9e09b5",
   "metadata": {},
   "source": [
    "## Importance of Feature"
   ]
  },
  {
   "cell_type": "code",
   "execution_count": 30,
   "id": "b7c89c98-4f72-422f-a8a0-7d36dd39ac41",
   "metadata": {},
   "outputs": [],
   "source": [
    "calc.indi <- function(n.rsi=14, n.bbands=20, n.macd=c(12,26,9)) {\n",
    "    x <- RSI(spx$a, n=n.rsi)\n",
    "    trainx <- merge(train, x, join='left', fill=NA)\n",
    "\n",
    "    # use close instead of adjusted to make consistent with \"un-adjusted\" high & low\n",
    "    x <- BBands(spx[,c('h','l','c')], n=n.bbands)\n",
    "    x <- x$pctB\n",
    "    trainx <- merge(trainx, x, join='left', fill=NA)\n",
    "\n",
    "    x <- MACD(spx$a, nFast = n.macd[1], nSlow = n.macd[2], nSig = n.macd[3])\n",
    "    x <- x$macd - x$signal\n",
    "    trainx <- merge(trainx, x, join='left', fill=NA)\n",
    "\n",
    "    colnames(trainx) <- c('y','rsi','bbands','macd')\n",
    "    trainx <- na.omit(trainx)\n",
    "    return(trainx)\n",
    "}\n",
    "\n",
    "get.dataset <- function(trainx, lookahead, h=21, seed=NULL) {\n",
    "    set.seed(seed)\n",
    "\n",
    "    # idx works for gbm as well\n",
    "    idx <- wind:(nrow(trainx)-wind-h-lookahead)\n",
    "    idx <- sample(idx, 1)\n",
    "\n",
    "    idx.train <- idx:(idx+wind-1)\n",
    "    idx.test <- (idx+wind):(idx+wind+h-1)\n",
    "\n",
    "    h.gbm <- h\n",
    "\n",
    "    train.ml <- merge(lag.xts(trainx$y, -lookahead), trainx, join='left', fill=NA)\n",
    "    colnames(train.ml) <- c('logret_fwd', 'logret', 'rsi','bbands','macd')\n",
    "    idx.label <- 1\n",
    "    idx.feautres <- 2:5\n",
    "\n",
    "    x.train.ml <- train.ml[idx.train]\n",
    "    x.test.ml <- train.ml[idx.test[1:h.gbm]]\n",
    "\n",
    "    x.train.label <- x.train.ml[,idx.label]\n",
    "    x.train.features <- x.train.ml[,idx.feautres]\n",
    "    x.test.label <- x.test.ml[,idx.label]\n",
    "    x.test.features <- x.test.ml[,idx.feautres]\n",
    "    res <- list(x.train.label=x.train.label,\n",
    "                x.train.features=x.train.features,\n",
    "                x.test.label=x.test.label,\n",
    "                x.test.features=x.test.features)\n",
    "    return(res)\n",
    "}"
   ]
  },
  {
   "cell_type": "markdown",
   "id": "622360a3-b858-421c-916c-1d9a65fbba64",
   "metadata": {
    "tags": []
   },
   "source": [
    "### RSI"
   ]
  },
  {
   "cell_type": "code",
   "execution_count": 36,
   "id": "9c6a967d-afef-4333-8678-9ae05381a199",
   "metadata": {},
   "outputs": [
    {
     "name": "stderr",
     "output_type": "stream",
     "text": [
      "Importance of RSI (n=30): 0.303\n",
      "\n"
     ]
    }
   ],
   "source": [
    "#n.rsi <- c(10,14,20,30,40)\n",
    "#n.rsi <- c(20,30,40,50)\n",
    "n.rsi <- c(30,35,40,45)\n",
    "row.ft <- 4\n",
    "\n",
    "for (n in n.rsi) {\n",
    "    trainx <- calc.indi(n.rsi=n)\n",
    "    ds <- get.dataset(trainx, lookahead)\n",
    "\n",
    "    fc <- xgb.forecast(ds$x.train.label, ds$x.train.features, \n",
    "                       ds$x.test.label, ds$x.test.features,\n",
    "                       max_depth=max_depth, eta=eta)\n",
    "\n",
    "    importance_matrix <- xgb.importance(model=fc$model)\n",
    "    importance_matrix <- importance_matrix[order(Feature),]\n",
    "\n",
    "    i <- importance_matrix[row.ft,2][[1]] # gain as importance\n",
    "    message(paste('Importance of RSI (n=', n, '): ', round(i,3), sep=''))\n",
    "}"
   ]
  },
  {
   "cell_type": "markdown",
   "id": "98c7a737-06c8-4da0-bf7c-64f3102a92b8",
   "metadata": {
    "tags": []
   },
   "source": [
    "### BBANDS"
   ]
  },
  {
   "cell_type": "code",
   "execution_count": 309,
   "id": "476f0e6b-83cb-4341-8c44-bfa2d008ae47",
   "metadata": {},
   "outputs": [
    {
     "name": "stderr",
     "output_type": "stream",
     "text": [
      "Importance of BBands (n=8): 0.148\n",
      "\n",
      "Importance of BBands (n=12): 0.181\n",
      "\n",
      "Importance of BBands (n=16): 0.194\n",
      "\n",
      "Importance of BBands (n=20): 0.161\n",
      "\n",
      "Importance of BBands (n=24): 0.14\n",
      "\n"
     ]
    }
   ],
   "source": [
    "#n.bbands <- c(16,20,24,28,32)\n",
    "n.bbands <- c(8,12,16,20,24)\n",
    "#n.bbands <- c(32,36,40)\n",
    "row.ft <- 1\n",
    "\n",
    "for (n in n.bbands) {\n",
    "    trainx <- calc.indi(n.rsi=40, n.bbands=n)\n",
    "    ds <- get.dataset(trainx)\n",
    "\n",
    "    fc <- xgb.forecast(ds$x.train.label, ds$x.train.features, \n",
    "                       ds$x.test.label, ds$x.test.features,\n",
    "                       max_depth=max_depth, eta=eta)\n",
    "\n",
    "    importance_matrix <- xgb.importance(model=fc$model)\n",
    "    importance_matrix <- importance_matrix[order(Feature),]\n",
    "\n",
    "    i <- importance_matrix[row.ft,2][[1]] # gain as importance\n",
    "    message(paste('Importance of BBands (n=', n, '): ', round(i,3), sep=''))\n",
    "}"
   ]
  },
  {
   "cell_type": "markdown",
   "id": "d090d4fe-25d0-4eb5-814c-d078d40d012e",
   "metadata": {},
   "source": [
    "### MACD"
   ]
  },
  {
   "cell_type": "code",
   "execution_count": 310,
   "id": "f2ab9824-d537-4cae-a6c3-43c2f0339dfc",
   "metadata": {},
   "outputs": [],
   "source": [
    "#n.macd <- expand.grid(nFast=c(8, 12, 16), nSlow=c(20, 26, 30), nSig=c(9))\n",
    "n.macd <- list(c(12,26,9), \n",
    "               c(12,30,9), \n",
    "               c(12,22,9), \n",
    "               c( 8,26,9), \n",
    "               c(16,26,9))\n",
    "row.ft <- 3"
   ]
  },
  {
   "cell_type": "code",
   "execution_count": 312,
   "id": "d96daf9c-fd3d-4e32-818b-cbe6265bc137",
   "metadata": {},
   "outputs": [
    {
     "name": "stderr",
     "output_type": "stream",
     "text": [
      "Importance of MACD (12, 26, 9) : 0.243\n",
      "\n",
      "Importance of MACD (12, 30, 9) : 0.225\n",
      "\n",
      "Importance of MACD (12, 22, 9) : 0.226\n",
      "\n",
      "Importance of MACD (8, 26, 9) : 0.229\n",
      "\n",
      "Importance of MACD (16, 26, 9) : 0.249\n",
      "\n"
     ]
    }
   ],
   "source": [
    "for (n in n.macd) {\n",
    "    trainx <- calc.indi(n.rsi=40, n.bbands=16, n.macd=n)\n",
    "    ds <- get.dataset(trainx)\n",
    "\n",
    "    fc <- xgb.forecast(ds$x.train.label, ds$x.train.features, \n",
    "                       ds$x.test.label, ds$x.test.features,\n",
    "                       max_depth=max_depth, eta=eta)\n",
    "\n",
    "    importance_matrix <- xgb.importance(model=fc$model)\n",
    "    importance_matrix <- importance_matrix[order(Feature),]\n",
    "\n",
    "    i <- importance_matrix[row.ft,2][[1]] # gain as importance\n",
    "    message(paste('Importance of MACD (', paste(n, collapse=', ' ), ') : ', round(i,3), sep=''))\n",
    "}"
   ]
  },
  {
   "cell_type": "code",
   "execution_count": 319,
   "id": "4d0f44d0-030c-4fb7-9100-16734e440f82",
   "metadata": {},
   "outputs": [
    {
     "data": {
      "text/html": [
       "0.671505656416707"
      ],
      "text/latex": [
       "0.671505656416707"
      ],
      "text/markdown": [
       "0.671505656416707"
      ],
      "text/plain": [
       "[1] 0.6715057"
      ]
     },
     "metadata": {},
     "output_type": "display_data"
    },
    {
     "data": {
      "image/png": "[encoded data removed]",
      "text/plain": [
       "plot without title"
      ]
     },
     "metadata": {
      "image/png": {
       "height": 240,
       "width": 420
      }
     },
     "output_type": "display_data"
    }
   ],
   "source": [
    "trainx <- calc.indi(n.rsi=40, n.bbands=16, n.macd=c(16,26,9))\n",
    "ds <- get.dataset(trainx)\n",
    "\n",
    "fc <- xgb.forecast(ds$x.train.label, ds$x.train.features, \n",
    "                   ds$x.test.label, ds$x.test.features,\n",
    "                   max_depth=max_depth, eta=eta)\n",
    "\n",
    "importance_matrix <- xgb.importance(model=fc$model)\n",
    "importance_matrix <- importance_matrix[order(Feature),]\n",
    "\n",
    "my.figsize(7, 4)\n",
    "xgb.plot.importance(importance_matrix, xlab = \"Feature Importance\")\n",
    "sum(importance_matrix[c(1,3,4),2])"
   ]
  },
  {
   "cell_type": "markdown",
   "id": "d65c2a70-f6c5-4590-821e-72009669d209",
   "metadata": {},
   "source": [
    "### ALL"
   ]
  },
  {
   "cell_type": "code",
   "execution_count": 20,
   "id": "7981c6c6-2cef-4bd0-b50e-12119862a5d3",
   "metadata": {},
   "outputs": [],
   "source": [
    "n.rsi <- c(30,35,40,45)\n",
    "n.bbands <- c(8,12,16,20,24)\n",
    "n.macd <- list(c(12,26,9), \n",
    "               c(12,30,9), \n",
    "               c(12,22,9), \n",
    "               c( 8,26,9), \n",
    "               c(16,26,9))"
   ]
  },
  {
   "cell_type": "code",
   "execution_count": 21,
   "id": "b3c8b078-3863-464b-aa1f-50726fe796f6",
   "metadata": {},
   "outputs": [
    {
     "data": {
      "text/html": [
       "100"
      ],
      "text/latex": [
       "100"
      ],
      "text/markdown": [
       "100"
      ],
      "text/plain": [
       "[1] 100"
      ]
     },
     "metadata": {},
     "output_type": "display_data"
    }
   ],
   "source": [
    "hg <- expand.grid(n.rsi=n.rsi, n.bbands=n.bbands, n.macd=n.macd)\n",
    "nrow(hg)"
   ]
  },
  {
   "cell_type": "code",
   "execution_count": 326,
   "id": "00467b73-1d11-4fe8-8737-822d29c94c22",
   "metadata": {
    "scrolled": true,
    "tags": []
   },
   "outputs": [
    {
     "name": "stderr",
     "output_type": "stream",
     "text": [
      "Importance Sum (i=1) : 0.689\n",
      "\n",
      "Importance Sum (i=2) : 0.661\n",
      "\n",
      "Importance Sum (i=3) : 0.627\n",
      "\n",
      "Importance Sum (i=4) : 0.68\n",
      "\n",
      "Importance Sum (i=5) : 0.698\n",
      "\n",
      "Importance Sum (i=6) : 0.654\n",
      "\n",
      "Importance Sum (i=7) : 0.674\n",
      "\n",
      "Importance Sum (i=8) : 0.687\n",
      "\n",
      "Importance Sum (i=9) : 0.679\n",
      "\n",
      "Importance Sum (i=10) : 0.669\n",
      "\n",
      "Importance Sum (i=11) : 0.667\n",
      "\n",
      "Importance Sum (i=12) : 0.709\n",
      "\n",
      "Importance Sum (i=13) : 0.701\n",
      "\n",
      "Importance Sum (i=14) : 0.664\n",
      "\n",
      "Importance Sum (i=15) : 0.678\n",
      "\n",
      "Importance Sum (i=16) : 0.705\n",
      "\n",
      "Importance Sum (i=17) : 0.675\n",
      "\n",
      "Importance Sum (i=18) : 0.663\n",
      "\n",
      "Importance Sum (i=19) : 0.667\n",
      "\n",
      "Importance Sum (i=20) : 0.691\n",
      "\n",
      "Importance Sum (i=21) : 0.707\n",
      "\n",
      "Importance Sum (i=22) : 0.663\n",
      "\n",
      "Importance Sum (i=23) : 0.648\n",
      "\n",
      "Importance Sum (i=24) : 0.705\n",
      "\n",
      "Importance Sum (i=25) : 0.701\n",
      "\n",
      "Importance Sum (i=26) : 0.655\n",
      "\n",
      "Importance Sum (i=27) : 0.662\n",
      "\n",
      "Importance Sum (i=28) : 0.703\n",
      "\n",
      "Importance Sum (i=29) : 0.689\n",
      "\n",
      "Importance Sum (i=30) : 0.673\n",
      "\n",
      "Importance Sum (i=31) : 0.68\n",
      "\n",
      "Importance Sum (i=32) : 0.69\n",
      "\n",
      "Importance Sum (i=33) : 0.685\n",
      "\n",
      "Importance Sum (i=34) : 0.678\n",
      "\n",
      "Importance Sum (i=35) : 0.668\n",
      "\n",
      "Importance Sum (i=36) : 0.691\n",
      "\n",
      "Importance Sum (i=37) : 0.687\n",
      "\n",
      "Importance Sum (i=38) : 0.686\n",
      "\n",
      "Importance Sum (i=39) : 0.692\n",
      "\n",
      "Importance Sum (i=40) : 0.709\n",
      "\n",
      "Importance Sum (i=41) : 0.679\n",
      "\n",
      "Importance Sum (i=42) : 0.672\n",
      "\n",
      "Importance Sum (i=43) : 0.634\n",
      "\n",
      "Importance Sum (i=44) : 0.669\n",
      "\n",
      "Importance Sum (i=45) : 0.668\n",
      "\n",
      "Importance Sum (i=46) : 0.638\n",
      "\n",
      "Importance Sum (i=47) : 0.642\n",
      "\n",
      "Importance Sum (i=48) : 0.687\n",
      "\n",
      "Importance Sum (i=49) : 0.658\n",
      "\n",
      "Importance Sum (i=50) : 0.669\n",
      "\n",
      "Importance Sum (i=51) : 0.687\n",
      "\n",
      "Importance Sum (i=52) : 0.685\n",
      "\n",
      "Importance Sum (i=53) : 0.675\n",
      "\n",
      "Importance Sum (i=54) : 0.667\n",
      "\n",
      "Importance Sum (i=55) : 0.694\n",
      "\n",
      "Importance Sum (i=56) : 0.696\n",
      "\n",
      "Importance Sum (i=57) : 0.678\n",
      "\n",
      "Importance Sum (i=58) : 0.677\n",
      "\n",
      "Importance Sum (i=59) : 0.661\n",
      "\n",
      "Importance Sum (i=60) : 0.699\n",
      "\n",
      "Importance Sum (i=61) : 0.655\n",
      "\n",
      "Importance Sum (i=62) : 0.653\n",
      "\n",
      "Importance Sum (i=63) : 0.677\n",
      "\n",
      "Importance Sum (i=64) : 0.689\n",
      "\n",
      "Importance Sum (i=65) : 0.674\n",
      "\n",
      "Importance Sum (i=66) : 0.639\n",
      "\n",
      "Importance Sum (i=67) : 0.652\n",
      "\n",
      "Importance Sum (i=68) : 0.668\n",
      "\n",
      "Importance Sum (i=69) : 0.683\n",
      "\n",
      "Importance Sum (i=70) : 0.705\n",
      "\n",
      "Importance Sum (i=71) : 0.672\n",
      "\n",
      "Importance Sum (i=72) : 0.721\n",
      "\n",
      "Importance Sum (i=73) : 0.696\n",
      "\n",
      "Importance Sum (i=74) : 0.697\n",
      "\n",
      "Importance Sum (i=75) : 0.688\n",
      "\n",
      "Importance Sum (i=76) : 0.712\n",
      "\n",
      "Importance Sum (i=77) : 0.686\n",
      "\n",
      "Importance Sum (i=78) : 0.67\n",
      "\n",
      "Importance Sum (i=79) : 0.681\n",
      "\n",
      "Importance Sum (i=80) : 0.695\n",
      "\n",
      "Importance Sum (i=81) : 0.689\n",
      "\n",
      "Importance Sum (i=82) : 0.654\n",
      "\n",
      "Importance Sum (i=83) : 0.646\n",
      "\n",
      "Importance Sum (i=84) : 0.659\n",
      "\n",
      "Importance Sum (i=85) : 0.681\n",
      "\n",
      "Importance Sum (i=86) : 0.682\n",
      "\n",
      "Importance Sum (i=87) : 0.674\n",
      "\n",
      "Importance Sum (i=88) : 0.691\n",
      "\n",
      "Importance Sum (i=89) : 0.678\n",
      "\n",
      "Importance Sum (i=90) : 0.681\n",
      "\n",
      "Importance Sum (i=91) : 0.672\n",
      "\n",
      "Importance Sum (i=92) : 0.708\n",
      "\n",
      "Importance Sum (i=93) : 0.698\n",
      "\n",
      "Importance Sum (i=94) : 0.687\n",
      "\n",
      "Importance Sum (i=95) : 0.697\n",
      "\n",
      "Importance Sum (i=96) : 0.699\n",
      "\n",
      "Importance Sum (i=97) : 0.694\n",
      "\n",
      "Importance Sum (i=98) : 0.678\n",
      "\n",
      "Importance Sum (i=99) : 0.638\n",
      "\n",
      "Importance Sum (i=100) : 0.679\n",
      "\n"
     ]
    }
   ],
   "source": [
    "hg[, 'ind.sum'] <- 0\n",
    "for (i in 1:nrow(hg)) {\n",
    "    trainx <- calc.indi(n.rsi=hg$n.rsi[i], \n",
    "                        n.bbands=hg$n.bbands[i], \n",
    "                        n.macd=hg$n.macd[[i]])\n",
    "    ds <- get.dataset(trainx)\n",
    "\n",
    "    fc <- xgb.forecast(ds$x.train.label, ds$x.train.features, \n",
    "                       ds$x.test.label, ds$x.test.features,\n",
    "                       max_depth=max_depth, eta=eta)\n",
    "\n",
    "    importance_matrix <- xgb.importance(model=fc$model)\n",
    "    importance_matrix <- importance_matrix[order(Feature),]\n",
    "\n",
    "    s <- sum(importance_matrix[c(1,3,4),2])\n",
    "    message(paste('Importance Sum (i=', i, ') : ', round(s,3), sep=''))\n",
    "    hg[i, 'ind.sum'] <- s\n",
    "}"
   ]
  },
  {
   "cell_type": "code",
   "execution_count": 331,
   "id": "1cf7fb7b-612b-434f-a687-f78d90c8b21d",
   "metadata": {},
   "outputs": [
    {
     "data": {
      "text/html": [
       "<table class=\"dataframe\">\n",
       "<caption>A data.frame: 1 × 4</caption>\n",
       "<thead>\n",
       "\t<tr><th></th><th scope=col>n.rsi</th><th scope=col>n.bbands</th><th scope=col>n.macd</th><th scope=col>ind.sum</th></tr>\n",
       "\t<tr><th></th><th scope=col>&lt;dbl&gt;</th><th scope=col>&lt;dbl&gt;</th><th scope=col>&lt;list&gt;</th><th scope=col>&lt;dbl&gt;</th></tr>\n",
       "</thead>\n",
       "<tbody>\n",
       "\t<tr><th scope=row>72</th><td>45</td><td>16</td><td>8, 26, 9</td><td>0.7207095</td></tr>\n",
       "</tbody>\n",
       "</table>\n"
      ],
      "text/latex": [
       "A data.frame: 1 × 4\n",
       "\\begin{tabular}{r|llll}\n",
       "  & n.rsi & n.bbands & n.macd & ind.sum\\\\\n",
       "  & <dbl> & <dbl> & <list> & <dbl>\\\\\n",
       "\\hline\n",
       "\t72 & 45 & 16 & 8, 26, 9 & 0.7207095\\\\\n",
       "\\end{tabular}\n"
      ],
      "text/markdown": [
       "\n",
       "A data.frame: 1 × 4\n",
       "\n",
       "| <!--/--> | n.rsi &lt;dbl&gt; | n.bbands &lt;dbl&gt; | n.macd &lt;list&gt; | ind.sum &lt;dbl&gt; |\n",
       "|---|---|---|---|---|\n",
       "| 72 | 45 | 16 | 8, 26, 9 | 0.7207095 |\n",
       "\n"
      ],
      "text/plain": [
       "   n.rsi n.bbands n.macd   ind.sum  \n",
       "72 45    16       8, 26, 9 0.7207095"
      ]
     },
     "metadata": {},
     "output_type": "display_data"
    }
   ],
   "source": [
    "hg[hg$ind.sum==max(hg$ind.sum),]"
   ]
  },
  {
   "cell_type": "code",
   "execution_count": 22,
   "id": "7f90fcf3-93fe-4d46-bee5-c6eab990a05a",
   "metadata": {},
   "outputs": [
    {
     "data": {
      "text/html": [
       "0.720709456773441"
      ],
      "text/latex": [
       "0.720709456773441"
      ],
      "text/markdown": [
       "0.720709456773441"
      ],
      "text/plain": [
       "[1] 0.7207095"
      ]
     },
     "metadata": {},
     "output_type": "display_data"
    },
    {
     "data": {
      "image/png": "[encoded data removed]",
      "text/plain": [
       "plot without title"
      ]
     },
     "metadata": {
      "image/png": {
       "height": 240,
       "width": 420
      }
     },
     "output_type": "display_data"
    }
   ],
   "source": [
    "i <- 72\n",
    "trainx <- calc.indi(n.rsi=hg$n.rsi[i], n.bbands=hg$n.bbands[i], n.macd=hg$n.macd[[i]])\n",
    "ds <- get.dataset(trainx)\n",
    "\n",
    "fc <- xgb.forecast(ds$x.train.label, ds$x.train.features, \n",
    "                   ds$x.test.label, ds$x.test.features,\n",
    "                   max_depth=max_depth, eta=eta)\n",
    "\n",
    "importance_matrix <- xgb.importance(model=fc$model)\n",
    "importance_matrix <- importance_matrix[order(Feature),]\n",
    "\n",
    "my.figsize(7, 4)\n",
    "xgb.plot.importance(importance_matrix, xlab = \"Feature Importance\")\n",
    "sum(importance_matrix[c(1,3,4),2])"
   ]
  },
  {
   "cell_type": "code",
   "execution_count": 23,
   "id": "5503f2f1-7469-4ef6-9259-98f3321d18e6",
   "metadata": {},
   "outputs": [
    {
     "data": {
      "text/html": [
       "<table class=\"dataframe\">\n",
       "<caption>A data.table: 4 × 5</caption>\n",
       "<thead>\n",
       "\t<tr><th scope=col>Feature</th><th scope=col>Gain</th><th scope=col>Cover</th><th scope=col>Frequency</th><th scope=col>Importance</th></tr>\n",
       "\t<tr><th scope=col>&lt;chr&gt;</th><th scope=col>&lt;dbl&gt;</th><th scope=col>&lt;dbl&gt;</th><th scope=col>&lt;dbl&gt;</th><th scope=col>&lt;dbl&gt;</th></tr>\n",
       "</thead>\n",
       "<tbody>\n",
       "\t<tr><td>bbands</td><td>0.2202611</td><td>0.1732194</td><td>0.2036047</td><td>0.2202611</td></tr>\n",
       "\t<tr><td>logret</td><td>0.2792905</td><td>0.3099205</td><td>0.2853040</td><td>0.2792905</td></tr>\n",
       "\t<tr><td>macd  </td><td>0.2485181</td><td>0.3473465</td><td>0.2699544</td><td>0.2485181</td></tr>\n",
       "\t<tr><td>rsi   </td><td>0.2519303</td><td>0.1695136</td><td>0.2411369</td><td>0.2519303</td></tr>\n",
       "</tbody>\n",
       "</table>\n"
      ],
      "text/latex": [
       "A data.table: 4 × 5\n",
       "\\begin{tabular}{lllll}\n",
       " Feature & Gain & Cover & Frequency & Importance\\\\\n",
       " <chr> & <dbl> & <dbl> & <dbl> & <dbl>\\\\\n",
       "\\hline\n",
       "\t bbands & 0.2202611 & 0.1732194 & 0.2036047 & 0.2202611\\\\\n",
       "\t logret & 0.2792905 & 0.3099205 & 0.2853040 & 0.2792905\\\\\n",
       "\t macd   & 0.2485181 & 0.3473465 & 0.2699544 & 0.2485181\\\\\n",
       "\t rsi    & 0.2519303 & 0.1695136 & 0.2411369 & 0.2519303\\\\\n",
       "\\end{tabular}\n"
      ],
      "text/markdown": [
       "\n",
       "A data.table: 4 × 5\n",
       "\n",
       "| Feature &lt;chr&gt; | Gain &lt;dbl&gt; | Cover &lt;dbl&gt; | Frequency &lt;dbl&gt; | Importance &lt;dbl&gt; |\n",
       "|---|---|---|---|---|\n",
       "| bbands | 0.2202611 | 0.1732194 | 0.2036047 | 0.2202611 |\n",
       "| logret | 0.2792905 | 0.3099205 | 0.2853040 | 0.2792905 |\n",
       "| macd   | 0.2485181 | 0.3473465 | 0.2699544 | 0.2485181 |\n",
       "| rsi    | 0.2519303 | 0.1695136 | 0.2411369 | 0.2519303 |\n",
       "\n"
      ],
      "text/plain": [
       "  Feature Gain      Cover     Frequency Importance\n",
       "1 bbands  0.2202611 0.1732194 0.2036047 0.2202611 \n",
       "2 logret  0.2792905 0.3099205 0.2853040 0.2792905 \n",
       "3 macd    0.2485181 0.3473465 0.2699544 0.2485181 \n",
       "4 rsi     0.2519303 0.1695136 0.2411369 0.2519303 "
      ]
     },
     "metadata": {},
     "output_type": "display_data"
    }
   ],
   "source": [
    "importance_matrix"
   ]
  },
  {
   "cell_type": "markdown",
   "id": "9b97b7b9-8d73-423a-a724-09b5b0b1da17",
   "metadata": {},
   "source": [
    "## TODO\n",
    "- custom objetive for forecasting (not trading)\n",
    "    - https://datascience.stackexchange.com/questions/81447/xgboost-custom-objective-for-regression-in-r\n",
    "    - https://github.com/lbk209/gradient_boosting/blob/main/lib/objectives.py\n",
    "- cv with new tech indi\n",
    "- cv with more stock data"
   ]
  },
  {
   "cell_type": "markdown",
   "id": "56530562-b621-409e-8ecc-9e733825b5d9",
   "metadata": {},
   "source": [
    "# Ex5. Optimize Tech. Indicators"
   ]
  },
  {
   "cell_type": "markdown",
   "id": "8f72ae04-97b6-45cc-94ad-e7aada682b99",
   "metadata": {},
   "source": [
    "## Settings"
   ]
  },
  {
   "cell_type": "code",
   "execution_count": 1,
   "id": "8a0eaeef-d58f-49b5-8869-794c5be554fa",
   "metadata": {},
   "outputs": [
    {
     "name": "stderr",
     "output_type": "stream",
     "text": [
      "Loading required package: xts\n",
      "\n",
      "Loading required package: zoo\n",
      "\n",
      "\n",
      "Attaching package: ‘zoo’\n",
      "\n",
      "\n",
      "The following objects are masked from ‘package:base’:\n",
      "\n",
      "    as.Date, as.Date.numeric\n",
      "\n",
      "\n",
      "Loading required package: TTR\n",
      "\n",
      "Registered S3 method overwritten by 'quantmod':\n",
      "  method            from\n",
      "  as.zoo.data.frame zoo \n",
      "\n"
     ]
    }
   ],
   "source": [
    "library(quantmod)\n",
    "library(xgboost)"
   ]
  },
  {
   "cell_type": "code",
   "execution_count": 2,
   "id": "e6253428-b29f-4e51-9498-3e2546de8e0e",
   "metadata": {},
   "outputs": [],
   "source": [
    "path <- '~/works/utils/r'\n",
    "#path <- '~/works/ts/lib'\n",
    "source(paste(path, \"myutils.r\", sep='/'))\n",
    "source(paste(path, \"myarimagarch.r\", sep='/'))"
   ]
  },
  {
   "cell_type": "code",
   "execution_count": 3,
   "id": "54969ac5-3268-42ff-a7a6-cb37866ea2d5",
   "metadata": {},
   "outputs": [],
   "source": [
    "source(paste(path, \"myxgb.r\", sep='/'))"
   ]
  },
  {
   "cell_type": "code",
   "execution_count": 4,
   "id": "98b5ae8d-5f7c-47ad-815f-be83d79b85c3",
   "metadata": {},
   "outputs": [],
   "source": [
    "calc.indi <- function(train, n.rsi=14, n.bbands=20, n.macd=c(12,26,9)) {\n",
    "    x <- RSI(spx$a, n=n.rsi)\n",
    "    trainx <- merge(train, x, join='left', fill=NA)\n",
    "\n",
    "    # use close instead of adjusted to make consistent with \"un-adjusted\" high & low\n",
    "    x <- BBands(spx[,c('h','l','c')], n=n.bbands)\n",
    "    x <- x$pctB\n",
    "    trainx <- merge(trainx, x, join='left', fill=NA)\n",
    "\n",
    "    x <- MACD(spx$a, nFast = n.macd[1], nSlow = n.macd[2], nSig = n.macd[3])\n",
    "    x <- x$macd - x$signal\n",
    "    trainx <- merge(trainx, x, join='left', fill=NA)\n",
    "\n",
    "    colnames(trainx) <- c('y','rsi','bbands','macd')\n",
    "    trainx <- na.omit(trainx)\n",
    "    return(trainx)\n",
    "}\n",
    "\n",
    "\n",
    "get.dataset <- function(trainx, lookahead) {\n",
    "    train.ml <- merge(lag.xts(trainx$y, -lookahead), trainx, join='left', fill=NA)\n",
    "    colnames(train.ml) <- c('logret_fwd', 'logret', 'rsi','bbands','macd')\n",
    "    train.ml <- na.omit(train.ml)\n",
    "    ds <- list(label=train.ml[,1], features=train.ml[,2:5])\n",
    "    return(ds)\n",
    "}"
   ]
  },
  {
   "cell_type": "code",
   "execution_count": 5,
   "id": "752813a3-7092-4113-9b93-739a77fec790",
   "metadata": {},
   "outputs": [],
   "source": [
    "xgb.tsCV.2 <- function(label, features, max_depth = 6, eta = .25,\n",
    "                      h = 1, window = NULL, initial = 0, step = 1, \n",
    "                      count.freq=0.1, ...) \n",
    "{\n",
    "    y <- as.ts(label)\n",
    "    n <- length(y)\n",
    "    step <- round(step)\n",
    "    step_ind <- seq(step, n - 1L, by = step)\n",
    "\n",
    "    if (initial >= n) \n",
    "        stop(\"initial period too long\")\n",
    "\n",
    "    xreg <- ts(as.matrix(features))\n",
    "    if (NROW(xreg) != length(y)) \n",
    "        stop(\"features must be of the same size as label\")\n",
    "    tsp(xreg) <- tsp(y)\n",
    " \n",
    "    if (is.null(window)) {\n",
    "        indx <- seq(1 + initial, n - 1L)\n",
    "    } else {\n",
    "        indx <- seq(window + initial, n - 1L, by = 1L)\n",
    "    }\n",
    "    indx <- intersect(indx, step_ind)\n",
    "\n",
    "    e.cols <- c('forecast_start', 'forecast_end')\n",
    "    e.cols <- append(e.cols, sort(colnames(features)))\n",
    "    e <- ts(matrix(NA_real_, nrow = floor(n/step), ncol = length(e.cols)))\n",
    "    colnames(e) <- e.cols\n",
    "    \n",
    "    ###\n",
    "    hyper_grid <- expand.grid(max_depth = max_depth, eta = eta)\n",
    "    if (nrow(hyper_grid)>1) {\n",
    "        hyper_grid.flag <- TRUE\n",
    "        h.gsearch <- max(h, step)\n",
    "    } else {\n",
    "        hyper_grid.flag <- FALSE\n",
    "    }\n",
    "    \n",
    "\n",
    "    indx.len <- length(indx)\n",
    "    by <- round(count.freq*indx.len)\n",
    "    by <- max(1, by)\n",
    "    print.when <- seq(0, indx.len, by=by)\n",
    "    \n",
    "    cnt <- 0\n",
    "    \n",
    "    for (i in indx) {\n",
    "        # get new start of subset of y & xreg\n",
    "        if (is.null(window)) {\n",
    "            start <- 1L\n",
    "        } else {\n",
    "            if (i - window >= 0L) {\n",
    "                start <- i - window + 1L\n",
    "            } else {\n",
    "                stop(\"small window\")\n",
    "            }\n",
    "        }\n",
    "        train.label <- subset(y, start=start, end = i)\n",
    "        train.features <- as.matrix(subset(xreg, start=start, end=i))\n",
    "        \n",
    "        # get test data\n",
    "        start <- i+1\n",
    "        end <- i+h\n",
    "        if (end <= nrow(xreg)) {\n",
    "            test.label <- subset(y, start=start, end=end)\n",
    "            test.features <- as.matrix(subset(xreg, start=start, end=end))\n",
    "        } else {\n",
    "            next\n",
    "        }\n",
    "        \n",
    "        # tune hyperparams\n",
    "        if (hyper_grid.flag) {\n",
    "            res <- xgb.gridsearch(train.label, train.features, \n",
    "                                  h.gsearch, \n",
    "                                  hyper_grid)\n",
    "            max_depth.best <- res$max_depth\n",
    "            eta.best <- res$eta\n",
    "        } else {\n",
    "            max_depth.best <- max_depth\n",
    "            eta.best <- eta\n",
    "        }\n",
    "        \n",
    "        # train model\n",
    "        fc <- xgb.forecast(train.label, train.features, test.label, test.features,\n",
    "                                nrounds = 1000, early_stopping_rounds = 3,\n",
    "                                max_depth = max_depth.best,\n",
    "                                eta = eta.best, result.error=FALSE, ...)\n",
    "        # calc importance\n",
    "        importance_matrix <- xgb.importance(model=fc$model)\n",
    "        importance_matrix <- importance_matrix[order(Feature),]\n",
    "        gains <- importance_matrix[,'Gain']\n",
    "        gains <- as.list(gains)\n",
    "        gains <- gains$Gain\n",
    "\n",
    "        e[i/step, ] <- append(c(start, end), gains)\n",
    "\n",
    "        cnt <- cnt + 1\n",
    "        if (cnt %in% print.when) {\n",
    "            message(sprintf(\"%0.0f %% done.\", 100*cnt/length(indx)))\n",
    "        }\n",
    "    }\n",
    "    #return(na.omit(e)) # times of NA kept in e as attr(na.action)\n",
    "    return(e)\n",
    "}"
   ]
  },
  {
   "cell_type": "markdown",
   "id": "fc0472a3-36c5-4a83-9354-a536d324214f",
   "metadata": {},
   "source": [
    "## Data"
   ]
  },
  {
   "cell_type": "code",
   "execution_count": 6,
   "id": "92b307c0-0804-41bd-9853-3720d825b519",
   "metadata": {},
   "outputs": [],
   "source": [
    "train_start <- '1991-01-01'\n",
    "train_end <- '2019-12-31'\n",
    "\n",
    "test_start <- '2020-01-01'\n",
    "test_end <- '2020-12-31'"
   ]
  },
  {
   "cell_type": "code",
   "execution_count": 80,
   "id": "13e8453c-40e5-4826-b79d-36f7b815ceec",
   "metadata": {},
   "outputs": [],
   "source": [
    "# testing\n",
    "#train_start <- '1991-01-01'\n",
    "#train_end <- '2000-12-31'"
   ]
  },
  {
   "cell_type": "code",
   "execution_count": 7,
   "id": "0b1a95ba-2201-4ec3-a6b2-240f8c49d831",
   "metadata": {},
   "outputs": [
    {
     "data": {
      "text/html": [
       "'^GSPC'"
      ],
      "text/latex": [
       "'\\textasciicircum{}GSPC'"
      ],
      "text/markdown": [
       "'^GSPC'"
      ],
      "text/plain": [
       "[1] \"^GSPC\""
      ]
     },
     "metadata": {},
     "output_type": "display_data"
    }
   ],
   "source": [
    "from <- train_start\n",
    "to <- test_end\n",
    "getSymbols(\"^GSPC\", from=from, to=to)"
   ]
  },
  {
   "cell_type": "code",
   "execution_count": 8,
   "id": "fe50aafe-816a-49f2-98cb-9ee9ce431f5f",
   "metadata": {
    "tags": []
   },
   "outputs": [],
   "source": [
    "spx <- GSPC\n",
    "colnames(spx) <- c('o','h','l','c','v','a')"
   ]
  },
  {
   "cell_type": "markdown",
   "id": "37de4aa0-1231-40ba-a5a8-307665669998",
   "metadata": {},
   "source": [
    "### Return"
   ]
  },
  {
   "cell_type": "code",
   "execution_count": 9,
   "id": "be3c74fe-c45b-4ca1-9186-9fe7f05d2a25",
   "metadata": {},
   "outputs": [],
   "source": [
    "lookahead <- 21"
   ]
  },
  {
   "cell_type": "code",
   "execution_count": 10,
   "id": "c16e8462-2203-4581-8e4f-88f6fd174351",
   "metadata": {},
   "outputs": [
    {
     "data": {
      "text/plain": [
       "               logret\n",
       "1991-01-31 0.05216129\n",
       "1991-02-01 0.06360416\n",
       "1991-02-04 0.08173788\n",
       "1991-02-05 0.10755822\n",
       "1991-02-06 0.12847341\n",
       "1991-02-07 0.13502311"
      ]
     },
     "metadata": {},
     "output_type": "display_data"
    }
   ],
   "source": [
    "spx.ret <- diff(log(spx$a), lookahead)\n",
    "spx.ret <- na.omit(spx.ret)\n",
    "colnames(spx.ret) <- 'logret'\n",
    "head(spx.ret)"
   ]
  },
  {
   "cell_type": "code",
   "execution_count": 11,
   "id": "e912fb14-822a-42fe-bcb2-809a5ff96f72",
   "metadata": {},
   "outputs": [],
   "source": [
    "train <- window(spx.ret, end=as.Date(train_end))\n",
    "test <- window(spx.ret, start=as.Date(test_start), end=as.Date(test_end))"
   ]
  },
  {
   "cell_type": "markdown",
   "id": "7336c99d-9111-408b-b4fa-9261ebf0056d",
   "metadata": {},
   "source": [
    "### CV Settings"
   ]
  },
  {
   "cell_type": "code",
   "execution_count": 12,
   "id": "fdc1eeaa-9da6-4283-b12c-4ce8b5fee8da",
   "metadata": {},
   "outputs": [],
   "source": [
    "YEAR <- 252\n",
    "\n",
    "#hori <- floor(YEAR/2)\n",
    "#hori <- floor(YEAR/6)\n",
    "hori <- floor(YEAR/12)\n",
    "\n",
    "#peri <- floor(hori/2)\n",
    "#peri <- hori*2\n",
    "peri <- hori\n",
    "\n",
    "#wind <- 5*YEAR\n",
    "#wind <- 7*YEAR\n",
    "wind <- 9*YEAR"
   ]
  },
  {
   "cell_type": "markdown",
   "id": "eb36e72e-f453-4136-92f4-8b4b91f38e5a",
   "metadata": {},
   "source": [
    "## CV"
   ]
  },
  {
   "cell_type": "code",
   "execution_count": 13,
   "id": "7b34dfbc-3008-4370-ac18-cfde92fecd16",
   "metadata": {},
   "outputs": [],
   "source": [
    "n.rsi <- c(10,14,18,22) # default 14\n",
    "n.bbands <- c(16,20,24,28) # default 20\n",
    "n.macd <- list(c(12,26,9)) # default"
   ]
  },
  {
   "cell_type": "code",
   "execution_count": 14,
   "id": "6c8ae9cc-e796-48d5-9470-0505cf30d50c",
   "metadata": {},
   "outputs": [
    {
     "data": {
      "text/html": [
       "16"
      ],
      "text/latex": [
       "16"
      ],
      "text/markdown": [
       "16"
      ],
      "text/plain": [
       "[1] 16"
      ]
     },
     "metadata": {},
     "output_type": "display_data"
    }
   ],
   "source": [
    "hg <- expand.grid(n.rsi=n.rsi, n.bbands=n.bbands, n.macd=n.macd)\n",
    "nrow(hg)"
   ]
  },
  {
   "cell_type": "code",
   "execution_count": 16,
   "id": "7f48e500-b3bf-4036-8c7a-a1250512be91",
   "metadata": {},
   "outputs": [],
   "source": [
    "#max_depth <- seq(4, 8, 1)\n",
    "#eta <- c(0.01, 0.05, 0.1, 0.2, 0.3)\n",
    "\n",
    "max_depth <- 6\n",
    "eta <- .25"
   ]
  },
  {
   "cell_type": "code",
   "execution_count": 17,
   "id": "093d00df-454e-44a0-9220-ce6b62fc5625",
   "metadata": {
    "scrolled": true,
    "tags": []
   },
   "outputs": [
    {
     "name": "stderr",
     "output_type": "stream",
     "text": [
      "50 % done.\n",
      "\n",
      "Indi Opt: 6 % done.\n",
      "\n",
      "50 % done.\n",
      "\n",
      "Indi Opt: 12 % done.\n",
      "\n",
      "50 % done.\n",
      "\n",
      "Indi Opt: 19 % done.\n",
      "\n",
      "50 % done.\n",
      "\n",
      "Indi Opt: 25 % done.\n",
      "\n",
      "50 % done.\n",
      "\n",
      "Indi Opt: 31 % done.\n",
      "\n",
      "50 % done.\n",
      "\n",
      "Indi Opt: 38 % done.\n",
      "\n",
      "50 % done.\n",
      "\n",
      "Indi Opt: 44 % done.\n",
      "\n",
      "50 % done.\n",
      "\n",
      "Indi Opt: 50 % done.\n",
      "\n",
      "50 % done.\n",
      "\n",
      "Indi Opt: 56 % done.\n",
      "\n",
      "50 % done.\n",
      "\n",
      "Indi Opt: 62 % done.\n",
      "\n",
      "50 % done.\n",
      "\n",
      "Indi Opt: 69 % done.\n",
      "\n",
      "50 % done.\n",
      "\n",
      "Indi Opt: 75 % done.\n",
      "\n",
      "50 % done.\n",
      "\n",
      "Indi Opt: 81 % done.\n",
      "\n",
      "50 % done.\n",
      "\n",
      "Indi Opt: 88 % done.\n",
      "\n",
      "50 % done.\n",
      "\n",
      "Indi Opt: 94 % done.\n",
      "\n",
      "50 % done.\n",
      "\n",
      "Indi Opt: 100 % done.\n",
      "\n"
     ]
    }
   ],
   "source": [
    "result <- NULL\n",
    "\n",
    "for (i in 1:nrow(hg)) {\n",
    "    trainx <- calc.indi(train,\n",
    "                        n.rsi=hg$n.rsi[i], \n",
    "                        n.bbands=hg$n.bbands[i], \n",
    "                        n.macd=hg$n.macd[[i]])\n",
    "    ds <- get.dataset(trainx, lookahead)\n",
    "\n",
    "    imp <- xgb.tsCV.2(ds$label, ds$features, \n",
    "                     h=hori, window=wind, step=peri,\n",
    "                     max_depth = max_depth, eta = eta,\n",
    "                     count.freq=0.5)\n",
    "    imp <- na.omit(imp)\n",
    "    imp <- data.frame(imp)\n",
    "    res <- cbind(imp, hg[i,], row.names = NULL)\n",
    "    if (is.null(result)) {\n",
    "        result <- res\n",
    "    } else {\n",
    "        result <- rbind(result, res)\n",
    "    }\n",
    "    message(sprintf(\"Indi Opt: %0.0f %% done.\", 100*i/nrow(hg)))\n",
    "}"
   ]
  },
  {
   "cell_type": "code",
   "execution_count": 20,
   "id": "fb649b9c-8156-429e-957a-c8cf53849378",
   "metadata": {},
   "outputs": [
    {
     "data": {
      "image/png": "[encoded data removed]",
      "text/plain": [
       "plot without title"
      ]
     },
     "metadata": {
      "image/png": {
       "height": 360,
       "width": 600
      }
     },
     "output_type": "display_data"
    }
   ],
   "source": [
    "my.figsize(10,6)\n",
    "(ggplot(result, aes(x=forecast_start, y=bbands, group=n.rsi)) \n",
    " #+ geom_line(aes(col=n.rsi))\n",
    " + geom_point(aes(col=n.rsi))\n",
    ")"
   ]
  },
  {
   "cell_type": "code",
   "execution_count": 19,
   "id": "ce2da8d1-e062-4e8e-89fe-b825ef9338f8",
   "metadata": {},
   "outputs": [
    {
     "data": {
      "text/html": [
       "<table class=\"dataframe\">\n",
       "<caption>A data.frame: 6 × 9</caption>\n",
       "<thead>\n",
       "\t<tr><th></th><th scope=col>forecast_start</th><th scope=col>forecast_end</th><th scope=col>bbands</th><th scope=col>logret</th><th scope=col>macd</th><th scope=col>rsi</th><th scope=col>n.rsi</th><th scope=col>n.bbands</th><th scope=col>n.macd</th></tr>\n",
       "\t<tr><th></th><th scope=col>&lt;dbl&gt;</th><th scope=col>&lt;dbl&gt;</th><th scope=col>&lt;dbl&gt;</th><th scope=col>&lt;dbl&gt;</th><th scope=col>&lt;dbl&gt;</th><th scope=col>&lt;dbl&gt;</th><th scope=col>&lt;dbl&gt;</th><th scope=col>&lt;dbl&gt;</th><th scope=col>&lt;list&gt;</th></tr>\n",
       "</thead>\n",
       "<tbody>\n",
       "\t<tr><th scope=row>1</th><td>2269</td><td>2289</td><td>0.2081678</td><td>0.2737822</td><td>0.2891770</td><td>0.2288729</td><td>10</td><td>16</td><td>12, 26, 9</td></tr>\n",
       "\t<tr><th scope=row>2</th><td>2290</td><td>2310</td><td>0.2170020</td><td>0.3049878</td><td>0.2669555</td><td>0.2110547</td><td>10</td><td>16</td><td>12, 26, 9</td></tr>\n",
       "\t<tr><th scope=row>3</th><td>2311</td><td>2331</td><td>0.2193480</td><td>0.2670066</td><td>0.2955382</td><td>0.2181072</td><td>10</td><td>16</td><td>12, 26, 9</td></tr>\n",
       "\t<tr><th scope=row>4</th><td>2332</td><td>2352</td><td>0.2044572</td><td>0.2920891</td><td>0.2845413</td><td>0.2189125</td><td>10</td><td>16</td><td>12, 26, 9</td></tr>\n",
       "\t<tr><th scope=row>5</th><td>2353</td><td>2373</td><td>0.2278240</td><td>0.2737466</td><td>0.2848672</td><td>0.2135622</td><td>10</td><td>16</td><td>12, 26, 9</td></tr>\n",
       "\t<tr><th scope=row>6</th><td>2374</td><td>2394</td><td>0.2225411</td><td>0.2639154</td><td>0.2873937</td><td>0.2261499</td><td>10</td><td>16</td><td>12, 26, 9</td></tr>\n",
       "</tbody>\n",
       "</table>\n"
      ],
      "text/latex": [
       "A data.frame: 6 × 9\n",
       "\\begin{tabular}{r|lllllllll}\n",
       "  & forecast\\_start & forecast\\_end & bbands & logret & macd & rsi & n.rsi & n.bbands & n.macd\\\\\n",
       "  & <dbl> & <dbl> & <dbl> & <dbl> & <dbl> & <dbl> & <dbl> & <dbl> & <list>\\\\\n",
       "\\hline\n",
       "\t1 & 2269 & 2289 & 0.2081678 & 0.2737822 & 0.2891770 & 0.2288729 & 10 & 16 & 12, 26, 9\\\\\n",
       "\t2 & 2290 & 2310 & 0.2170020 & 0.3049878 & 0.2669555 & 0.2110547 & 10 & 16 & 12, 26, 9\\\\\n",
       "\t3 & 2311 & 2331 & 0.2193480 & 0.2670066 & 0.2955382 & 0.2181072 & 10 & 16 & 12, 26, 9\\\\\n",
       "\t4 & 2332 & 2352 & 0.2044572 & 0.2920891 & 0.2845413 & 0.2189125 & 10 & 16 & 12, 26, 9\\\\\n",
       "\t5 & 2353 & 2373 & 0.2278240 & 0.2737466 & 0.2848672 & 0.2135622 & 10 & 16 & 12, 26, 9\\\\\n",
       "\t6 & 2374 & 2394 & 0.2225411 & 0.2639154 & 0.2873937 & 0.2261499 & 10 & 16 & 12, 26, 9\\\\\n",
       "\\end{tabular}\n"
      ],
      "text/markdown": [
       "\n",
       "A data.frame: 6 × 9\n",
       "\n",
       "| <!--/--> | forecast_start &lt;dbl&gt; | forecast_end &lt;dbl&gt; | bbands &lt;dbl&gt; | logret &lt;dbl&gt; | macd &lt;dbl&gt; | rsi &lt;dbl&gt; | n.rsi &lt;dbl&gt; | n.bbands &lt;dbl&gt; | n.macd &lt;list&gt; |\n",
       "|---|---|---|---|---|---|---|---|---|---|\n",
       "| 1 | 2269 | 2289 | 0.2081678 | 0.2737822 | 0.2891770 | 0.2288729 | 10 | 16 | 12, 26, 9 |\n",
       "| 2 | 2290 | 2310 | 0.2170020 | 0.3049878 | 0.2669555 | 0.2110547 | 10 | 16 | 12, 26, 9 |\n",
       "| 3 | 2311 | 2331 | 0.2193480 | 0.2670066 | 0.2955382 | 0.2181072 | 10 | 16 | 12, 26, 9 |\n",
       "| 4 | 2332 | 2352 | 0.2044572 | 0.2920891 | 0.2845413 | 0.2189125 | 10 | 16 | 12, 26, 9 |\n",
       "| 5 | 2353 | 2373 | 0.2278240 | 0.2737466 | 0.2848672 | 0.2135622 | 10 | 16 | 12, 26, 9 |\n",
       "| 6 | 2374 | 2394 | 0.2225411 | 0.2639154 | 0.2873937 | 0.2261499 | 10 | 16 | 12, 26, 9 |\n",
       "\n"
      ],
      "text/plain": [
       "  forecast_start forecast_end bbands    logret    macd      rsi       n.rsi\n",
       "1 2269           2289         0.2081678 0.2737822 0.2891770 0.2288729 10   \n",
       "2 2290           2310         0.2170020 0.3049878 0.2669555 0.2110547 10   \n",
       "3 2311           2331         0.2193480 0.2670066 0.2955382 0.2181072 10   \n",
       "4 2332           2352         0.2044572 0.2920891 0.2845413 0.2189125 10   \n",
       "5 2353           2373         0.2278240 0.2737466 0.2848672 0.2135622 10   \n",
       "6 2374           2394         0.2225411 0.2639154 0.2873937 0.2261499 10   \n",
       "  n.bbands n.macd   \n",
       "1 16       12, 26, 9\n",
       "2 16       12, 26, 9\n",
       "3 16       12, 26, 9\n",
       "4 16       12, 26, 9\n",
       "5 16       12, 26, 9\n",
       "6 16       12, 26, 9"
      ]
     },
     "metadata": {},
     "output_type": "display_data"
    }
   ],
   "source": [
    "head(result)"
   ]
  },
  {
   "cell_type": "code",
   "execution_count": 31,
   "id": "c74d7d26-3d78-4fb0-8ee3-f8fac7f1a294",
   "metadata": {},
   "outputs": [
    {
     "data": {
      "text/html": [
       "<table class=\"dataframe\">\n",
       "<caption>A data.frame: 1 × 9</caption>\n",
       "<thead>\n",
       "\t<tr><th></th><th scope=col>forecast_start</th><th scope=col>forecast_end</th><th scope=col>bbands</th><th scope=col>logret</th><th scope=col>macd</th><th scope=col>rsi</th><th scope=col>n.rsi</th><th scope=col>n.bbands</th><th scope=col>n.macd</th></tr>\n",
       "\t<tr><th></th><th scope=col>&lt;dbl&gt;</th><th scope=col>&lt;dbl&gt;</th><th scope=col>&lt;dbl&gt;</th><th scope=col>&lt;dbl&gt;</th><th scope=col>&lt;dbl&gt;</th><th scope=col>&lt;dbl&gt;</th><th scope=col>&lt;dbl&gt;</th><th scope=col>&lt;dbl&gt;</th><th scope=col>&lt;list&gt;</th></tr>\n",
       "</thead>\n",
       "<tbody>\n",
       "\t<tr><th scope=row>3542</th><td>6952</td><td>6972</td><td>0.2175522</td><td>0.2393389</td><td>0.2430098</td><td>0.300099</td><td>18</td><td>28</td><td>12, 26, 9</td></tr>\n",
       "</tbody>\n",
       "</table>\n"
      ],
      "text/latex": [
       "A data.frame: 1 × 9\n",
       "\\begin{tabular}{r|lllllllll}\n",
       "  & forecast\\_start & forecast\\_end & bbands & logret & macd & rsi & n.rsi & n.bbands & n.macd\\\\\n",
       "  & <dbl> & <dbl> & <dbl> & <dbl> & <dbl> & <dbl> & <dbl> & <dbl> & <list>\\\\\n",
       "\\hline\n",
       "\t3542 & 6952 & 6972 & 0.2175522 & 0.2393389 & 0.2430098 & 0.300099 & 18 & 28 & 12, 26, 9\\\\\n",
       "\\end{tabular}\n"
      ],
      "text/markdown": [
       "\n",
       "A data.frame: 1 × 9\n",
       "\n",
       "| <!--/--> | forecast_start &lt;dbl&gt; | forecast_end &lt;dbl&gt; | bbands &lt;dbl&gt; | logret &lt;dbl&gt; | macd &lt;dbl&gt; | rsi &lt;dbl&gt; | n.rsi &lt;dbl&gt; | n.bbands &lt;dbl&gt; | n.macd &lt;list&gt; |\n",
       "|---|---|---|---|---|---|---|---|---|---|\n",
       "| 3542 | 6952 | 6972 | 0.2175522 | 0.2393389 | 0.2430098 | 0.300099 | 18 | 28 | 12, 26, 9 |\n",
       "\n"
      ],
      "text/plain": [
       "     forecast_start forecast_end bbands    logret    macd      rsi      n.rsi\n",
       "3542 6952           6972         0.2175522 0.2393389 0.2430098 0.300099 18   \n",
       "     n.bbands n.macd   \n",
       "3542 28       12, 26, 9"
      ]
     },
     "metadata": {},
     "output_type": "display_data"
    }
   ],
   "source": [
    "result[which.max(rowSums(result[,c('bbands','macd','rsi')])),]"
   ]
  },
  {
   "cell_type": "code",
   "execution_count": 36,
   "id": "a5e3bad2-68a9-4843-849b-7581302015c9",
   "metadata": {},
   "outputs": [],
   "source": [
    "x <- result\n",
    "x[,'n.macd'] <- as.character(x[,'n.macd'])\n",
    "write.csv(x, file = \"result_indi_opt_ex5.csv\")"
   ]
  },
  {
   "cell_type": "markdown",
   "id": "430050fc-e033-48e9-a7e6-9870e94e6f23",
   "metadata": {},
   "source": [
    "# Ex6. Comparison of default & optimized tech indicators"
   ]
  },
  {
   "cell_type": "markdown",
   "id": "fce7cd04-9680-4700-b3ae-fbff95a80b0a",
   "metadata": {},
   "source": [
    "## Settings"
   ]
  },
  {
   "cell_type": "code",
   "execution_count": 41,
   "id": "af866e7d-5225-425d-ba9b-108c544e348f",
   "metadata": {},
   "outputs": [],
   "source": [
    "library(quantmod)\n",
    "library(xgboost)"
   ]
  },
  {
   "cell_type": "code",
   "execution_count": 43,
   "id": "fd13f11b-ace1-4a6b-bf5d-5d74e637b7ff",
   "metadata": {},
   "outputs": [],
   "source": [
    "#path <- '~/works/utils/r'\n",
    "path <- '~/works/ts/lib'\n",
    "source(paste(path, \"myutils.r\", sep='/'))\n",
    "source(paste(path, \"myarimagarch.r\", sep='/'))"
   ]
  },
  {
   "cell_type": "code",
   "execution_count": 44,
   "id": "0efb6e0f-cc09-4b91-b9c8-0f56f8981cf4",
   "metadata": {},
   "outputs": [],
   "source": [
    "source(paste(path, \"myxgb.r\", sep='/'))"
   ]
  },
  {
   "cell_type": "code",
   "execution_count": 45,
   "id": "3e4e6670-662c-4006-92d1-33fee12daea8",
   "metadata": {},
   "outputs": [],
   "source": [
    "new.get_result <- function(x, group, group.col='Models',\n",
    "                          errors=c('rmse','mape') # unconditional forecast\n",
    "                          #errors=c('rmse.mean','mape.mean') # daily forecast\n",
    "                          ) {\n",
    "    y <- my.get_result(x, group, errors=errors, group.col=group.col)\n",
    "    colnames(y) <- c('rmse','mape',group.col)\n",
    "    return(y)\n",
    "}\n",
    "\n",
    "\n",
    "new.plot_errors <- function(x, group.col='Models', ...) {\n",
    "    my.plot_errors(x, metrics=c('rmse'), group.col=group.col, ...)\n",
    "}"
   ]
  },
  {
   "cell_type": "code",
   "execution_count": 46,
   "id": "645a710b-dc1d-4370-84f8-46153312a6ea",
   "metadata": {},
   "outputs": [],
   "source": [
    "calc.indi <- function(train, n.rsi=14, n.bbands=20, n.macd=c(12,26,9)) {\n",
    "    x <- RSI(spx$a, n=n.rsi)\n",
    "    trainx <- merge(train, x, join='left', fill=NA)\n",
    "\n",
    "    # use close instead of adjusted to make consistent with \"un-adjusted\" high & low\n",
    "    x <- BBands(spx[,c('h','l','c')], n=n.bbands)\n",
    "    x <- x$pctB\n",
    "    trainx <- merge(trainx, x, join='left', fill=NA)\n",
    "\n",
    "    x <- MACD(spx$a, nFast = n.macd[1], nSlow = n.macd[2], nSig = n.macd[3])\n",
    "    x <- x$macd - x$signal\n",
    "    trainx <- merge(trainx, x, join='left', fill=NA)\n",
    "\n",
    "    colnames(trainx) <- c('y','rsi','bbands','macd')\n",
    "    trainx <- na.omit(trainx)\n",
    "    return(trainx)\n",
    "}\n",
    "\n",
    "\n",
    "get.dataset <- function(trainx, lookahead) {\n",
    "    train.ml <- merge(lag.xts(trainx$y, -lookahead), trainx, join='left', fill=NA)\n",
    "    colnames(train.ml) <- c('logret_fwd', 'logret', 'rsi','bbands','macd')\n",
    "    train.ml <- na.omit(train.ml)\n",
    "    ds <- list(label=train.ml[,1], features=train.ml[,2:5])\n",
    "    return(ds)\n",
    "}"
   ]
  },
  {
   "cell_type": "markdown",
   "id": "6d20b933-6b7c-44bf-965a-1d50bf7951cd",
   "metadata": {},
   "source": [
    "## Data"
   ]
  },
  {
   "cell_type": "code",
   "execution_count": 47,
   "id": "7e9b34ef-9b2b-4623-836e-7414eab2f25c",
   "metadata": {},
   "outputs": [],
   "source": [
    "train_start <- '1991-01-01'\n",
    "train_end <- '2019-12-31'\n",
    "\n",
    "test_start <- '2020-01-01'\n",
    "test_end <- '2020-12-31'"
   ]
  },
  {
   "cell_type": "code",
   "execution_count": 48,
   "id": "e3b5f10b-28a4-4efb-bbb2-c07daa371159",
   "metadata": {},
   "outputs": [],
   "source": [
    "# testing\n",
    "#train_start <- '1991-01-01'\n",
    "#train_end <- '2000-12-31'"
   ]
  },
  {
   "cell_type": "code",
   "execution_count": 49,
   "id": "29831eab-d23d-483c-952f-e4605b11faf0",
   "metadata": {},
   "outputs": [
    {
     "data": {
      "text/html": [
       "'^GSPC'"
      ],
      "text/latex": [
       "'\\textasciicircum{}GSPC'"
      ],
      "text/markdown": [
       "'^GSPC'"
      ],
      "text/plain": [
       "[1] \"^GSPC\""
      ]
     },
     "metadata": {},
     "output_type": "display_data"
    }
   ],
   "source": [
    "from <- train_start\n",
    "to <- test_end\n",
    "getSymbols(\"^GSPC\", from=from, to=to)"
   ]
  },
  {
   "cell_type": "code",
   "execution_count": 50,
   "id": "a2085715-68ca-401c-9c50-6f5fa7276cec",
   "metadata": {
    "tags": []
   },
   "outputs": [],
   "source": [
    "spx <- GSPC\n",
    "colnames(spx) <- c('o','h','l','c','v','a')"
   ]
  },
  {
   "cell_type": "markdown",
   "id": "c59e5db8-4a89-4bf1-9c52-02042af463db",
   "metadata": {},
   "source": [
    "### Return"
   ]
  },
  {
   "cell_type": "code",
   "execution_count": 51,
   "id": "7f18a6ea-3837-4d2e-81be-3f62a8c6c6ab",
   "metadata": {},
   "outputs": [],
   "source": [
    "lookahead <- 21"
   ]
  },
  {
   "cell_type": "code",
   "execution_count": 52,
   "id": "d17a394e-1387-48ee-84f4-1fe9fd6c940c",
   "metadata": {},
   "outputs": [
    {
     "data": {
      "text/plain": [
       "               logret\n",
       "1991-01-31 0.05216129\n",
       "1991-02-01 0.06360416\n",
       "1991-02-04 0.08173788\n",
       "1991-02-05 0.10755822\n",
       "1991-02-06 0.12847341\n",
       "1991-02-07 0.13502311"
      ]
     },
     "metadata": {},
     "output_type": "display_data"
    }
   ],
   "source": [
    "spx.ret <- diff(log(spx$a), lookahead)\n",
    "spx.ret <- na.omit(spx.ret)\n",
    "colnames(spx.ret) <- 'logret'\n",
    "head(spx.ret)"
   ]
  },
  {
   "cell_type": "code",
   "execution_count": 53,
   "id": "fa796a6e-adb5-4869-a8cc-1975c6c48b87",
   "metadata": {},
   "outputs": [],
   "source": [
    "train <- window(spx.ret, end=as.Date(train_end))\n",
    "test <- window(spx.ret, start=as.Date(test_start), end=as.Date(test_end))"
   ]
  },
  {
   "cell_type": "markdown",
   "id": "dc3bd43a-8ebd-4a9b-8e54-505854b1abcc",
   "metadata": {},
   "source": [
    "### CV Settings"
   ]
  },
  {
   "cell_type": "code",
   "execution_count": 54,
   "id": "c09a671c-db28-4256-a786-19e06b5aee89",
   "metadata": {},
   "outputs": [],
   "source": [
    "YEAR <- 252\n",
    "\n",
    "#hori <- floor(YEAR/2)\n",
    "#hori <- floor(YEAR/6)\n",
    "hori <- floor(YEAR/12)\n",
    "\n",
    "#peri <- floor(hori/2)\n",
    "#peri <- hori*2\n",
    "peri <- hori\n",
    "\n",
    "#wind <- 5*YEAR\n",
    "#wind <- 7*YEAR\n",
    "wind <- 9*YEAR"
   ]
  },
  {
   "cell_type": "code",
   "execution_count": 55,
   "id": "2b1b0028-1317-4cb2-9bb1-818232800d44",
   "metadata": {},
   "outputs": [],
   "source": [
    "max_depth <- seq(4, 8, 1)\n",
    "eta <- c(0.01, 0.05, 0.1, 0.2, 0.3)"
   ]
  },
  {
   "cell_type": "markdown",
   "id": "c0f3ac4e-daf4-47a5-8de8-f60bb5112d2c",
   "metadata": {},
   "source": [
    "## Default"
   ]
  },
  {
   "cell_type": "code",
   "execution_count": 56,
   "id": "442bff53-f5b4-49db-beb9-c25d8fcb994d",
   "metadata": {},
   "outputs": [],
   "source": [
    "trainx <- calc.indi(train)\n",
    "ds <- get.dataset(trainx, lookahead)"
   ]
  },
  {
   "cell_type": "code",
   "execution_count": 57,
   "id": "c3cb7380-e9d9-4d8f-914a-8d0783f37004",
   "metadata": {
    "scrolled": true,
    "tags": []
   },
   "outputs": [
    {
     "name": "stdout",
     "output_type": "stream",
     "text": [
      "   max_depth eta\n",
      "21         4 0.3\n"
     ]
    },
    {
     "name": "stderr",
     "output_type": "stream",
     "text": [
      "10 % done.\n",
      "\n"
     ]
    },
    {
     "name": "stdout",
     "output_type": "stream",
     "text": [
      "   max_depth eta\n",
      "11         4 0.1\n"
     ]
    },
    {
     "name": "stderr",
     "output_type": "stream",
     "text": [
      "20 % done.\n",
      "\n"
     ]
    },
    {
     "name": "stdout",
     "output_type": "stream",
     "text": [
      "   max_depth eta\n",
      "15         8 0.1\n"
     ]
    },
    {
     "name": "stderr",
     "output_type": "stream",
     "text": [
      "30 % done.\n",
      "\n"
     ]
    },
    {
     "name": "stdout",
     "output_type": "stream",
     "text": [
      "   max_depth eta\n",
      "21         4 0.3\n"
     ]
    },
    {
     "name": "stderr",
     "output_type": "stream",
     "text": [
      "40 % done.\n",
      "\n"
     ]
    },
    {
     "name": "stdout",
     "output_type": "stream",
     "text": [
      "  max_depth  eta\n",
      "1         4 0.01\n"
     ]
    },
    {
     "name": "stderr",
     "output_type": "stream",
     "text": [
      "50 % done.\n",
      "\n"
     ]
    },
    {
     "name": "stdout",
     "output_type": "stream",
     "text": [
      "  max_depth  eta\n",
      "5         8 0.01\n"
     ]
    },
    {
     "name": "stderr",
     "output_type": "stream",
     "text": [
      "60 % done.\n",
      "\n"
     ]
    },
    {
     "name": "stdout",
     "output_type": "stream",
     "text": [
      "   max_depth eta\n",
      "18         6 0.2\n"
     ]
    },
    {
     "name": "stderr",
     "output_type": "stream",
     "text": [
      "70 % done.\n",
      "\n"
     ]
    },
    {
     "name": "stdout",
     "output_type": "stream",
     "text": [
      "   max_depth eta\n",
      "18         6 0.2\n"
     ]
    },
    {
     "name": "stderr",
     "output_type": "stream",
     "text": [
      "80 % done.\n",
      "\n"
     ]
    },
    {
     "name": "stdout",
     "output_type": "stream",
     "text": [
      "  max_depth  eta\n",
      "1         4 0.01\n"
     ]
    },
    {
     "name": "stderr",
     "output_type": "stream",
     "text": [
      "90 % done.\n",
      "\n"
     ]
    },
    {
     "name": "stdout",
     "output_type": "stream",
     "text": [
      "   max_depth eta\n",
      "23         6 0.3\n"
     ]
    },
    {
     "name": "stderr",
     "output_type": "stream",
     "text": [
      "100 % done.\n",
      "\n"
     ]
    }
   ],
   "source": [
    "result1 <- xgb.tsCV.mean(ds$label, ds$features, \n",
    "                              h=1, window=wind, step=peri,\n",
    "                              max_depth=max_depth, eta=eta)"
   ]
  },
  {
   "cell_type": "markdown",
   "id": "2d2fa0bd-653c-4122-a749-74ce4fb87f14",
   "metadata": {},
   "source": [
    "## Opt Tech Indicators"
   ]
  },
  {
   "cell_type": "markdown",
   "id": "9b73a861-046a-4974-850b-a463a729ca39",
   "metadata": {},
   "source": [
    "### get opt indi"
   ]
  },
  {
   "cell_type": "code",
   "execution_count": 3,
   "id": "d62c340e-210e-411f-820c-e4534d6d105f",
   "metadata": {},
   "outputs": [],
   "source": [
    "n.rsi <- c(10,14,18,22) # default 14\n",
    "n.bbands <- c(16,20,24,28) # default 20\n",
    "n.macd <- c(12,26,9) # default"
   ]
  },
  {
   "cell_type": "code",
   "execution_count": 4,
   "id": "fbaea120-4985-4221-82cc-fe2057abaaad",
   "metadata": {},
   "outputs": [
    {
     "data": {
      "text/html": [
       "48"
      ],
      "text/latex": [
       "48"
      ],
      "text/markdown": [
       "48"
      ],
      "text/plain": [
       "[1] 48"
      ]
     },
     "metadata": {},
     "output_type": "display_data"
    }
   ],
   "source": [
    "hg <- expand.grid(n.rsi=n.rsi, n.bbands=n.bbands, n.macd=n.macd)\n",
    "nrow(hg)"
   ]
  },
  {
   "cell_type": "code",
   "execution_count": 326,
   "id": "59c65666-cade-4b7d-8aa5-8eb5f6c44c5d",
   "metadata": {
    "scrolled": true,
    "tags": []
   },
   "outputs": [
    {
     "name": "stderr",
     "output_type": "stream",
     "text": [
      "Importance Sum (i=1) : 0.689\n",
      "\n",
      "Importance Sum (i=2) : 0.661\n",
      "\n",
      "Importance Sum (i=3) : 0.627\n",
      "\n",
      "Importance Sum (i=4) : 0.68\n",
      "\n",
      "Importance Sum (i=5) : 0.698\n",
      "\n",
      "Importance Sum (i=6) : 0.654\n",
      "\n",
      "Importance Sum (i=7) : 0.674\n",
      "\n",
      "Importance Sum (i=8) : 0.687\n",
      "\n",
      "Importance Sum (i=9) : 0.679\n",
      "\n",
      "Importance Sum (i=10) : 0.669\n",
      "\n",
      "Importance Sum (i=11) : 0.667\n",
      "\n",
      "Importance Sum (i=12) : 0.709\n",
      "\n",
      "Importance Sum (i=13) : 0.701\n",
      "\n",
      "Importance Sum (i=14) : 0.664\n",
      "\n",
      "Importance Sum (i=15) : 0.678\n",
      "\n",
      "Importance Sum (i=16) : 0.705\n",
      "\n",
      "Importance Sum (i=17) : 0.675\n",
      "\n",
      "Importance Sum (i=18) : 0.663\n",
      "\n",
      "Importance Sum (i=19) : 0.667\n",
      "\n",
      "Importance Sum (i=20) : 0.691\n",
      "\n",
      "Importance Sum (i=21) : 0.707\n",
      "\n",
      "Importance Sum (i=22) : 0.663\n",
      "\n",
      "Importance Sum (i=23) : 0.648\n",
      "\n",
      "Importance Sum (i=24) : 0.705\n",
      "\n",
      "Importance Sum (i=25) : 0.701\n",
      "\n",
      "Importance Sum (i=26) : 0.655\n",
      "\n",
      "Importance Sum (i=27) : 0.662\n",
      "\n",
      "Importance Sum (i=28) : 0.703\n",
      "\n",
      "Importance Sum (i=29) : 0.689\n",
      "\n",
      "Importance Sum (i=30) : 0.673\n",
      "\n",
      "Importance Sum (i=31) : 0.68\n",
      "\n",
      "Importance Sum (i=32) : 0.69\n",
      "\n",
      "Importance Sum (i=33) : 0.685\n",
      "\n",
      "Importance Sum (i=34) : 0.678\n",
      "\n",
      "Importance Sum (i=35) : 0.668\n",
      "\n",
      "Importance Sum (i=36) : 0.691\n",
      "\n",
      "Importance Sum (i=37) : 0.687\n",
      "\n",
      "Importance Sum (i=38) : 0.686\n",
      "\n",
      "Importance Sum (i=39) : 0.692\n",
      "\n",
      "Importance Sum (i=40) : 0.709\n",
      "\n",
      "Importance Sum (i=41) : 0.679\n",
      "\n",
      "Importance Sum (i=42) : 0.672\n",
      "\n",
      "Importance Sum (i=43) : 0.634\n",
      "\n",
      "Importance Sum (i=44) : 0.669\n",
      "\n",
      "Importance Sum (i=45) : 0.668\n",
      "\n",
      "Importance Sum (i=46) : 0.638\n",
      "\n",
      "Importance Sum (i=47) : 0.642\n",
      "\n",
      "Importance Sum (i=48) : 0.687\n",
      "\n",
      "Importance Sum (i=49) : 0.658\n",
      "\n",
      "Importance Sum (i=50) : 0.669\n",
      "\n",
      "Importance Sum (i=51) : 0.687\n",
      "\n",
      "Importance Sum (i=52) : 0.685\n",
      "\n",
      "Importance Sum (i=53) : 0.675\n",
      "\n",
      "Importance Sum (i=54) : 0.667\n",
      "\n",
      "Importance Sum (i=55) : 0.694\n",
      "\n",
      "Importance Sum (i=56) : 0.696\n",
      "\n",
      "Importance Sum (i=57) : 0.678\n",
      "\n",
      "Importance Sum (i=58) : 0.677\n",
      "\n",
      "Importance Sum (i=59) : 0.661\n",
      "\n",
      "Importance Sum (i=60) : 0.699\n",
      "\n",
      "Importance Sum (i=61) : 0.655\n",
      "\n",
      "Importance Sum (i=62) : 0.653\n",
      "\n",
      "Importance Sum (i=63) : 0.677\n",
      "\n",
      "Importance Sum (i=64) : 0.689\n",
      "\n",
      "Importance Sum (i=65) : 0.674\n",
      "\n",
      "Importance Sum (i=66) : 0.639\n",
      "\n",
      "Importance Sum (i=67) : 0.652\n",
      "\n",
      "Importance Sum (i=68) : 0.668\n",
      "\n",
      "Importance Sum (i=69) : 0.683\n",
      "\n",
      "Importance Sum (i=70) : 0.705\n",
      "\n",
      "Importance Sum (i=71) : 0.672\n",
      "\n",
      "Importance Sum (i=72) : 0.721\n",
      "\n",
      "Importance Sum (i=73) : 0.696\n",
      "\n",
      "Importance Sum (i=74) : 0.697\n",
      "\n",
      "Importance Sum (i=75) : 0.688\n",
      "\n",
      "Importance Sum (i=76) : 0.712\n",
      "\n",
      "Importance Sum (i=77) : 0.686\n",
      "\n",
      "Importance Sum (i=78) : 0.67\n",
      "\n",
      "Importance Sum (i=79) : 0.681\n",
      "\n",
      "Importance Sum (i=80) : 0.695\n",
      "\n",
      "Importance Sum (i=81) : 0.689\n",
      "\n",
      "Importance Sum (i=82) : 0.654\n",
      "\n",
      "Importance Sum (i=83) : 0.646\n",
      "\n",
      "Importance Sum (i=84) : 0.659\n",
      "\n",
      "Importance Sum (i=85) : 0.681\n",
      "\n",
      "Importance Sum (i=86) : 0.682\n",
      "\n",
      "Importance Sum (i=87) : 0.674\n",
      "\n",
      "Importance Sum (i=88) : 0.691\n",
      "\n",
      "Importance Sum (i=89) : 0.678\n",
      "\n",
      "Importance Sum (i=90) : 0.681\n",
      "\n",
      "Importance Sum (i=91) : 0.672\n",
      "\n",
      "Importance Sum (i=92) : 0.708\n",
      "\n",
      "Importance Sum (i=93) : 0.698\n",
      "\n",
      "Importance Sum (i=94) : 0.687\n",
      "\n",
      "Importance Sum (i=95) : 0.697\n",
      "\n",
      "Importance Sum (i=96) : 0.699\n",
      "\n",
      "Importance Sum (i=97) : 0.694\n",
      "\n",
      "Importance Sum (i=98) : 0.678\n",
      "\n",
      "Importance Sum (i=99) : 0.638\n",
      "\n",
      "Importance Sum (i=100) : 0.679\n",
      "\n"
     ]
    }
   ],
   "source": [
    "hg[, 'ind.sum'] <- 0\n",
    "for (i in 1:nrow(hg)) {\n",
    "    trainx <- calc.indi(train,\n",
    "                        n.rsi=hg$n.rsi[i], \n",
    "                        n.bbands=hg$n.bbands[i], \n",
    "                        n.macd=hg$n.macd[[i]])\n",
    "    ds <- get.dataset(trainx, lookahead)\n",
    "\n",
    "    fc <- xgb.forecast(ds$x.train.label, ds$x.train.features, \n",
    "                       ds$x.test.label, ds$x.test.features,\n",
    "                       max_depth=max_depth, eta=eta)\n",
    "\n",
    "    importance_matrix <- xgb.importance(model=fc$model)\n",
    "    importance_matrix <- importance_matrix[order(Feature),]\n",
    "\n",
    "    s <- sum(importance_matrix[c(1,3,4),2])\n",
    "    message(paste('Importance Sum (i=', i, ') : ', round(s,3), sep=''))\n",
    "    hg[i, 'ind.sum'] <- s\n",
    "}"
   ]
  },
  {
   "cell_type": "code",
   "execution_count": 331,
   "id": "78b56d4f-f240-44db-8a91-eabad02adce7",
   "metadata": {},
   "outputs": [
    {
     "data": {
      "text/html": [
       "<table class=\"dataframe\">\n",
       "<caption>A data.frame: 1 × 4</caption>\n",
       "<thead>\n",
       "\t<tr><th></th><th scope=col>n.rsi</th><th scope=col>n.bbands</th><th scope=col>n.macd</th><th scope=col>ind.sum</th></tr>\n",
       "\t<tr><th></th><th scope=col>&lt;dbl&gt;</th><th scope=col>&lt;dbl&gt;</th><th scope=col>&lt;list&gt;</th><th scope=col>&lt;dbl&gt;</th></tr>\n",
       "</thead>\n",
       "<tbody>\n",
       "\t<tr><th scope=row>72</th><td>45</td><td>16</td><td>8, 26, 9</td><td>0.7207095</td></tr>\n",
       "</tbody>\n",
       "</table>\n"
      ],
      "text/latex": [
       "A data.frame: 1 × 4\n",
       "\\begin{tabular}{r|llll}\n",
       "  & n.rsi & n.bbands & n.macd & ind.sum\\\\\n",
       "  & <dbl> & <dbl> & <list> & <dbl>\\\\\n",
       "\\hline\n",
       "\t72 & 45 & 16 & 8, 26, 9 & 0.7207095\\\\\n",
       "\\end{tabular}\n"
      ],
      "text/markdown": [
       "\n",
       "A data.frame: 1 × 4\n",
       "\n",
       "| <!--/--> | n.rsi &lt;dbl&gt; | n.bbands &lt;dbl&gt; | n.macd &lt;list&gt; | ind.sum &lt;dbl&gt; |\n",
       "|---|---|---|---|---|\n",
       "| 72 | 45 | 16 | 8, 26, 9 | 0.7207095 |\n",
       "\n"
      ],
      "text/plain": [
       "   n.rsi n.bbands n.macd   ind.sum  \n",
       "72 45    16       8, 26, 9 0.7207095"
      ]
     },
     "metadata": {},
     "output_type": "display_data"
    }
   ],
   "source": [
    "hg.opt <- hg[hg$ind.sum==max(hg$ind.sum),]"
   ]
  },
  {
   "cell_type": "code",
   "execution_count": 58,
   "id": "a0d8ffc9-1572-4bdc-9d20-933a7bcc9151",
   "metadata": {},
   "outputs": [],
   "source": [
    "n.rsi <- hg.opt$n.rsi\n",
    "n.bbands <- hg.opt$n.bbands\n",
    "n.macd <- hg.opt$n.macd\n",
    "\n",
    "trainx <- calc.indi(train, n.rsi, n.bbands, n.macd)\n",
    "ds <- get.dataset(trainx, lookahead)"
   ]
  },
  {
   "cell_type": "code",
   "execution_count": 59,
   "id": "86ab0c09-41ca-4d36-b81b-065644bacb4e",
   "metadata": {
    "scrolled": true,
    "tags": []
   },
   "outputs": [
    {
     "name": "stdout",
     "output_type": "stream",
     "text": [
      "   max_depth eta\n",
      "24         7 0.3\n"
     ]
    },
    {
     "name": "stderr",
     "output_type": "stream",
     "text": [
      "10 % done.\n",
      "\n"
     ]
    },
    {
     "name": "stdout",
     "output_type": "stream",
     "text": [
      "   max_depth eta\n",
      "21         4 0.3\n"
     ]
    },
    {
     "name": "stderr",
     "output_type": "stream",
     "text": [
      "20 % done.\n",
      "\n"
     ]
    },
    {
     "name": "stdout",
     "output_type": "stream",
     "text": [
      "   max_depth eta\n",
      "13         6 0.1\n"
     ]
    },
    {
     "name": "stderr",
     "output_type": "stream",
     "text": [
      "30 % done.\n",
      "\n"
     ]
    },
    {
     "name": "stdout",
     "output_type": "stream",
     "text": [
      "  max_depth  eta\n",
      "1         4 0.01\n"
     ]
    },
    {
     "name": "stderr",
     "output_type": "stream",
     "text": [
      "40 % done.\n",
      "\n"
     ]
    },
    {
     "name": "stdout",
     "output_type": "stream",
     "text": [
      "   max_depth eta\n",
      "22         5 0.3\n"
     ]
    },
    {
     "name": "stderr",
     "output_type": "stream",
     "text": [
      "50 % done.\n",
      "\n"
     ]
    },
    {
     "name": "stdout",
     "output_type": "stream",
     "text": [
      "   max_depth eta\n",
      "24         7 0.3\n"
     ]
    },
    {
     "name": "stderr",
     "output_type": "stream",
     "text": [
      "60 % done.\n",
      "\n"
     ]
    },
    {
     "name": "stdout",
     "output_type": "stream",
     "text": [
      "  max_depth  eta\n",
      "5         8 0.01\n"
     ]
    },
    {
     "name": "stderr",
     "output_type": "stream",
     "text": [
      "70 % done.\n",
      "\n"
     ]
    },
    {
     "name": "stdout",
     "output_type": "stream",
     "text": [
      "   max_depth eta\n",
      "12         5 0.1\n"
     ]
    },
    {
     "name": "stderr",
     "output_type": "stream",
     "text": [
      "80 % done.\n",
      "\n"
     ]
    },
    {
     "name": "stdout",
     "output_type": "stream",
     "text": [
      "  max_depth  eta\n",
      "1         4 0.01\n"
     ]
    },
    {
     "name": "stderr",
     "output_type": "stream",
     "text": [
      "90 % done.\n",
      "\n"
     ]
    },
    {
     "name": "stdout",
     "output_type": "stream",
     "text": [
      "  max_depth  eta\n",
      "1         4 0.01\n"
     ]
    },
    {
     "name": "stderr",
     "output_type": "stream",
     "text": [
      "100 % done.\n",
      "\n"
     ]
    }
   ],
   "source": [
    "result2 <- xgb.tsCV.mean(ds$label, ds$features, \n",
    "                              h=1, window=wind, step=peri,\n",
    "                              max_depth=max_depth, eta=eta)"
   ]
  },
  {
   "cell_type": "markdown",
   "id": "e6762e07-dfa1-415d-979c-f3720415042e",
   "metadata": {},
   "source": [
    "## Compare"
   ]
  },
  {
   "cell_type": "code",
   "execution_count": 60,
   "id": "82ffd869-5005-4fdb-8977-7712eac50d7c",
   "metadata": {},
   "outputs": [],
   "source": [
    "my.figsize(10,6)"
   ]
  },
  {
   "cell_type": "code",
   "execution_count": 61,
   "id": "12fa005b-99d2-4390-8adc-0eaf9f019ce6",
   "metadata": {},
   "outputs": [
    {
     "data": {
      "image/png": "[encoded data removed]",
      "text/plain": [
       "plot without title"
      ]
     },
     "metadata": {
      "image/png": {
       "height": 360,
       "width": 600
      }
     },
     "output_type": "display_data"
    }
   ],
   "source": [
    "errors.1 <- new.get_result(result1, '1.Default Indicators')\n",
    "errors.2 <- new.get_result(result2, '2.Opt.Indicators')\n",
    "\n",
    "x <- errors.1\n",
    "x <- rbind(x, errors.2)\n",
    "\n",
    "new.plot_errors(x, ylog=T)"
   ]
  },
  {
   "cell_type": "markdown",
   "id": "47888497-3e9c-4102-a293-f1429fc883a2",
   "metadata": {},
   "source": [
    "### save result"
   ]
  },
  {
   "cell_type": "code",
   "execution_count": 73,
   "id": "120fef0e-57e6-41e7-ae91-5608745ac02a",
   "metadata": {},
   "outputs": [],
   "source": [
    "x <- result.m05.1\n",
    "write.csv(x, file = \"gbm_result_m0501.csv\")\n",
    "x <- result.m05.2\n",
    "write.csv(x, file = \"gbm_result_m0502.csv\")"
   ]
  },
  {
   "cell_type": "markdown",
   "id": "48c19bff-e0da-44d1-b71c-5b163d407baf",
   "metadata": {},
   "source": [
    "### load result"
   ]
  },
  {
   "cell_type": "code",
   "execution_count": 32,
   "id": "2934e69f-478c-4b34-9e90-2334ec83da27",
   "metadata": {
    "scrolled": true,
    "tags": []
   },
   "outputs": [],
   "source": [
    "result.m05.1 <- read.csv(file = 'gbm_result_m0501.csv')\n",
    "result.m05.2 <- read.csv(file = 'gbm_result_m0502.csv')"
   ]
  },
  {
   "cell_type": "code",
   "execution_count": null,
   "id": "d9444e76-8af4-4166-bd25-5e43bb88ccb5",
   "metadata": {},
   "outputs": [],
   "source": []
  }
 ],
 "metadata": {
  "kernelspec": {
   "display_name": "R",
   "language": "R",
   "name": "ir"
  },
  "language_info": {
   "codemirror_mode": "r",
   "file_extension": ".r",
   "mimetype": "text/x-r-source",
   "name": "R",
   "pygments_lexer": "r",
   "version": "4.2.1"
  }
 },
 "nbformat": 4,
 "nbformat_minor": 5
}
